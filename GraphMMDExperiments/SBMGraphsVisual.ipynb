{
 "metadata": {
  "language_info": {
   "codemirror_mode": {
    "name": "ipython",
    "version": 3
   },
   "file_extension": ".py",
   "mimetype": "text/x-python",
   "name": "python",
   "nbconvert_exporter": "python",
   "pygments_lexer": "ipython3",
   "version": "3.8.2-final"
  },
  "orig_nbformat": 2,
  "kernelspec": {
   "name": "python3",
   "display_name": "Python 3.8.2 64-bit ('.venv')",
   "metadata": {
    "interpreter": {
     "hash": "73a028860b43d4769fbff148c75133d75a7cd8af5513f33c83e2292b4997b353"
    }
   }
  }
 },
 "nbformat": 4,
 "nbformat_minor": 2,
 "cells": [
  {
   "cell_type": "code",
   "execution_count": 1,
   "metadata": {},
   "outputs": [],
   "source": [
    "import networkx as nx\n",
    "import numpy as np\n",
    "import grakel as gk # graph kernels module\n",
    "import matplotlib.pyplot as plt\n",
    "import scipy\n",
    "import string\n",
    "import pickle # save data frame (results) in a .pkl file\n",
    "import pandas as pd\n",
    "import math\n",
    "from tqdm import tqdm # Estimation of loop time\n",
    "from datetime import datetime\n",
    "import os, sys"
   ]
  },
  {
   "cell_type": "code",
   "execution_count": 16,
   "metadata": {},
   "outputs": [
    {
     "output_type": "execute_result",
     "data": {
      "text/plain": [
       "       B  H0_true      N  alpha                            kernel  lambda  \\\n",
       "0  500.0      1.0  500.0  0.025  [{'name': 'WL-OA', 'n_iter': 3}]     0.0   \n",
       "1  500.0      1.0  500.0  0.050  [{'name': 'WL-OA', 'n_iter': 3}]     0.0   \n",
       "2  500.0      1.0  500.0  0.075  [{'name': 'WL-OA', 'n_iter': 3}]     0.0   \n",
       "3  500.0      1.0  500.0  0.100  [{'name': 'WL-OA', 'n_iter': 3}]     0.0   \n",
       "4  500.0      1.0  500.0  0.125  [{'name': 'WL-OA', 'n_iter': 3}]     0.0   \n",
       "5  500.0      1.0  500.0  0.150  [{'name': 'WL-OA', 'n_iter': 3}]     0.0   \n",
       "6  500.0      1.0  500.0  0.175  [{'name': 'WL-OA', 'n_iter': 3}]     0.0   \n",
       "7  500.0      1.0  500.0  0.200  [{'name': 'WL-OA', 'n_iter': 3}]     0.0   \n",
       "8  500.0      1.0  500.0  0.225  [{'name': 'WL-OA', 'n_iter': 3}]     0.0   \n",
       "9  500.0      1.0  500.0  0.250  [{'name': 'WL-OA', 'n_iter': 3}]     0.0   \n",
       "\n",
       "      m     n  nr_nodes_1  nr_nodes_2  ... power_avg_degree  \\\n",
       "0  10.0  10.0        60.0        60.0  ...              0.0   \n",
       "1  10.0  10.0        60.0        60.0  ...              0.0   \n",
       "2  10.0  10.0        60.0        60.0  ...              0.0   \n",
       "3  10.0  10.0        60.0        60.0  ...              0.0   \n",
       "4  10.0  10.0        60.0        60.0  ...              0.0   \n",
       "5  10.0  10.0        60.0        60.0  ...              0.0   \n",
       "6  10.0  10.0        60.0        60.0  ...              0.0   \n",
       "7  10.0  10.0        60.0        60.0  ...              0.0   \n",
       "8  10.0  10.0        60.0        60.0  ...              0.0   \n",
       "9  10.0  10.0        60.0        60.0  ...              0.0   \n",
       "\n",
       "  power_avg_neigh_degree  power_distfree_b  power_distfree_u  \\\n",
       "0                    0.0               0.0               0.0   \n",
       "1                    0.0               0.0               0.0   \n",
       "2                    0.0               0.0               0.0   \n",
       "3                    0.0               0.0               0.0   \n",
       "4                    0.0               0.0               0.0   \n",
       "5                    0.0               0.0               0.0   \n",
       "6                    0.0               0.0               0.0   \n",
       "7                    0.0               0.0               0.0   \n",
       "8                    0.0               0.0               0.0   \n",
       "9                    0.0               0.0               0.0   \n",
       "\n",
       "   power_max_degree  power_permutation_b  power_permutation_u  \\\n",
       "0             0.002                0.010                0.010   \n",
       "1             0.002                0.036                0.036   \n",
       "2             0.002                0.060                0.058   \n",
       "3             0.002                0.082                0.082   \n",
       "4             0.002                0.124                0.122   \n",
       "5             0.002                0.138                0.138   \n",
       "6             0.002                0.164                0.164   \n",
       "7             0.002                0.186                0.182   \n",
       "8             0.002                0.212                0.212   \n",
       "9             0.002                0.236                0.238   \n",
       "\n",
       "   power_transitivity        run_time                   timestap  \n",
       "0               0.002  0:00:48.545293 2021-04-06 17:09:18.647159  \n",
       "1               0.002  0:00:48.550280 2021-04-06 17:09:18.647159  \n",
       "2               0.002  0:00:48.556264 2021-04-06 17:09:18.647159  \n",
       "3               0.002  0:00:48.561251 2021-04-06 17:09:18.647159  \n",
       "4               0.002  0:00:48.566237 2021-04-06 17:09:18.647159  \n",
       "5               0.002  0:00:48.571224 2021-04-06 17:09:18.647159  \n",
       "6               0.002  0:00:48.576210 2021-04-06 17:09:18.647159  \n",
       "7               0.002  0:00:48.581197 2021-04-06 17:09:18.647159  \n",
       "8               0.002  0:00:48.586184 2021-04-06 17:09:18.647159  \n",
       "9               0.002  0:00:48.591675 2021-04-06 17:09:18.647159  \n",
       "\n",
       "[10 rows x 23 columns]"
      ],
      "text/html": "<div>\n<style scoped>\n    .dataframe tbody tr th:only-of-type {\n        vertical-align: middle;\n    }\n\n    .dataframe tbody tr th {\n        vertical-align: top;\n    }\n\n    .dataframe thead th {\n        text-align: right;\n    }\n</style>\n<table border=\"1\" class=\"dataframe\">\n  <thead>\n    <tr style=\"text-align: right;\">\n      <th></th>\n      <th>B</th>\n      <th>H0_true</th>\n      <th>N</th>\n      <th>alpha</th>\n      <th>kernel</th>\n      <th>lambda</th>\n      <th>m</th>\n      <th>n</th>\n      <th>nr_nodes_1</th>\n      <th>nr_nodes_2</th>\n      <th>...</th>\n      <th>power_avg_degree</th>\n      <th>power_avg_neigh_degree</th>\n      <th>power_distfree_b</th>\n      <th>power_distfree_u</th>\n      <th>power_max_degree</th>\n      <th>power_permutation_b</th>\n      <th>power_permutation_u</th>\n      <th>power_transitivity</th>\n      <th>run_time</th>\n      <th>timestap</th>\n    </tr>\n  </thead>\n  <tbody>\n    <tr>\n      <th>0</th>\n      <td>500.0</td>\n      <td>1.0</td>\n      <td>500.0</td>\n      <td>0.025</td>\n      <td>[{'name': 'WL-OA', 'n_iter': 3}]</td>\n      <td>0.0</td>\n      <td>10.0</td>\n      <td>10.0</td>\n      <td>60.0</td>\n      <td>60.0</td>\n      <td>...</td>\n      <td>0.0</td>\n      <td>0.0</td>\n      <td>0.0</td>\n      <td>0.0</td>\n      <td>0.002</td>\n      <td>0.010</td>\n      <td>0.010</td>\n      <td>0.002</td>\n      <td>0:00:48.545293</td>\n      <td>2021-04-06 17:09:18.647159</td>\n    </tr>\n    <tr>\n      <th>1</th>\n      <td>500.0</td>\n      <td>1.0</td>\n      <td>500.0</td>\n      <td>0.050</td>\n      <td>[{'name': 'WL-OA', 'n_iter': 3}]</td>\n      <td>0.0</td>\n      <td>10.0</td>\n      <td>10.0</td>\n      <td>60.0</td>\n      <td>60.0</td>\n      <td>...</td>\n      <td>0.0</td>\n      <td>0.0</td>\n      <td>0.0</td>\n      <td>0.0</td>\n      <td>0.002</td>\n      <td>0.036</td>\n      <td>0.036</td>\n      <td>0.002</td>\n      <td>0:00:48.550280</td>\n      <td>2021-04-06 17:09:18.647159</td>\n    </tr>\n    <tr>\n      <th>2</th>\n      <td>500.0</td>\n      <td>1.0</td>\n      <td>500.0</td>\n      <td>0.075</td>\n      <td>[{'name': 'WL-OA', 'n_iter': 3}]</td>\n      <td>0.0</td>\n      <td>10.0</td>\n      <td>10.0</td>\n      <td>60.0</td>\n      <td>60.0</td>\n      <td>...</td>\n      <td>0.0</td>\n      <td>0.0</td>\n      <td>0.0</td>\n      <td>0.0</td>\n      <td>0.002</td>\n      <td>0.060</td>\n      <td>0.058</td>\n      <td>0.002</td>\n      <td>0:00:48.556264</td>\n      <td>2021-04-06 17:09:18.647159</td>\n    </tr>\n    <tr>\n      <th>3</th>\n      <td>500.0</td>\n      <td>1.0</td>\n      <td>500.0</td>\n      <td>0.100</td>\n      <td>[{'name': 'WL-OA', 'n_iter': 3}]</td>\n      <td>0.0</td>\n      <td>10.0</td>\n      <td>10.0</td>\n      <td>60.0</td>\n      <td>60.0</td>\n      <td>...</td>\n      <td>0.0</td>\n      <td>0.0</td>\n      <td>0.0</td>\n      <td>0.0</td>\n      <td>0.002</td>\n      <td>0.082</td>\n      <td>0.082</td>\n      <td>0.002</td>\n      <td>0:00:48.561251</td>\n      <td>2021-04-06 17:09:18.647159</td>\n    </tr>\n    <tr>\n      <th>4</th>\n      <td>500.0</td>\n      <td>1.0</td>\n      <td>500.0</td>\n      <td>0.125</td>\n      <td>[{'name': 'WL-OA', 'n_iter': 3}]</td>\n      <td>0.0</td>\n      <td>10.0</td>\n      <td>10.0</td>\n      <td>60.0</td>\n      <td>60.0</td>\n      <td>...</td>\n      <td>0.0</td>\n      <td>0.0</td>\n      <td>0.0</td>\n      <td>0.0</td>\n      <td>0.002</td>\n      <td>0.124</td>\n      <td>0.122</td>\n      <td>0.002</td>\n      <td>0:00:48.566237</td>\n      <td>2021-04-06 17:09:18.647159</td>\n    </tr>\n    <tr>\n      <th>5</th>\n      <td>500.0</td>\n      <td>1.0</td>\n      <td>500.0</td>\n      <td>0.150</td>\n      <td>[{'name': 'WL-OA', 'n_iter': 3}]</td>\n      <td>0.0</td>\n      <td>10.0</td>\n      <td>10.0</td>\n      <td>60.0</td>\n      <td>60.0</td>\n      <td>...</td>\n      <td>0.0</td>\n      <td>0.0</td>\n      <td>0.0</td>\n      <td>0.0</td>\n      <td>0.002</td>\n      <td>0.138</td>\n      <td>0.138</td>\n      <td>0.002</td>\n      <td>0:00:48.571224</td>\n      <td>2021-04-06 17:09:18.647159</td>\n    </tr>\n    <tr>\n      <th>6</th>\n      <td>500.0</td>\n      <td>1.0</td>\n      <td>500.0</td>\n      <td>0.175</td>\n      <td>[{'name': 'WL-OA', 'n_iter': 3}]</td>\n      <td>0.0</td>\n      <td>10.0</td>\n      <td>10.0</td>\n      <td>60.0</td>\n      <td>60.0</td>\n      <td>...</td>\n      <td>0.0</td>\n      <td>0.0</td>\n      <td>0.0</td>\n      <td>0.0</td>\n      <td>0.002</td>\n      <td>0.164</td>\n      <td>0.164</td>\n      <td>0.002</td>\n      <td>0:00:48.576210</td>\n      <td>2021-04-06 17:09:18.647159</td>\n    </tr>\n    <tr>\n      <th>7</th>\n      <td>500.0</td>\n      <td>1.0</td>\n      <td>500.0</td>\n      <td>0.200</td>\n      <td>[{'name': 'WL-OA', 'n_iter': 3}]</td>\n      <td>0.0</td>\n      <td>10.0</td>\n      <td>10.0</td>\n      <td>60.0</td>\n      <td>60.0</td>\n      <td>...</td>\n      <td>0.0</td>\n      <td>0.0</td>\n      <td>0.0</td>\n      <td>0.0</td>\n      <td>0.002</td>\n      <td>0.186</td>\n      <td>0.182</td>\n      <td>0.002</td>\n      <td>0:00:48.581197</td>\n      <td>2021-04-06 17:09:18.647159</td>\n    </tr>\n    <tr>\n      <th>8</th>\n      <td>500.0</td>\n      <td>1.0</td>\n      <td>500.0</td>\n      <td>0.225</td>\n      <td>[{'name': 'WL-OA', 'n_iter': 3}]</td>\n      <td>0.0</td>\n      <td>10.0</td>\n      <td>10.0</td>\n      <td>60.0</td>\n      <td>60.0</td>\n      <td>...</td>\n      <td>0.0</td>\n      <td>0.0</td>\n      <td>0.0</td>\n      <td>0.0</td>\n      <td>0.002</td>\n      <td>0.212</td>\n      <td>0.212</td>\n      <td>0.002</td>\n      <td>0:00:48.586184</td>\n      <td>2021-04-06 17:09:18.647159</td>\n    </tr>\n    <tr>\n      <th>9</th>\n      <td>500.0</td>\n      <td>1.0</td>\n      <td>500.0</td>\n      <td>0.250</td>\n      <td>[{'name': 'WL-OA', 'n_iter': 3}]</td>\n      <td>0.0</td>\n      <td>10.0</td>\n      <td>10.0</td>\n      <td>60.0</td>\n      <td>60.0</td>\n      <td>...</td>\n      <td>0.0</td>\n      <td>0.0</td>\n      <td>0.0</td>\n      <td>0.0</td>\n      <td>0.002</td>\n      <td>0.236</td>\n      <td>0.238</td>\n      <td>0.002</td>\n      <td>0:00:48.591675</td>\n      <td>2021-04-06 17:09:18.647159</td>\n    </tr>\n  </tbody>\n</table>\n<p>10 rows × 23 columns</p>\n</div>"
     },
     "metadata": {},
     "execution_count": 16
    }
   ],
   "source": [
    "df = pd.read_pickle(\"../data/SBM/wl_oa_10samples.pkl\")\n",
    "df.head(10)"
   ]
  },
  {
   "cell_type": "code",
   "execution_count": 18,
   "metadata": {},
   "outputs": [
    {
     "output_type": "error",
     "ename": "ValueError",
     "evalue": "Unrecognized character l in format string",
     "traceback": [
      "\u001b[1;31m---------------------------------------------------------------------------\u001b[0m",
      "\u001b[1;31mValueError\u001b[0m                                Traceback (most recent call last)",
      "\u001b[1;32m<ipython-input-18-54fae120db42>\u001b[0m in \u001b[0;36m<module>\u001b[1;34m\u001b[0m\n\u001b[0;32m      2\u001b[0m \u001b[1;33m\u001b[0m\u001b[0m\n\u001b[0;32m      3\u001b[0m \u001b[1;32mfor\u001b[0m \u001b[0mi\u001b[0m \u001b[1;32min\u001b[0m \u001b[0mnp\u001b[0m\u001b[1;33m.\u001b[0m\u001b[0munique\u001b[0m\u001b[1;33m(\u001b[0m\u001b[0mdf\u001b[0m\u001b[1;33m[\u001b[0m\u001b[1;34m'lambda'\u001b[0m\u001b[1;33m]\u001b[0m\u001b[1;33m)\u001b[0m\u001b[1;33m:\u001b[0m\u001b[1;33m\u001b[0m\u001b[1;33m\u001b[0m\u001b[0m\n\u001b[1;32m----> 4\u001b[1;33m     \u001b[0max\u001b[0m\u001b[1;33m.\u001b[0m\u001b[0mplot\u001b[0m\u001b[1;33m(\u001b[0m\u001b[0mdf\u001b[0m\u001b[1;33m[\u001b[0m\u001b[1;34m'alpha'\u001b[0m\u001b[1;33m]\u001b[0m\u001b[1;33m.\u001b[0m\u001b[0mloc\u001b[0m\u001b[1;33m[\u001b[0m\u001b[1;33m(\u001b[0m\u001b[0mdf\u001b[0m\u001b[1;33m[\u001b[0m\u001b[1;34m'lambda'\u001b[0m\u001b[1;33m]\u001b[0m \u001b[1;33m==\u001b[0m \u001b[0mi\u001b[0m\u001b[1;33m)\u001b[0m\u001b[1;33m]\u001b[0m\u001b[1;33m,\u001b[0m \u001b[0mdf\u001b[0m\u001b[1;33m[\u001b[0m\u001b[1;34m'power_permutation_b'\u001b[0m\u001b[1;33m]\u001b[0m\u001b[1;33m.\u001b[0m\u001b[0mloc\u001b[0m\u001b[1;33m[\u001b[0m\u001b[1;33m(\u001b[0m\u001b[0mdf\u001b[0m\u001b[1;33m[\u001b[0m\u001b[1;34m'lambda'\u001b[0m\u001b[1;33m]\u001b[0m \u001b[1;33m==\u001b[0m \u001b[0mi\u001b[0m\u001b[1;33m)\u001b[0m\u001b[1;33m]\u001b[0m\u001b[1;33m,\u001b[0m \u001b[1;34m'l'\u001b[0m\u001b[1;33m,\u001b[0m \u001b[0mlabel\u001b[0m\u001b[1;33m=\u001b[0m\u001b[0mstr\u001b[0m\u001b[1;33m(\u001b[0m\u001b[0mi\u001b[0m\u001b[1;33m)\u001b[0m\u001b[1;33m)\u001b[0m\u001b[1;33m\u001b[0m\u001b[1;33m\u001b[0m\u001b[0m\n\u001b[0m\u001b[0;32m      5\u001b[0m \u001b[1;33m\u001b[0m\u001b[0m\n\u001b[0;32m      6\u001b[0m \u001b[1;31m# lines, = ax.plot(df_Binomial_WLOA['nr_nodes_1'].loc[(df['p_edge_1'] == p)],\u001b[0m\u001b[1;33m\u001b[0m\u001b[1;33m\u001b[0m\u001b[1;33m\u001b[0m\u001b[0m\n",
      "\u001b[1;32mc:\\Users\\ragna\\Documents\\Ragnar\\Code\\MMDGraph\\.venv\\lib\\site-packages\\matplotlib\\axes\\_axes.py\u001b[0m in \u001b[0;36mplot\u001b[1;34m(self, scalex, scaley, data, *args, **kwargs)\u001b[0m\n\u001b[0;32m   1741\u001b[0m         \"\"\"\n\u001b[0;32m   1742\u001b[0m         \u001b[0mkwargs\u001b[0m \u001b[1;33m=\u001b[0m \u001b[0mcbook\u001b[0m\u001b[1;33m.\u001b[0m\u001b[0mnormalize_kwargs\u001b[0m\u001b[1;33m(\u001b[0m\u001b[0mkwargs\u001b[0m\u001b[1;33m,\u001b[0m \u001b[0mmlines\u001b[0m\u001b[1;33m.\u001b[0m\u001b[0mLine2D\u001b[0m\u001b[1;33m)\u001b[0m\u001b[1;33m\u001b[0m\u001b[1;33m\u001b[0m\u001b[0m\n\u001b[1;32m-> 1743\u001b[1;33m         \u001b[0mlines\u001b[0m \u001b[1;33m=\u001b[0m \u001b[1;33m[\u001b[0m\u001b[1;33m*\u001b[0m\u001b[0mself\u001b[0m\u001b[1;33m.\u001b[0m\u001b[0m_get_lines\u001b[0m\u001b[1;33m(\u001b[0m\u001b[1;33m*\u001b[0m\u001b[0margs\u001b[0m\u001b[1;33m,\u001b[0m \u001b[0mdata\u001b[0m\u001b[1;33m=\u001b[0m\u001b[0mdata\u001b[0m\u001b[1;33m,\u001b[0m \u001b[1;33m**\u001b[0m\u001b[0mkwargs\u001b[0m\u001b[1;33m)\u001b[0m\u001b[1;33m]\u001b[0m\u001b[1;33m\u001b[0m\u001b[1;33m\u001b[0m\u001b[0m\n\u001b[0m\u001b[0;32m   1744\u001b[0m         \u001b[1;32mfor\u001b[0m \u001b[0mline\u001b[0m \u001b[1;32min\u001b[0m \u001b[0mlines\u001b[0m\u001b[1;33m:\u001b[0m\u001b[1;33m\u001b[0m\u001b[1;33m\u001b[0m\u001b[0m\n\u001b[0;32m   1745\u001b[0m             \u001b[0mself\u001b[0m\u001b[1;33m.\u001b[0m\u001b[0madd_line\u001b[0m\u001b[1;33m(\u001b[0m\u001b[0mline\u001b[0m\u001b[1;33m)\u001b[0m\u001b[1;33m\u001b[0m\u001b[1;33m\u001b[0m\u001b[0m\n",
      "\u001b[1;32mc:\\Users\\ragna\\Documents\\Ragnar\\Code\\MMDGraph\\.venv\\lib\\site-packages\\matplotlib\\axes\\_base.py\u001b[0m in \u001b[0;36m__call__\u001b[1;34m(self, data, *args, **kwargs)\u001b[0m\n\u001b[0;32m    271\u001b[0m                 \u001b[0mthis\u001b[0m \u001b[1;33m+=\u001b[0m \u001b[0margs\u001b[0m\u001b[1;33m[\u001b[0m\u001b[1;36m0\u001b[0m\u001b[1;33m]\u001b[0m\u001b[1;33m,\u001b[0m\u001b[1;33m\u001b[0m\u001b[1;33m\u001b[0m\u001b[0m\n\u001b[0;32m    272\u001b[0m                 \u001b[0margs\u001b[0m \u001b[1;33m=\u001b[0m \u001b[0margs\u001b[0m\u001b[1;33m[\u001b[0m\u001b[1;36m1\u001b[0m\u001b[1;33m:\u001b[0m\u001b[1;33m]\u001b[0m\u001b[1;33m\u001b[0m\u001b[1;33m\u001b[0m\u001b[0m\n\u001b[1;32m--> 273\u001b[1;33m             \u001b[1;32myield\u001b[0m \u001b[1;32mfrom\u001b[0m \u001b[0mself\u001b[0m\u001b[1;33m.\u001b[0m\u001b[0m_plot_args\u001b[0m\u001b[1;33m(\u001b[0m\u001b[0mthis\u001b[0m\u001b[1;33m,\u001b[0m \u001b[0mkwargs\u001b[0m\u001b[1;33m)\u001b[0m\u001b[1;33m\u001b[0m\u001b[1;33m\u001b[0m\u001b[0m\n\u001b[0m\u001b[0;32m    274\u001b[0m \u001b[1;33m\u001b[0m\u001b[0m\n\u001b[0;32m    275\u001b[0m     \u001b[1;32mdef\u001b[0m \u001b[0mget_next_color\u001b[0m\u001b[1;33m(\u001b[0m\u001b[0mself\u001b[0m\u001b[1;33m)\u001b[0m\u001b[1;33m:\u001b[0m\u001b[1;33m\u001b[0m\u001b[1;33m\u001b[0m\u001b[0m\n",
      "\u001b[1;32mc:\\Users\\ragna\\Documents\\Ragnar\\Code\\MMDGraph\\.venv\\lib\\site-packages\\matplotlib\\axes\\_base.py\u001b[0m in \u001b[0;36m_plot_args\u001b[1;34m(self, tup, kwargs)\u001b[0m\n\u001b[0;32m    367\u001b[0m     \u001b[1;32mdef\u001b[0m \u001b[0m_plot_args\u001b[0m\u001b[1;33m(\u001b[0m\u001b[0mself\u001b[0m\u001b[1;33m,\u001b[0m \u001b[0mtup\u001b[0m\u001b[1;33m,\u001b[0m \u001b[0mkwargs\u001b[0m\u001b[1;33m)\u001b[0m\u001b[1;33m:\u001b[0m\u001b[1;33m\u001b[0m\u001b[1;33m\u001b[0m\u001b[0m\n\u001b[0;32m    368\u001b[0m         \u001b[1;32mif\u001b[0m \u001b[0mlen\u001b[0m\u001b[1;33m(\u001b[0m\u001b[0mtup\u001b[0m\u001b[1;33m)\u001b[0m \u001b[1;33m>\u001b[0m \u001b[1;36m1\u001b[0m \u001b[1;32mand\u001b[0m \u001b[0misinstance\u001b[0m\u001b[1;33m(\u001b[0m\u001b[0mtup\u001b[0m\u001b[1;33m[\u001b[0m\u001b[1;33m-\u001b[0m\u001b[1;36m1\u001b[0m\u001b[1;33m]\u001b[0m\u001b[1;33m,\u001b[0m \u001b[0mstr\u001b[0m\u001b[1;33m)\u001b[0m\u001b[1;33m:\u001b[0m\u001b[1;33m\u001b[0m\u001b[1;33m\u001b[0m\u001b[0m\n\u001b[1;32m--> 369\u001b[1;33m             \u001b[0mlinestyle\u001b[0m\u001b[1;33m,\u001b[0m \u001b[0mmarker\u001b[0m\u001b[1;33m,\u001b[0m \u001b[0mcolor\u001b[0m \u001b[1;33m=\u001b[0m \u001b[0m_process_plot_format\u001b[0m\u001b[1;33m(\u001b[0m\u001b[0mtup\u001b[0m\u001b[1;33m[\u001b[0m\u001b[1;33m-\u001b[0m\u001b[1;36m1\u001b[0m\u001b[1;33m]\u001b[0m\u001b[1;33m)\u001b[0m\u001b[1;33m\u001b[0m\u001b[1;33m\u001b[0m\u001b[0m\n\u001b[0m\u001b[0;32m    370\u001b[0m             \u001b[0mtup\u001b[0m \u001b[1;33m=\u001b[0m \u001b[0mtup\u001b[0m\u001b[1;33m[\u001b[0m\u001b[1;33m:\u001b[0m\u001b[1;33m-\u001b[0m\u001b[1;36m1\u001b[0m\u001b[1;33m]\u001b[0m\u001b[1;33m\u001b[0m\u001b[1;33m\u001b[0m\u001b[0m\n\u001b[0;32m    371\u001b[0m         \u001b[1;32melif\u001b[0m \u001b[0mlen\u001b[0m\u001b[1;33m(\u001b[0m\u001b[0mtup\u001b[0m\u001b[1;33m)\u001b[0m \u001b[1;33m==\u001b[0m \u001b[1;36m3\u001b[0m\u001b[1;33m:\u001b[0m\u001b[1;33m\u001b[0m\u001b[1;33m\u001b[0m\u001b[0m\n",
      "\u001b[1;32mc:\\Users\\ragna\\Documents\\Ragnar\\Code\\MMDGraph\\.venv\\lib\\site-packages\\matplotlib\\axes\\_base.py\u001b[0m in \u001b[0;36m_process_plot_format\u001b[1;34m(fmt)\u001b[0m\n\u001b[0;32m    159\u001b[0m             \u001b[0mi\u001b[0m \u001b[1;33m+=\u001b[0m \u001b[1;36m2\u001b[0m\u001b[1;33m\u001b[0m\u001b[1;33m\u001b[0m\u001b[0m\n\u001b[0;32m    160\u001b[0m         \u001b[1;32melse\u001b[0m\u001b[1;33m:\u001b[0m\u001b[1;33m\u001b[0m\u001b[1;33m\u001b[0m\u001b[0m\n\u001b[1;32m--> 161\u001b[1;33m             raise ValueError(\n\u001b[0m\u001b[0;32m    162\u001b[0m                 'Unrecognized character %c in format string' % c)\n\u001b[0;32m    163\u001b[0m \u001b[1;33m\u001b[0m\u001b[0m\n",
      "\u001b[1;31mValueError\u001b[0m: Unrecognized character l in format string"
     ]
    }
   ],
   "source": [
    "fig, ax = plt.subplots()\n",
    "\n",
    "for i in np.unique(df['lambda']):\n",
    "    ax.plot(df['alpha'].loc[(df['lambda'] == i)], df['power_permutation_b'].loc[(df['lambda'] == i)], '-', label=str(i))\n",
    "\n",
    "# lines, = ax.plot(df_Binomial_WLOA['nr_nodes_1'].loc[(df['p_edge_1'] == p)], \n",
    "#             df['rejections_u'].loc[(df['p_edge_1'] == p)], 'x', label='rejections_u')\n",
    "# lines, = ax.plot(df['nr_nodes_1'].loc[(df['p_edge_1'] == p)], \n",
    "#             df['rejections_statistic_b'].loc[(df['p_edge_1'] == p)], '*', label='rejections_statistic_b')\n",
    "# lines, = ax.plot(df['nr_nodes_1'].loc[(df['p_edge_1'] == p)], \n",
    "#             df['rejections_statistic_u'].loc[(df['p_edge_1'] == p)], '+', label='rejections_statistic_u')\n",
    "\n",
    "\n",
    "ax.legend(title = 'Lambda')\n",
    "ax.set_xlabel('alpha')\n",
    "ax.set_ylabel('Power')\n",
    "plt.show()"
   ]
  },
  {
   "cell_type": "code",
   "execution_count": null,
   "metadata": {},
   "outputs": [],
   "source": []
  }
 ]
}