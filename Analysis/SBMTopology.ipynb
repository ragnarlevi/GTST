{
 "cells": [
  {
   "cell_type": "code",
   "execution_count": 1,
   "metadata": {},
   "outputs": [],
   "source": [
    "import networkx as nx\n",
    "import numpy as np\n",
    "import matplotlib.pyplot as plt\n",
    "import matplotlib\n",
    "from matplotlib.cm import get_cmap\n",
    "import seaborn as sns\n",
    "import string\n",
    "import pickle # save data frame (results) in a .pkl file\n",
    "import pandas as pd\n",
    "from datetime import datetime\n",
    "import os, sys\n",
    "import re\n",
    "\n",
    "\n",
    "sys.path.insert(0, 'C:/Users/ragna/Documents/Ragnar/Code/MMDGraph')\n",
    "#from importlib import reload\n",
    "from mmdutils import readfoldertopanda, PlotROCGeneral, plotVaryingBGDEG, findAUC\n",
    "#reload(readfoldertopanda)\n",
    "import importlib\n",
    "importlib.reload(sys.modules['mmdutils'])\n",
    "from mmdutils import readfoldertopanda, PlotROCGeneral, plotVaryingBGDEG, findAUC\n"
   ]
  },
  {
   "cell_type": "code",
   "execution_count": 2,
   "metadata": {},
   "outputs": [],
   "source": [
    "keys = ['probs_1', 'probs_2', 'sizes_1','sizes_2', 'n', 'm', 'diff']\n",
    "params_kernel = {}\n",
    "data_auc = {}\n",
    "data = {}"
   ]
  },
  {
   "cell_type": "markdown",
   "metadata": {},
   "source": [
    "# WL"
   ]
  },
  {
   "cell_type": "code",
   "execution_count": 3,
   "metadata": {},
   "outputs": [
    {
     "name": "stdout",
     "output_type": "stream",
     "text": [
      "[0]\n"
     ]
    },
    {
     "data": {
      "text/plain": [
       "Index(['kernel', 'alpha', 'diff', 'normalize', 'probs_1', 'sizes_1', 'probs_2',\n",
       "       'sizes_2', 'n', 'm', 'timestap', 'B', 'N', 'run_time', 'MMD_b',\n",
       "       'MMD_b_distfree', 'MMD_u', 'MMD_u_distfree', 'nitr', 'with_labels',\n",
       "       'sinkhorn'],\n",
       "      dtype='object')"
      ]
     },
     "execution_count": 3,
     "metadata": {},
     "output_type": "execute_result"
    }
   ],
   "source": [
    "data['WL'] = readfoldertopanda(\"../data/SBMTopology/WL\")\n",
    "#WL['wl_itr'] = get_wl_iteration(WL['kernel'])\n",
    "print(np.unique(data['WL']['normalize']))\n",
    "data['WL'].columns"
   ]
  },
  {
   "cell_type": "code",
   "execution_count": 2,
   "metadata": {},
   "outputs": [
    {
     "ename": "NameError",
     "evalue": "name 'data' is not defined",
     "output_type": "error",
     "traceback": [
      "\u001b[1;31m---------------------------------------------------------------------------\u001b[0m",
      "\u001b[1;31mNameError\u001b[0m                                 Traceback (most recent call last)",
      "\u001b[1;32m~\\AppData\\Local\\Temp/ipykernel_15724/3447662837.py\u001b[0m in \u001b[0;36m<module>\u001b[1;34m\u001b[0m\n\u001b[0;32m      6\u001b[0m \u001b[1;33m\u001b[0m\u001b[0m\n\u001b[0;32m      7\u001b[0m \u001b[1;33m\u001b[0m\u001b[0m\n\u001b[1;32m----> 8\u001b[1;33m \u001b[0mplotVaryingBGDEG\u001b[0m\u001b[1;33m(\u001b[0m\u001b[0mdf\u001b[0m \u001b[1;33m=\u001b[0m \u001b[0mdata\u001b[0m\u001b[1;33m[\u001b[0m\u001b[1;34m'WL'\u001b[0m\u001b[1;33m]\u001b[0m\u001b[1;33m.\u001b[0m\u001b[0mcopy\u001b[0m\u001b[1;33m(\u001b[0m\u001b[1;33m)\u001b[0m\u001b[1;33m,\u001b[0m \u001b[0mparam_vary_name\u001b[0m \u001b[1;33m=\u001b[0m \u001b[1;34m\"nitr\"\u001b[0m\u001b[1;33m,\u001b[0m \u001b[0mparams_fixed\u001b[0m \u001b[1;33m=\u001b[0m \u001b[0mparams_fixed\u001b[0m\u001b[1;33m,\u001b[0m \u001b[0mmmd_stat\u001b[0m \u001b[1;33m=\u001b[0m \u001b[1;34m\"MMD_b\"\u001b[0m\u001b[1;33m,\u001b[0m \u001b[0mcolor_name\u001b[0m \u001b[1;33m=\u001b[0m \u001b[1;34m\"tab10\"\u001b[0m\u001b[1;33m)\u001b[0m\u001b[1;33m\u001b[0m\u001b[1;33m\u001b[0m\u001b[0m\n\u001b[0m",
      "\u001b[1;31mNameError\u001b[0m: name 'data' is not defined"
     ]
    }
   ],
   "source": [
    "params_fixed = {'n':20,\n",
    "                'm':20,\n",
    "                'normalize':0,\n",
    "                'diff':0.1\n",
    "                }\n",
    "\n",
    "\n",
    "plotVaryingBGDEG(df = data['WL'].copy(), param_vary_name = \"nitr\", params_fixed = params_fixed, mmd_stat = \"MMD_b\", color_name = \"tab10\")\n"
   ]
  }
 ],
 "metadata": {
  "interpreter": {
   "hash": "73a028860b43d4769fbff148c75133d75a7cd8af5513f33c83e2292b4997b353"
  },
  "kernelspec": {
   "display_name": "Python 3.8.2 64-bit ('.venv': venv)",
   "name": "python3"
  },
  "language_info": {
   "codemirror_mode": {
    "name": "ipython",
    "version": 3
   },
   "file_extension": ".py",
   "mimetype": "text/x-python",
   "name": "python",
   "nbconvert_exporter": "python",
   "pygments_lexer": "ipython3",
   "version": "3.8.2"
  },
  "orig_nbformat": 4
 },
 "nbformat": 4,
 "nbformat_minor": 2
}
