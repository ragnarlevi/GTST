{
 "cells": [
  {
   "cell_type": "code",
   "execution_count": 5,
   "metadata": {},
   "outputs": [],
   "source": [
    "import networkx as nx\n",
    "import numpy as np\n",
    "import matplotlib.pyplot as plt\n",
    "import matplotlib\n",
    "from matplotlib.cm import get_cmap\n",
    "import seaborn as sns\n",
    "import string\n",
    "import pickle # save data frame (results) in a .pkl file\n",
    "import pandas as pd\n",
    "from datetime import datetime\n",
    "import os, sys\n",
    "import re\n",
    "\n",
    "\n",
    "\n",
    "sys.path.insert(0, 'C:/Users/User/Code/MMDGraph')\n",
    "#from importlib import reload\n",
    "from mmdutils import readfoldertopanda, PlotROCGeneral, plotVaryingBGDEG, findAUC\n",
    "#reload(readfoldertopanda)\n",
    "import importlib\n",
    "importlib.reload(sys.modules['mmdutils'])\n",
    "from mmdutils import readfoldertopanda, PlotROCGeneral, plotVaryingBGDEG, findAUC\n",
    "import MMDforGraphs as mg\n",
    "importlib.reload(sys.modules['MMDforGraphs'])\n",
    "import myKernels.WWL as wl"
   ]
  },
  {
   "cell_type": "code",
   "execution_count": 7,
   "metadata": {},
   "outputs": [],
   "source": [
    "keys = ['probs_1', 'probs_2', 'sizes_1','sizes_2', 'n', 'm', 'noise', 'mean11', 'mean12', 'mean13', 'mean21', 'mean22', 'mean23']\n",
    "params_kernel = {}\n",
    "data_auc = {}\n",
    "data = {}"
   ]
  },
  {
   "cell_type": "markdown",
   "metadata": {},
   "source": [
    "# RW"
   ]
  },
  {
   "cell_type": "code",
   "execution_count": 24,
   "metadata": {},
   "outputs": [
    {
     "data": {
      "text/plain": [
       "array([ 1.,  2.,  4.,  6.,  8., 20., nan])"
      ]
     },
     "execution_count": 24,
     "metadata": {},
     "output_type": "execute_result"
    }
   ],
   "source": [
    "data['RW'] = readfoldertopanda(\"../data/ScaleFree/RW\")\n",
    "data['RW'].columns\n",
    "np.unique(data['RW']['tmax'])"
   ]
  },
  {
   "cell_type": "code",
   "execution_count": 43,
   "metadata": {},
   "outputs": [
    {
     "data": {
      "text/plain": [
       "[<matplotlib.lines.Line2D at 0x1ff3fe51e70>]"
      ]
     },
     "execution_count": 43,
     "metadata": {},
     "output_type": "execute_result"
    },
    {
     "data": {
      "image/png": "[encoded data removed]",
      "text/plain": [
       "<Figure size 432x288 with 1 Axes>"
      ]
     },
     "metadata": {
      "needs_background": "light"
     },
     "output_type": "display_data"
    }
   ],
   "source": [
    "params_fixed = {'n':60,\n",
    "                'm':60,\n",
    "                'degree_1':2.1,\n",
    "                'degree_2':2.2,\n",
    "                'type':'gaussian'\n",
    "                }\n",
    "\n",
    "\n",
    "\n",
    "plt.plot(data['RW']['alpha'].loc[(data['RW']['tmax'] == 1)], data['RW']['MMD_u'].loc[(data['RW']['tmax'] == 1)])\n",
    "plt.plot(data['RW']['alpha'].loc[(data['RW']['tmax'] == 2)], data['RW']['MMD_u'].loc[(data['RW']['tmax'] == 2)])\n",
    "plt.plot(data['RW']['alpha'].loc[(data['RW']['tmax'] == 4)], data['RW']['MMD_u'].loc[(data['RW']['tmax'] == 4)])\n",
    "plt.plot(data['RW']['alpha'].loc[(data['RW']['tmax'] == 6)], data['RW']['MMD_u'].loc[(data['RW']['tmax'] == 6)])\n",
    "plt.plot(data['RW']['alpha'].loc[(data['RW']['tmax'] == 8)], data['RW']['MMD_u'].loc[(data['RW']['tmax'] == 8)])\n",
    "# plt.plot(data['RW']['alpha'].loc[(data['RW']['tmax'] == 1)], data['RW']['MMD_u'].loc[(data['RW']['tmax'] == 1)])\n",
    "plt.plot(data['RW']['alpha'].loc[data['RW']['type'] == 'ARKU_plus'], data['RW']['MMD_u'].loc[data['RW']['type'] == 'ARKU_plus'])\n",
    "\n",
    "#plt.plot(data['RW']['alpha'].loc[data['RW']['type'] == 'ARKU_plus'], data['RW']['MMD_b'].loc[data['RW']['type'] == 'ARKU_plus'])\n",
    "#plt.plot(data['RW']['alpha'].loc[data['RW']['type'] == 'ARKU_plus'], data['RW']['MONK_EST'].loc[data['RW']['type'] == 'ARKU_plus'])\n"
   ]
  }
 ],
 "metadata": {
  "interpreter": {
   "hash": "b3a23dbdb8d6c5d2d354e5fcbf2ce7f9d88b80e89704f9f553a2c9892ad9d91d"
  },
  "kernelspec": {
   "display_name": "Python 3.10.0 (conda)",
   "language": "python",
   "name": "python3"
  },
  "language_info": {
   "codemirror_mode": {
    "name": "ipython",
    "version": 3
   },
   "file_extension": ".py",
   "mimetype": "text/x-python",
   "name": "python",
   "nbconvert_exporter": "python",
   "pygments_lexer": "ipython3",
   "version": "3.10.0"
  },
  "orig_nbformat": 4
 },
 "nbformat": 4,
 "nbformat_minor": 2
}
