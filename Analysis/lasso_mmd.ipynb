{
 "cells": [
  {
   "cell_type": "code",
   "execution_count": 2,
   "metadata": {},
   "outputs": [],
   "source": [
    "import networkx as nx\n",
    "import numpy as np\n",
    "import matplotlib.pyplot as plt\n",
    "import matplotlib\n",
    "from matplotlib.cm import get_cmap\n",
    "import seaborn as sns\n",
    "import string\n",
    "import pickle # save data frame (results) in a .pkl file\n",
    "import pandas as pd\n",
    "from datetime import datetime\n",
    "import os, sys\n",
    "import re\n",
    "\n",
    "\n",
    "sys.path.insert(0, 'C:/Users/User/Code/MMDGraph')\n",
    "#from importlib import reload\n",
    "from mmdutils import readfoldertopanda, PlotROCGeneral, plotVaryingBGDEG, findAUC\n",
    "#reload(readfoldertopanda)\n",
    "import importlib\n",
    "importlib.reload(sys.modules['mmdutils'])\n",
    "from mmdutils import readfoldertopanda, PlotROCGeneral, plotVaryingBGDEG, findAUC"
   ]
  },
  {
   "cell_type": "code",
   "execution_count": 22,
   "metadata": {},
   "outputs": [],
   "source": [
    "np.random.seed(seed=42)\n",
    "k = 5\n",
    "sparsity = .5\n",
    "# generate the symmetric sparsity mask\n",
    "mask = np.random.uniform(size = k)\n",
    "mask = mask * (mask < sparsity)\n",
    "mask = np.triu(mask)\n",
    "mask = mask + mask.T + np.identity(k)\n",
    "mask[mask > 0] = 1\n",
    "\n",
    "# generate the symmetric precision matrix\n",
    "theta = np.random.normal(size = (k,k))\n",
    "theta = np.random.normal(size = (k,k))\n",
    "theta = np.triu(theta)\n",
    "theta = theta + theta.T + np.identity(k)\n",
    "\n",
    "# apply the reqired sparsity\n",
    "theta = theta * mask\n",
    "\n",
    "l, _ = np.linalg.eigh(theta)\n",
    "# force it to be positive definite\n",
    "theta = theta - (np.min(l)-.1) * np.identity(k)\n",
    "alpha = 0.0"
   ]
  },
  {
   "cell_type": "code",
   "execution_count": 23,
   "metadata": {},
   "outputs": [],
   "source": [
    "Gs1 = []\n",
    "Gs2 = []\n",
    "error_1 = []\n",
    "error_2 = []\n",
    "n = 50\n",
    "\n",
    "for i in range(50):\n",
    "    x1 = np.random.multivariate_normal(mean = np.zeros(k), cov = theta, size = 20)\n",
    "    A1 = np.corrcoef(x1.T)\n",
    "    if alpha == 0:\n",
    "        np.fill_diagonal(A1, 0)\n",
    "    else:\n",
    "        gl = graphical_lasso(A1, alpha = alpha, max_iter = 1000)\n",
    "        A1 = gl[0]\n",
    "        np.fill_diagonal(A1, 0)\n",
    "\n",
    "    Gs1.append(nx.from_numpy_matrix(A1))\n",
    "    error_1.append(np.sum(np.logical_xor(np.abs(np.triu(A1,1)) > 0,np.abs(np.triu(theta,1)) > 0)))\n",
    "    x2 = np.random.multivariate_normal(mean = np.zeros(k), cov = theta, size = 20)\n",
    "    A2 = np.corrcoef(x2.T)\n",
    "    if alpha == 0:\n",
    "        np.fill_diagonal(A2, 0)\n",
    "    else:\n",
    "        gl = graphical_lasso(A2, alpha = alpha, max_iter = 1000)\n",
    "        A2 = gl[0]\n",
    "        np.fill_diagonal(A2, 0)\n",
    "    Gs2.append(nx.from_numpy_matrix(A2))\n",
    "    error_2.append(np.sum(np.logical_xor(np.abs(np.triu(A2,1)) > 0,np.abs(np.triu(theta,1)) > 0)))\n"
   ]
  },
  {
   "cell_type": "code",
   "execution_count": 28,
   "metadata": {},
   "outputs": [],
   "source": [
    "x1 = np.random.multivariate_normal(mean = np.zeros(k), cov = theta, size = 20)\n",
    "A1 = np.corrcoef(x1.T)\n",
    "if alpha == 0:\n",
    "    np.fill_diagonal(A1, 0)\n",
    "else:\n",
    "    gl = graphical_lasso(theta, alpha = alpha, max_iter = 1000)\n",
    "    A1 = gl[0]\n",
    "    np.fill_diagonal(A1, 0)"
   ]
  },
  {
   "cell_type": "code",
   "execution_count": 29,
   "metadata": {},
   "outputs": [
    {
     "data": {
      "text/plain": [
       "array([[ 0.        , -0.03047195, -0.05260113,  0.31315765,  0.5948361 ],\n",
       "       [-0.03047195,  0.        ,  0.09676378,  0.00353337, -0.31479294],\n",
       "       [-0.05260113,  0.09676378,  0.        , -0.05093755, -0.47208045],\n",
       "       [ 0.31315765,  0.00353337, -0.05093755,  0.        ,  0.1116744 ],\n",
       "       [ 0.5948361 , -0.31479294, -0.47208045,  0.1116744 ,  0.        ]])"
      ]
     },
     "execution_count": 29,
     "metadata": {},
     "output_type": "execute_result"
    }
   ],
   "source": [
    "A1"
   ]
  },
  {
   "cell_type": "code",
   "execution_count": 27,
   "metadata": {},
   "outputs": [
    {
     "data": {
      "text/plain": [
       "array([[ 0.        ,  0.24125776, -0.01447986,  0.04410383,  0.21007179],\n",
       "       [ 0.24125776,  0.        , -0.18524236,  0.47480949,  0.32925484],\n",
       "       [-0.01447986, -0.18524236,  0.        ,  0.44316404, -0.81285048],\n",
       "       [ 0.04410383,  0.47480949,  0.44316404,  0.        , -0.18926471],\n",
       "       [ 0.21007179,  0.32925484, -0.81285048, -0.18926471,  0.        ]])"
      ]
     },
     "execution_count": 27,
     "metadata": {},
     "output_type": "execute_result"
    }
   ],
   "source": [
    "A1"
   ]
  },
  {
   "cell_type": "code",
   "execution_count": 30,
   "metadata": {},
   "outputs": [
    {
     "data": {
      "text/plain": [
       "array([[ 3.09415253,  0.        ,  0.        ,  0.        ,  0.38934891],\n",
       "       [ 0.        ,  5.60164783,  0.        ,  0.        ,  0.21863832],\n",
       "       [ 0.        ,  0.        ,  0.25107488,  0.        , -0.53814166],\n",
       "       [ 0.        ,  0.        ,  0.        ,  3.68652107,  0.58212279],\n",
       "       [ 0.38934891,  0.21863832, -0.53814166,  0.58212279,  2.17070852]])"
      ]
     },
     "execution_count": 30,
     "metadata": {},
     "output_type": "execute_result"
    }
   ],
   "source": [
    "theta"
   ]
  },
  {
   "cell_type": "code",
   "execution_count": 14,
   "metadata": {},
   "outputs": [
    {
     "data": {
      "text/plain": [
       "array([[ 0.        ,  0.02057183, -0.10274722, -0.03133482,  0.32833986,\n",
       "        -0.00847185, -0.21464823,  0.09137159, -0.01238261,  0.04469932,\n",
       "        -0.26454124],\n",
       "       [ 0.02057183,  0.        ,  0.11706564,  0.1534338 , -0.29505998,\n",
       "         0.25023394,  0.46669416, -0.08162329,  0.07115306, -0.05571581,\n",
       "        -0.14649726],\n",
       "       [-0.10274722,  0.11706564,  0.        ,  0.07545947, -0.31040235,\n",
       "         0.11138671,  0.37122399, -0.22186608,  0.21436664, -0.04152643,\n",
       "        -0.29093666],\n",
       "       [-0.03133482,  0.1534338 ,  0.07545947,  0.        , -0.32148477,\n",
       "        -0.22005376,  0.4067953 , -0.03441569,  0.04311767,  0.11917227,\n",
       "        -0.35269385],\n",
       "       [ 0.32833986, -0.29505998, -0.31040235, -0.32148477,  0.        ,\n",
       "         0.11847436, -0.13018082,  0.13955166, -0.04669534,  0.08680246,\n",
       "        -0.00123082],\n",
       "       [-0.00847185,  0.25023394,  0.11138671, -0.22005376,  0.11847436,\n",
       "         0.        , -0.00742658, -0.08556496, -0.03353983, -0.12888968,\n",
       "        -0.251359  ],\n",
       "       [-0.21464823,  0.46669416,  0.37122399,  0.4067953 , -0.13018082,\n",
       "        -0.00742658,  0.        , -0.17222357,  0.17632844,  0.0257273 ,\n",
       "         0.16537541],\n",
       "       [ 0.09137159, -0.08162329, -0.22186608, -0.03441569,  0.13955166,\n",
       "        -0.08556496, -0.17222357,  0.        , -0.03818393, -0.02266791,\n",
       "         0.30521859],\n",
       "       [-0.01238261,  0.07115306,  0.21436664,  0.04311767, -0.04669534,\n",
       "        -0.03353983,  0.17632844, -0.03818393,  0.        , -0.03151412,\n",
       "         0.14045469],\n",
       "       [ 0.04469932, -0.05571581, -0.04152643,  0.11917227,  0.08680246,\n",
       "        -0.12888968,  0.0257273 , -0.02266791, -0.03151412,  0.        ,\n",
       "         0.20122073],\n",
       "       [-0.26454124, -0.14649726, -0.29093666, -0.35269385, -0.00123082,\n",
       "        -0.251359  ,  0.16537541,  0.30521859,  0.14045469,  0.20122073,\n",
       "         0.        ]])"
      ]
     },
     "execution_count": 14,
     "metadata": {},
     "output_type": "execute_result"
    }
   ],
   "source": [
    "A1"
   ]
  },
  {
   "cell_type": "code",
   "execution_count": 5,
   "metadata": {},
   "outputs": [],
   "source": [
    "data = pd.read_pickle('../data/GLasso/alpha_0.0.pkl')"
   ]
  },
  {
   "cell_type": "code",
   "execution_count": 6,
   "metadata": {},
   "outputs": [
    {
     "data": {
      "text/html": [
       "<div>\n",
       "<style scoped>\n",
       "    .dataframe tbody tr th:only-of-type {\n",
       "        vertical-align: middle;\n",
       "    }\n",
       "\n",
       "    .dataframe tbody tr th {\n",
       "        vertical-align: top;\n",
       "    }\n",
       "\n",
       "    .dataframe thead th {\n",
       "        text-align: right;\n",
       "    }\n",
       "</style>\n",
       "<table border=\"1\" class=\"dataframe\">\n",
       "  <thead>\n",
       "    <tr style=\"text-align: right;\">\n",
       "      <th></th>\n",
       "      <th>p_val</th>\n",
       "      <th>sample</th>\n",
       "      <th>mean_error_1</th>\n",
       "      <th>mean_error_2</th>\n",
       "      <th>alpha</th>\n",
       "    </tr>\n",
       "  </thead>\n",
       "  <tbody>\n",
       "    <tr>\n",
       "      <th>0</th>\n",
       "      <td>1.0000</td>\n",
       "      <td>0</td>\n",
       "      <td>30.0</td>\n",
       "      <td>30.0</td>\n",
       "      <td>0.0</td>\n",
       "    </tr>\n",
       "    <tr>\n",
       "      <th>1</th>\n",
       "      <td>0.9999</td>\n",
       "      <td>1</td>\n",
       "      <td>30.0</td>\n",
       "      <td>30.0</td>\n",
       "      <td>0.0</td>\n",
       "    </tr>\n",
       "    <tr>\n",
       "      <th>2</th>\n",
       "      <td>1.0000</td>\n",
       "      <td>2</td>\n",
       "      <td>30.0</td>\n",
       "      <td>30.0</td>\n",
       "      <td>0.0</td>\n",
       "    </tr>\n",
       "    <tr>\n",
       "      <th>3</th>\n",
       "      <td>0.9999</td>\n",
       "      <td>3</td>\n",
       "      <td>30.0</td>\n",
       "      <td>30.0</td>\n",
       "      <td>0.0</td>\n",
       "    </tr>\n",
       "    <tr>\n",
       "      <th>4</th>\n",
       "      <td>1.0000</td>\n",
       "      <td>4</td>\n",
       "      <td>30.0</td>\n",
       "      <td>30.0</td>\n",
       "      <td>0.0</td>\n",
       "    </tr>\n",
       "    <tr>\n",
       "      <th>...</th>\n",
       "      <td>...</td>\n",
       "      <td>...</td>\n",
       "      <td>...</td>\n",
       "      <td>...</td>\n",
       "      <td>...</td>\n",
       "    </tr>\n",
       "    <tr>\n",
       "      <th>245</th>\n",
       "      <td>1.0000</td>\n",
       "      <td>245</td>\n",
       "      <td>30.0</td>\n",
       "      <td>30.0</td>\n",
       "      <td>0.0</td>\n",
       "    </tr>\n",
       "    <tr>\n",
       "      <th>246</th>\n",
       "      <td>1.0000</td>\n",
       "      <td>246</td>\n",
       "      <td>30.0</td>\n",
       "      <td>30.0</td>\n",
       "      <td>0.0</td>\n",
       "    </tr>\n",
       "    <tr>\n",
       "      <th>247</th>\n",
       "      <td>1.0000</td>\n",
       "      <td>247</td>\n",
       "      <td>30.0</td>\n",
       "      <td>30.0</td>\n",
       "      <td>0.0</td>\n",
       "    </tr>\n",
       "    <tr>\n",
       "      <th>248</th>\n",
       "      <td>1.0000</td>\n",
       "      <td>248</td>\n",
       "      <td>30.0</td>\n",
       "      <td>30.0</td>\n",
       "      <td>0.0</td>\n",
       "    </tr>\n",
       "    <tr>\n",
       "      <th>249</th>\n",
       "      <td>1.0000</td>\n",
       "      <td>249</td>\n",
       "      <td>30.0</td>\n",
       "      <td>30.0</td>\n",
       "      <td>0.0</td>\n",
       "    </tr>\n",
       "  </tbody>\n",
       "</table>\n",
       "<p>1000 rows × 5 columns</p>\n",
       "</div>"
      ],
      "text/plain": [
       "      p_val  sample  mean_error_1  mean_error_2  alpha\n",
       "0    1.0000       0          30.0          30.0    0.0\n",
       "1    0.9999       1          30.0          30.0    0.0\n",
       "2    1.0000       2          30.0          30.0    0.0\n",
       "3    0.9999       3          30.0          30.0    0.0\n",
       "4    1.0000       4          30.0          30.0    0.0\n",
       "..      ...     ...           ...           ...    ...\n",
       "245  1.0000     245          30.0          30.0    0.0\n",
       "246  1.0000     246          30.0          30.0    0.0\n",
       "247  1.0000     247          30.0          30.0    0.0\n",
       "248  1.0000     248          30.0          30.0    0.0\n",
       "249  1.0000     249          30.0          30.0    0.0\n",
       "\n",
       "[1000 rows x 5 columns]"
      ]
     },
     "execution_count": 6,
     "metadata": {},
     "output_type": "execute_result"
    }
   ],
   "source": [
    "data"
   ]
  }
 ],
 "metadata": {
  "interpreter": {
   "hash": "e5751a66115cca13560cf37aeeed4243eac6d0108f8b06b399eb3b36d8bd3124"
  },
  "kernelspec": {
   "display_name": "Python 3.8.5",
   "language": "python",
   "name": "python3"
  },
  "language_info": {
   "codemirror_mode": {
    "name": "ipython",
    "version": 3
   },
   "file_extension": ".py",
   "mimetype": "text/x-python",
   "name": "python",
   "nbconvert_exporter": "python",
   "pygments_lexer": "ipython3",
   "version": "3.8.5"
  },
  "orig_nbformat": 4
 },
 "nbformat": 4,
 "nbformat_minor": 2
}
