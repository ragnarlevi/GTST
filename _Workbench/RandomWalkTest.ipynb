{
 "cells": [
  {
   "cell_type": "code",
   "execution_count": 1,
   "metadata": {},
   "outputs": [],
   "source": [
    "import networkx as nx\n",
    "import numpy as np\n",
    "import matplotlib.pyplot as plt\n",
    "import matplotlib\n",
    "from matplotlib.cm import get_cmap\n",
    "import seaborn as sns\n",
    "import string\n",
    "import pickle # save data frame (results) in a .pkl file\n",
    "import pandas as pd\n",
    "from datetime import datetime\n",
    "import os, sys\n",
    "import re\n",
    "\n",
    "import grakel as gk\n",
    "\n",
    "\n",
    "sys.path.insert(0, 'C:/Users/ragna/Documents/Ragnar/Code/MMDGraph')\n",
    "sys.path.insert(0, 'C:/Users/ragna/Documents/Ragnar/Code/MMDGraph/myKernels')\n",
    "import mmdutils\n",
    "import importlib\n",
    "importlib.reload(sys.modules['mmdutils'])\n",
    "import MMDforGraphs as mg\n",
    "importlib.reload(sys.modules['MMDforGraphs'])\n",
    "import RandomWalk as rw\n"
   ]
  },
  {
   "cell_type": "code",
   "execution_count": 11,
   "metadata": {},
   "outputs": [],
   "source": [
    "from importlib import reload  \n",
    "foo = reload(mg)\n",
    "\n",
    "n_1 = 50\n",
    "n_2 = 50\n",
    "nnode_1 = 140\n",
    "nnode_2 = 140\n",
    "\n",
    "\n",
    "bg1 = mg.BinomialGraphs(n_1, nnode_1, k = 4, l = 'degreelabels', fullyConnected = True)\n",
    "bg2 = mg.BinomialGraphs(n_2, nnode_2, k = 4.25, l = 'degreelabels', fullyConnected = True)\n",
    "\n",
    "bg1.Generate()\n",
    "bg2.Generate()\n",
    "Gs = bg1.Gs + bg2.Gs"
   ]
  },
  {
   "cell_type": "markdown",
   "metadata": {},
   "source": [
    "ARKU (allows weights and edge directions) approximation"
   ]
  },
  {
   "cell_type": "code",
   "execution_count": 4,
   "metadata": {},
   "outputs": [
    {
     "name": "stderr",
     "output_type": "stream",
     "text": [
      "100%|██████████| 820/820.0 [00:16<00:00, 48.57it/s]\n"
     ]
    }
   ],
   "source": [
    "\n",
    "importlib.reload(sys.modules['RandomWalk'])\n",
    "rw_kernel = rw.RandomWalk(Gs, 0.1)\n",
    "K = rw_kernel.fit_ARKU(r = 6)\n"
   ]
  },
  {
   "cell_type": "markdown",
   "metadata": {},
   "source": [
    "ARKU plus faster"
   ]
  },
  {
   "cell_type": "code",
   "execution_count": 5,
   "metadata": {},
   "outputs": [
    {
     "name": "stderr",
     "output_type": "stream",
     "text": [
      "100%|██████████| 820/820.0 [00:06<00:00, 119.82it/s]\n"
     ]
    }
   ],
   "source": [
    "importlib.reload(sys.modules['RandomWalk'])\n",
    "rw_kernel = rw.RandomWalk(Gs, 0.1)\n",
    "K = rw_kernel.fit_ARKU_plus(r = 6, normalize_adj=True)"
   ]
  },
  {
   "cell_type": "markdown",
   "metadata": {},
   "source": [
    " ARK-L, allow labels"
   ]
  },
  {
   "cell_type": "markdown",
   "metadata": {},
   "source": [
    "First we have to fetch all labels generated, usually this should be known"
   ]
  },
  {
   "cell_type": "code",
   "execution_count": 6,
   "metadata": {},
   "outputs": [],
   "source": [
    "label_list = []\n",
    "for G in Gs:\n",
    "    label_list.append(np.unique(list(nx.get_node_attributes(G, 'label').values())))\n",
    "\n",
    "label_list = np.unique(np.concatenate(label_list))\n"
   ]
  },
  {
   "cell_type": "code",
   "execution_count": 7,
   "metadata": {},
   "outputs": [
    {
     "name": "stderr",
     "output_type": "stream",
     "text": [
      "100%|██████████| 820/820.0 [00:07<00:00, 114.88it/s]\n"
     ]
    }
   ],
   "source": [
    "importlib.reload(sys.modules['RandomWalk'])\n",
    "rw_kernel = rw.RandomWalk(Gs, 0.1)\n",
    "K = rw_kernel.fit_ARKL(r = 6, label_list = label_list, normalize_adj=True)"
   ]
  },
  {
   "cell_type": "markdown",
   "metadata": {},
   "source": [
    "Fit random walk with k walks, no approximation is going to be slow."
   ]
  },
  {
   "cell_type": "code",
   "execution_count": 9,
   "metadata": {},
   "outputs": [
    {
     "name": "stderr",
     "output_type": "stream",
     "text": [
      "100%|██████████| 820/820.0 [00:08<00:00, 96.74it/s] \n"
     ]
    }
   ],
   "source": [
    "importlib.reload(sys.modules['RandomWalk'])\n",
    "rw_kernel = rw.RandomWalk(Gs, 0.1)\n",
    "mu_vec = np.power(0.1,range(6+1)) / np.array([np.math.factorial(i) for i in np.arange(6+1)])\n",
    "K = rw_kernel.fit_random_walk(mu_vec, k = 6,  r = 10, normalize_adj=True )"
   ]
  },
  {
   "cell_type": "markdown",
   "metadata": {},
   "source": [
    "The following is the grakel package, using kernel type:exponential is slow."
   ]
  },
  {
   "cell_type": "code",
   "execution_count": 53,
   "metadata": {},
   "outputs": [],
   "source": [
    "kernel = [{\"name\":'RW', 'kernel_type':'geometric', 'lamda':0.1, 'with_labels':False}]\n",
    "# kernel = [{\"name\":'odd_sth', 'h':3}]\n",
    "# kernel = [{\"name\": \"propagation\", \"t_max\": 4, \"w\":1, \"M\":'TV'}]\n",
    "init_kernel = gk.GraphKernel(kernel= kernel, normalize=False, n_jobs= 1)\n",
    "K = init_kernel.fit_transform(gk.graph_from_networkx(Gs, node_labels_tag='label')  )\n"
   ]
  },
  {
   "cell_type": "code",
   "execution_count": 15,
   "metadata": {},
   "outputs": [
    {
     "data": {
      "text/plain": [
       "array([[5.37391717e-05, 5.29583871e-05, 5.38485706e-05, ...,\n",
       "        5.36500964e-05, 5.43479803e-05, 5.30179344e-05],\n",
       "       [5.29583871e-05, 5.24054302e-05, 5.30353136e-05, ...,\n",
       "        5.28956895e-05, 5.33850717e-05, 5.24493123e-05],\n",
       "       [5.38485706e-05, 5.30353136e-05, 5.39626855e-05, ...,\n",
       "        5.37556745e-05, 5.44840505e-05, 5.30968309e-05],\n",
       "       ...,\n",
       "       [5.36500964e-05, 5.28956895e-05, 5.37556745e-05, ...,\n",
       "        5.35641176e-05, 5.42373217e-05, 5.29536069e-05],\n",
       "       [5.43479803e-05, 5.33850717e-05, 5.44840505e-05, ...,\n",
       "        5.42373217e-05, 5.51081766e-05, 5.34550053e-05],\n",
       "       [5.30179344e-05, 5.24493123e-05, 5.30968309e-05, ...,\n",
       "        5.29536069e-05, 5.34550053e-05, 5.24950776e-05]])"
      ]
     },
     "execution_count": 15,
     "metadata": {},
     "output_type": "execute_result"
    }
   ],
   "source": [
    "K"
   ]
  },
  {
   "cell_type": "code",
   "execution_count": 10,
   "metadata": {},
   "outputs": [
    {
     "name": "stdout",
     "output_type": "stream",
     "text": [
      "{'MMD_b': 0.738, 'MMD_u': 0.738}\n"
     ]
    }
   ],
   "source": [
    "\n",
    "MMD_functions = [mg.MMD_b, mg.MMD_u]\n",
    "\n",
    "# initialize bootstrap class, we only want this to be initalized once so that numba njit\n",
    "# only gets compiled once (at first call)\n",
    "kernel_hypothesis = mg.BoostrapMethods(MMD_functions)\n",
    "function_arguments=[dict(n = bg1.n, m = bg2.n ), dict(n = bg1.n, m = bg2.n )]\n",
    "kernel_hypothesis.Bootstrap(K, function_arguments, B = 1000)\n",
    "print(kernel_hypothesis.p_values)"
   ]
  }
 ],
 "metadata": {
  "interpreter": {
   "hash": "73a028860b43d4769fbff148c75133d75a7cd8af5513f33c83e2292b4997b353"
  },
  "kernelspec": {
   "display_name": "Python 3.8.2 64-bit ('.venv': venv)",
   "language": "python",
   "name": "python3"
  },
  "language_info": {
   "codemirror_mode": {
    "name": "ipython",
    "version": 3
   },
   "file_extension": ".py",
   "mimetype": "text/x-python",
   "name": "python",
   "nbconvert_exporter": "python",
   "pygments_lexer": "ipython3",
   "version": "3.8.2"
  },
  "orig_nbformat": 4
 },
 "nbformat": 4,
 "nbformat_minor": 2
}
