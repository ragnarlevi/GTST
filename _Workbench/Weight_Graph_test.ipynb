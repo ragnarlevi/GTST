{
 "cells": [
  {
   "cell_type": "code",
   "execution_count": 6,
   "metadata": {},
   "outputs": [],
   "source": [
    "import networkx as nx\n",
    "import numpy as np\n",
    "import matplotlib.pyplot as plt\n",
    "import matplotlib\n",
    "from matplotlib.cm import get_cmap\n",
    "import seaborn as sns\n",
    "import string\n",
    "import pickle # save data frame (results) in a .pkl file\n",
    "import pandas as pd\n",
    "from datetime import datetime\n",
    "import os, sys\n",
    "import re\n",
    "\n",
    "import grakel as gk\n",
    "\n",
    "\n",
    "sys.path.insert(0, 'C:/Users/User/Code/MMDGraph')\n",
    "sys.path.insert(0, 'C:/Users/User/Code/MMDGraph/myKernels')\n",
    "#from importlib import reload\n",
    "#reload(readfoldertopanda)\n",
    "import mmdutils\n",
    "import importlib\n",
    "importlib.reload(sys.modules['mmdutils'])\n",
    "from mmdutils import readfoldertopanda, PlotROCGeneral, plotVaryingBGDEG, findAUC\n",
    "import MMDforGraphs as mg\n",
    "importlib.reload(sys.modules['MMDforGraphs'])\n",
    "from myKernels import RandomWalk as rw\n",
    "import WL"
   ]
  },
  {
   "cell_type": "markdown",
   "metadata": {},
   "source": [
    "Generate Weighted graphs with scale free structure"
   ]
  },
  {
   "cell_type": "code",
   "execution_count": 4,
   "metadata": {},
   "outputs": [
    {
     "data": {
      "text/plain": [
       "0.7101990532120694"
      ]
     },
     "execution_count": 4,
     "metadata": {},
     "output_type": "execute_result"
    }
   ],
   "source": [
    "from scipy.stats import uniform\n",
    "uniform.rvs(size=1,  loc = 0.4 , scale = 0.5)[0]"
   ]
  },
  {
   "cell_type": "code",
   "execution_count": 9,
   "metadata": {},
   "outputs": [],
   "source": [
    "n1 = 40\n",
    "nnode1 = 100\n",
    "k1 = 2.1\n",
    "\n",
    "n2 = 40\n",
    "nnode2 = 100\n",
    "k2 = 2.2\n",
    "\n",
    "def edge_dist1():\n",
    "    from scipy.stats import uniform\n",
    "    return uniform.rvs(size=1,  loc = 0.4 , scale = 0.1)[0]\n",
    "\n",
    "def edge_dist2():\n",
    "    from scipy.stats import uniform\n",
    "    return uniform.rvs(size=1,  loc = 0.4 , scale = 0.5)[0]\n",
    "\n",
    "g1 = mg.ScaleFreeGraph(n1, nnode1, k1, fullyConnected = True, e = 'random_edge_weights', edge_dist = edge_dist1)\n",
    "g2 = mg.ScaleFreeGraph(n2, nnode2, k2, e = 'random_edge_weights', edge_dist = edge_dist2)\n"
   ]
  },
  {
   "cell_type": "code",
   "execution_count": 10,
   "metadata": {},
   "outputs": [],
   "source": [
    "g1.Generate()"
   ]
  },
  {
   "cell_type": "code",
   "execution_count": 4,
   "metadata": {},
   "outputs": [
    {
     "name": "stderr",
     "output_type": "stream",
     "text": [
      "C:\\Users\\User\\AppData\\Local\\Temp\\ipykernel_19104\\3221775921.py:1: FutureWarning: adjacency_matrix will return a scipy.sparse array instead of a matrix in Networkx 3.0.\n",
      "  nx.adjacency_matrix(g1.Gs[0])\n"
     ]
    },
    {
     "ename": "ValueError",
     "evalue": "row, column, and data arrays must be 1-D",
     "output_type": "error",
     "traceback": [
      "\u001b[1;31m---------------------------------------------------------------------------\u001b[0m",
      "\u001b[1;31mValueError\u001b[0m                                Traceback (most recent call last)",
      "\u001b[1;32mc:\\Users\\User\\Code\\MMDGraph\\_Workbench\\Weight_Graph_test.ipynb Cell 5'\u001b[0m in \u001b[0;36m<cell line: 1>\u001b[1;34m()\u001b[0m\n\u001b[1;32m----> <a href='vscode-notebook-cell:/c%3A/Users/User/Code/MMDGraph/_Workbench/Weight_Graph_test.ipynb#ch0000007?line=0'>1</a>\u001b[0m nx\u001b[39m.\u001b[39;49madjacency_matrix(g1\u001b[39m.\u001b[39;49mGs[\u001b[39m0\u001b[39;49m])\n",
      "File \u001b[1;32mc:\\Users\\User\\Code\\MMDGraph\\.mmdvenv8\\lib\\site-packages\\networkx\\linalg\\graphmatrix.py:173\u001b[0m, in \u001b[0;36madjacency_matrix\u001b[1;34m(G, nodelist, dtype, weight)\u001b[0m\n\u001b[0;32m    <a href='file:///c%3A/Users/User/Code/MMDGraph/.mmdvenv8/lib/site-packages/networkx/linalg/graphmatrix.py?line=166'>167</a>\u001b[0m warnings\u001b[39m.\u001b[39mwarn(\n\u001b[0;32m    <a href='file:///c%3A/Users/User/Code/MMDGraph/.mmdvenv8/lib/site-packages/networkx/linalg/graphmatrix.py?line=167'>168</a>\u001b[0m     \u001b[39m\"\u001b[39m\u001b[39madjacency_matrix will return a scipy.sparse array instead of a matrix in Networkx 3.0.\u001b[39m\u001b[39m\"\u001b[39m,\n\u001b[0;32m    <a href='file:///c%3A/Users/User/Code/MMDGraph/.mmdvenv8/lib/site-packages/networkx/linalg/graphmatrix.py?line=168'>169</a>\u001b[0m     \u001b[39mFutureWarning\u001b[39;00m,\n\u001b[0;32m    <a href='file:///c%3A/Users/User/Code/MMDGraph/.mmdvenv8/lib/site-packages/networkx/linalg/graphmatrix.py?line=169'>170</a>\u001b[0m     stacklevel\u001b[39m=\u001b[39m\u001b[39m2\u001b[39m,\n\u001b[0;32m    <a href='file:///c%3A/Users/User/Code/MMDGraph/.mmdvenv8/lib/site-packages/networkx/linalg/graphmatrix.py?line=170'>171</a>\u001b[0m )\n\u001b[0;32m    <a href='file:///c%3A/Users/User/Code/MMDGraph/.mmdvenv8/lib/site-packages/networkx/linalg/graphmatrix.py?line=171'>172</a>\u001b[0m \u001b[39m# TODO: Change to `to_scipy_sparse_array` for networkx 3.0\u001b[39;00m\n\u001b[1;32m--> <a href='file:///c%3A/Users/User/Code/MMDGraph/.mmdvenv8/lib/site-packages/networkx/linalg/graphmatrix.py?line=172'>173</a>\u001b[0m \u001b[39mreturn\u001b[39;00m nx\u001b[39m.\u001b[39;49mto_scipy_sparse_matrix(G, nodelist\u001b[39m=\u001b[39;49mnodelist, dtype\u001b[39m=\u001b[39;49mdtype, weight\u001b[39m=\u001b[39;49mweight)\n",
      "File \u001b[1;32mc:\\Users\\User\\Code\\MMDGraph\\.mmdvenv8\\lib\\site-packages\\networkx\\convert_matrix.py:1019\u001b[0m, in \u001b[0;36mto_scipy_sparse_matrix\u001b[1;34m(G, nodelist, dtype, weight, format)\u001b[0m\n\u001b[0;32m   <a href='file:///c%3A/Users/User/Code/MMDGraph/.mmdvenv8/lib/site-packages/networkx/convert_matrix.py?line=1008'>1009</a>\u001b[0m \u001b[39mimport\u001b[39;00m \u001b[39mscipy\u001b[39;00m\u001b[39m.\u001b[39;00m\u001b[39msparse\u001b[39;00m\n\u001b[0;32m   <a href='file:///c%3A/Users/User/Code/MMDGraph/.mmdvenv8/lib/site-packages/networkx/convert_matrix.py?line=1010'>1011</a>\u001b[0m warnings\u001b[39m.\u001b[39mwarn(\n\u001b[0;32m   <a href='file:///c%3A/Users/User/Code/MMDGraph/.mmdvenv8/lib/site-packages/networkx/convert_matrix.py?line=1011'>1012</a>\u001b[0m     (\n\u001b[0;32m   <a href='file:///c%3A/Users/User/Code/MMDGraph/.mmdvenv8/lib/site-packages/networkx/convert_matrix.py?line=1012'>1013</a>\u001b[0m         \u001b[39m\"\u001b[39m\u001b[39m\\n\u001b[39;00m\u001b[39m\\n\u001b[39;00m\u001b[39mThe scipy.sparse array containers will be used instead of matrices\u001b[39m\u001b[39m\\n\u001b[39;00m\u001b[39m\"\u001b[39m\n\u001b[1;32m   (...)\u001b[0m\n\u001b[0;32m   <a href='file:///c%3A/Users/User/Code/MMDGraph/.mmdvenv8/lib/site-packages/networkx/convert_matrix.py?line=1016'>1017</a>\u001b[0m     stacklevel\u001b[39m=\u001b[39m\u001b[39m2\u001b[39m,\n\u001b[0;32m   <a href='file:///c%3A/Users/User/Code/MMDGraph/.mmdvenv8/lib/site-packages/networkx/convert_matrix.py?line=1017'>1018</a>\u001b[0m )\n\u001b[1;32m-> <a href='file:///c%3A/Users/User/Code/MMDGraph/.mmdvenv8/lib/site-packages/networkx/convert_matrix.py?line=1018'>1019</a>\u001b[0m A \u001b[39m=\u001b[39m to_scipy_sparse_array(\n\u001b[0;32m   <a href='file:///c%3A/Users/User/Code/MMDGraph/.mmdvenv8/lib/site-packages/networkx/convert_matrix.py?line=1019'>1020</a>\u001b[0m     G, nodelist\u001b[39m=\u001b[39;49mnodelist, dtype\u001b[39m=\u001b[39;49mdtype, weight\u001b[39m=\u001b[39;49mweight, \u001b[39mformat\u001b[39;49m\u001b[39m=\u001b[39;49m\u001b[39mformat\u001b[39;49m\n\u001b[0;32m   <a href='file:///c%3A/Users/User/Code/MMDGraph/.mmdvenv8/lib/site-packages/networkx/convert_matrix.py?line=1020'>1021</a>\u001b[0m )\n\u001b[0;32m   <a href='file:///c%3A/Users/User/Code/MMDGraph/.mmdvenv8/lib/site-packages/networkx/convert_matrix.py?line=1021'>1022</a>\u001b[0m \u001b[39mreturn\u001b[39;00m sp\u001b[39m.\u001b[39msparse\u001b[39m.\u001b[39mcsr_matrix(A)\u001b[39m.\u001b[39masformat(\u001b[39mformat\u001b[39m)\n",
      "File \u001b[1;32mc:\\Users\\User\\Code\\MMDGraph\\.mmdvenv8\\lib\\site-packages\\networkx\\convert_matrix.py:921\u001b[0m, in \u001b[0;36mto_scipy_sparse_array\u001b[1;34m(G, nodelist, dtype, weight, format)\u001b[0m\n\u001b[0;32m    <a href='file:///c%3A/Users/User/Code/MMDGraph/.mmdvenv8/lib/site-packages/networkx/convert_matrix.py?line=918'>919</a>\u001b[0m         r \u001b[39m+\u001b[39m\u001b[39m=\u001b[39m diag_index\n\u001b[0;32m    <a href='file:///c%3A/Users/User/Code/MMDGraph/.mmdvenv8/lib/site-packages/networkx/convert_matrix.py?line=919'>920</a>\u001b[0m         c \u001b[39m+\u001b[39m\u001b[39m=\u001b[39m diag_index\n\u001b[1;32m--> <a href='file:///c%3A/Users/User/Code/MMDGraph/.mmdvenv8/lib/site-packages/networkx/convert_matrix.py?line=920'>921</a>\u001b[0m     A \u001b[39m=\u001b[39m sp\u001b[39m.\u001b[39;49msparse\u001b[39m.\u001b[39;49mcoo_array((d, (r, c)), shape\u001b[39m=\u001b[39;49m(nlen, nlen), dtype\u001b[39m=\u001b[39;49mdtype)\n\u001b[0;32m    <a href='file:///c%3A/Users/User/Code/MMDGraph/.mmdvenv8/lib/site-packages/networkx/convert_matrix.py?line=921'>922</a>\u001b[0m \u001b[39mtry\u001b[39;00m:\n\u001b[0;32m    <a href='file:///c%3A/Users/User/Code/MMDGraph/.mmdvenv8/lib/site-packages/networkx/convert_matrix.py?line=922'>923</a>\u001b[0m     \u001b[39mreturn\u001b[39;00m A\u001b[39m.\u001b[39masformat(\u001b[39mformat\u001b[39m)\n",
      "File \u001b[1;32mc:\\Users\\User\\Code\\MMDGraph\\.mmdvenv8\\lib\\site-packages\\scipy\\sparse\\_coo.py:196\u001b[0m, in \u001b[0;36mcoo_matrix.__init__\u001b[1;34m(self, arg1, shape, dtype, copy)\u001b[0m\n\u001b[0;32m    <a href='file:///c%3A/Users/User/Code/MMDGraph/.mmdvenv8/lib/site-packages/scipy/sparse/_coo.py?line=192'>193</a>\u001b[0m \u001b[39mif\u001b[39;00m dtype \u001b[39mis\u001b[39;00m \u001b[39mnot\u001b[39;00m \u001b[39mNone\u001b[39;00m:\n\u001b[0;32m    <a href='file:///c%3A/Users/User/Code/MMDGraph/.mmdvenv8/lib/site-packages/scipy/sparse/_coo.py?line=193'>194</a>\u001b[0m     \u001b[39mself\u001b[39m\u001b[39m.\u001b[39mdata \u001b[39m=\u001b[39m \u001b[39mself\u001b[39m\u001b[39m.\u001b[39mdata\u001b[39m.\u001b[39mastype(dtype, copy\u001b[39m=\u001b[39m\u001b[39mFalse\u001b[39;00m)\n\u001b[1;32m--> <a href='file:///c%3A/Users/User/Code/MMDGraph/.mmdvenv8/lib/site-packages/scipy/sparse/_coo.py?line=195'>196</a>\u001b[0m \u001b[39mself\u001b[39;49m\u001b[39m.\u001b[39;49m_check()\n",
      "File \u001b[1;32mc:\\Users\\User\\Code\\MMDGraph\\.mmdvenv8\\lib\\site-packages\\scipy\\sparse\\_coo.py:281\u001b[0m, in \u001b[0;36mcoo_matrix._check\u001b[1;34m(self)\u001b[0m\n\u001b[0;32m    <a href='file:///c%3A/Users/User/Code/MMDGraph/.mmdvenv8/lib/site-packages/scipy/sparse/_coo.py?line=277'>278</a>\u001b[0m \u001b[39mself\u001b[39m\u001b[39m.\u001b[39mcol \u001b[39m=\u001b[39m np\u001b[39m.\u001b[39masarray(\u001b[39mself\u001b[39m\u001b[39m.\u001b[39mcol, dtype\u001b[39m=\u001b[39midx_dtype)\n\u001b[0;32m    <a href='file:///c%3A/Users/User/Code/MMDGraph/.mmdvenv8/lib/site-packages/scipy/sparse/_coo.py?line=278'>279</a>\u001b[0m \u001b[39mself\u001b[39m\u001b[39m.\u001b[39mdata \u001b[39m=\u001b[39m to_native(\u001b[39mself\u001b[39m\u001b[39m.\u001b[39mdata)\n\u001b[1;32m--> <a href='file:///c%3A/Users/User/Code/MMDGraph/.mmdvenv8/lib/site-packages/scipy/sparse/_coo.py?line=280'>281</a>\u001b[0m \u001b[39mif\u001b[39;00m \u001b[39mself\u001b[39;49m\u001b[39m.\u001b[39;49mnnz \u001b[39m>\u001b[39m \u001b[39m0\u001b[39m:\n\u001b[0;32m    <a href='file:///c%3A/Users/User/Code/MMDGraph/.mmdvenv8/lib/site-packages/scipy/sparse/_coo.py?line=281'>282</a>\u001b[0m     \u001b[39mif\u001b[39;00m \u001b[39mself\u001b[39m\u001b[39m.\u001b[39mrow\u001b[39m.\u001b[39mmax() \u001b[39m>\u001b[39m\u001b[39m=\u001b[39m \u001b[39mself\u001b[39m\u001b[39m.\u001b[39mshape[\u001b[39m0\u001b[39m]:\n\u001b[0;32m    <a href='file:///c%3A/Users/User/Code/MMDGraph/.mmdvenv8/lib/site-packages/scipy/sparse/_coo.py?line=282'>283</a>\u001b[0m         \u001b[39mraise\u001b[39;00m \u001b[39mValueError\u001b[39;00m(\u001b[39m'\u001b[39m\u001b[39mrow index exceeds matrix dimensions\u001b[39m\u001b[39m'\u001b[39m)\n",
      "File \u001b[1;32mc:\\Users\\User\\Code\\MMDGraph\\.mmdvenv8\\lib\\site-packages\\scipy\\sparse\\_base.py:299\u001b[0m, in \u001b[0;36mspmatrix.nnz\u001b[1;34m(self)\u001b[0m\n\u001b[0;32m    <a href='file:///c%3A/Users/User/Code/MMDGraph/.mmdvenv8/lib/site-packages/scipy/sparse/_base.py?line=290'>291</a>\u001b[0m \u001b[39m@property\u001b[39m\n\u001b[0;32m    <a href='file:///c%3A/Users/User/Code/MMDGraph/.mmdvenv8/lib/site-packages/scipy/sparse/_base.py?line=291'>292</a>\u001b[0m \u001b[39mdef\u001b[39;00m \u001b[39mnnz\u001b[39m(\u001b[39mself\u001b[39m):\n\u001b[0;32m    <a href='file:///c%3A/Users/User/Code/MMDGraph/.mmdvenv8/lib/site-packages/scipy/sparse/_base.py?line=292'>293</a>\u001b[0m     \u001b[39m\"\"\"Number of stored values, including explicit zeros.\u001b[39;00m\n\u001b[0;32m    <a href='file:///c%3A/Users/User/Code/MMDGraph/.mmdvenv8/lib/site-packages/scipy/sparse/_base.py?line=293'>294</a>\u001b[0m \n\u001b[0;32m    <a href='file:///c%3A/Users/User/Code/MMDGraph/.mmdvenv8/lib/site-packages/scipy/sparse/_base.py?line=294'>295</a>\u001b[0m \u001b[39m    See also\u001b[39;00m\n\u001b[0;32m    <a href='file:///c%3A/Users/User/Code/MMDGraph/.mmdvenv8/lib/site-packages/scipy/sparse/_base.py?line=295'>296</a>\u001b[0m \u001b[39m    --------\u001b[39;00m\n\u001b[0;32m    <a href='file:///c%3A/Users/User/Code/MMDGraph/.mmdvenv8/lib/site-packages/scipy/sparse/_base.py?line=296'>297</a>\u001b[0m \u001b[39m    count_nonzero : Number of non-zero entries\u001b[39;00m\n\u001b[0;32m    <a href='file:///c%3A/Users/User/Code/MMDGraph/.mmdvenv8/lib/site-packages/scipy/sparse/_base.py?line=297'>298</a>\u001b[0m \u001b[39m    \"\"\"\u001b[39;00m\n\u001b[1;32m--> <a href='file:///c%3A/Users/User/Code/MMDGraph/.mmdvenv8/lib/site-packages/scipy/sparse/_base.py?line=298'>299</a>\u001b[0m     \u001b[39mreturn\u001b[39;00m \u001b[39mself\u001b[39;49m\u001b[39m.\u001b[39;49mgetnnz()\n",
      "File \u001b[1;32mc:\\Users\\User\\Code\\MMDGraph\\.mmdvenv8\\lib\\site-packages\\scipy\\sparse\\_coo.py:248\u001b[0m, in \u001b[0;36mcoo_matrix.getnnz\u001b[1;34m(self, axis)\u001b[0m\n\u001b[0;32m    <a href='file:///c%3A/Users/User/Code/MMDGraph/.mmdvenv8/lib/site-packages/scipy/sparse/_coo.py?line=242'>243</a>\u001b[0m         \u001b[39mraise\u001b[39;00m \u001b[39mValueError\u001b[39;00m(\u001b[39m'\u001b[39m\u001b[39mrow, column, and data array must all be the \u001b[39m\u001b[39m'\u001b[39m\n\u001b[0;32m    <a href='file:///c%3A/Users/User/Code/MMDGraph/.mmdvenv8/lib/site-packages/scipy/sparse/_coo.py?line=243'>244</a>\u001b[0m                          \u001b[39m'\u001b[39m\u001b[39msame length\u001b[39m\u001b[39m'\u001b[39m)\n\u001b[0;32m    <a href='file:///c%3A/Users/User/Code/MMDGraph/.mmdvenv8/lib/site-packages/scipy/sparse/_coo.py?line=245'>246</a>\u001b[0m     \u001b[39mif\u001b[39;00m \u001b[39mself\u001b[39m\u001b[39m.\u001b[39mdata\u001b[39m.\u001b[39mndim \u001b[39m!=\u001b[39m \u001b[39m1\u001b[39m \u001b[39mor\u001b[39;00m \u001b[39mself\u001b[39m\u001b[39m.\u001b[39mrow\u001b[39m.\u001b[39mndim \u001b[39m!=\u001b[39m \u001b[39m1\u001b[39m \u001b[39mor\u001b[39;00m \\\n\u001b[0;32m    <a href='file:///c%3A/Users/User/Code/MMDGraph/.mmdvenv8/lib/site-packages/scipy/sparse/_coo.py?line=246'>247</a>\u001b[0m             \u001b[39mself\u001b[39m\u001b[39m.\u001b[39mcol\u001b[39m.\u001b[39mndim \u001b[39m!=\u001b[39m \u001b[39m1\u001b[39m:\n\u001b[1;32m--> <a href='file:///c%3A/Users/User/Code/MMDGraph/.mmdvenv8/lib/site-packages/scipy/sparse/_coo.py?line=247'>248</a>\u001b[0m         \u001b[39mraise\u001b[39;00m \u001b[39mValueError\u001b[39;00m(\u001b[39m'\u001b[39m\u001b[39mrow, column, and data arrays must be 1-D\u001b[39m\u001b[39m'\u001b[39m)\n\u001b[0;32m    <a href='file:///c%3A/Users/User/Code/MMDGraph/.mmdvenv8/lib/site-packages/scipy/sparse/_coo.py?line=249'>250</a>\u001b[0m     \u001b[39mreturn\u001b[39;00m \u001b[39mint\u001b[39m(nnz)\n\u001b[0;32m    <a href='file:///c%3A/Users/User/Code/MMDGraph/.mmdvenv8/lib/site-packages/scipy/sparse/_coo.py?line=251'>252</a>\u001b[0m \u001b[39mif\u001b[39;00m axis \u001b[39m<\u001b[39m \u001b[39m0\u001b[39m:\n",
      "\u001b[1;31mValueError\u001b[0m: row, column, and data arrays must be 1-D"
     ]
    }
   ],
   "source": [
    "nx.adjacency_matrix(g1.Gs[0])"
   ]
  },
  {
   "cell_type": "code",
   "execution_count": 14,
   "metadata": {},
   "outputs": [
    {
     "name": "stderr",
     "output_type": "stream",
     "text": [
      "C:\\Users\\User\\AppData\\Local\\Temp\\ipykernel_11840\\1681629727.py:1: FutureWarning: attr_matrix will return an numpy.ndarray instead of a numpy.matrix in NetworkX 3.0.\n",
      "  aaa = nx.attr_matrix(g1.Gs[0], edge_attr=None)[0]\n"
     ]
    }
   ],
   "source": [
    "aaa = nx.attr_matrix(g1.Gs[0], edge_attr=None)[0]"
   ]
  },
  {
   "cell_type": "code",
   "execution_count": 15,
   "metadata": {},
   "outputs": [
    {
     "name": "stderr",
     "output_type": "stream",
     "text": [
      "C:\\Users\\User\\AppData\\Local\\Temp\\ipykernel_11840\\4044359652.py:1: FutureWarning: attr_matrix will return an numpy.ndarray instead of a numpy.matrix in NetworkX 3.0.\n",
      "  aaa = np.array(nx.attr_matrix(g1.Gs[0], edge_attr=None)[0])\n"
     ]
    }
   ],
   "source": [
    "aaa = np.array(nx.attr_matrix(g1.Gs[0], edge_attr='Weight')[0])"
   ]
  }
 ],
 "metadata": {
  "interpreter": {
   "hash": "e5751a66115cca13560cf37aeeed4243eac6d0108f8b06b399eb3b36d8bd3124"
  },
  "kernelspec": {
   "display_name": "Python 3.8.5 (conda)",
   "language": "python",
   "name": "python3"
  },
  "language_info": {
   "codemirror_mode": {
    "name": "ipython",
    "version": 3
   },
   "file_extension": ".py",
   "mimetype": "text/x-python",
   "name": "python",
   "nbconvert_exporter": "python",
   "pygments_lexer": "ipython3",
   "version": "3.8.5"
  },
  "orig_nbformat": 4
 },
 "nbformat": 4,
 "nbformat_minor": 2
}
