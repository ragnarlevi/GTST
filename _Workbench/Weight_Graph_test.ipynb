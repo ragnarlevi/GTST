{
 "cells": [
  {
   "cell_type": "code",
   "execution_count": 1,
   "metadata": {},
   "outputs": [],
   "source": [
    "import networkx as nx\n",
    "import numpy as np\n",
    "import matplotlib.pyplot as plt\n",
    "import matplotlib\n",
    "from matplotlib.cm import get_cmap\n",
    "import seaborn as sns\n",
    "import string\n",
    "import pickle # save data frame (results) in a .pkl file\n",
    "import pandas as pd\n",
    "from datetime import datetime\n",
    "import os, sys\n",
    "import re\n",
    "\n",
    "import grakel as gk\n",
    "\n",
    "\n",
    "sys.path.insert(0, 'C:/Users/User/Code/MMDGraph')\n",
    "sys.path.insert(0, 'C:/Users/User/Code/MMDGraph/myKernels')\n",
    "#from importlib import reload\n",
    "#reload(readfoldertopanda)\n",
    "import mmdutils\n",
    "import importlib\n",
    "importlib.reload(sys.modules['mmdutils'])\n",
    "from mmdutils import readfoldertopanda, PlotROCGeneral, plotVaryingBGDEG, findAUC\n",
    "import MMDforGraphs as mg\n",
    "importlib.reload(sys.modules['MMDforGraphs'])\n",
    "from myKernels import RandomWalk as rw\n",
    "import WL"
   ]
  },
  {
   "cell_type": "markdown",
   "metadata": {},
   "source": [
    "Generate Weighted graphs with scale free structure"
   ]
  },
  {
   "cell_type": "code",
   "execution_count": 2,
   "metadata": {},
   "outputs": [
    {
     "data": {
      "text/plain": [
       "0.5621775472391118"
      ]
     },
     "execution_count": 2,
     "metadata": {},
     "output_type": "execute_result"
    }
   ],
   "source": [
    "from scipy.stats import uniform\n",
    "uniform.rvs(size=1,  loc = 0.4 , scale = 0.5)[0]"
   ]
  },
  {
   "cell_type": "code",
   "execution_count": 9,
   "metadata": {},
   "outputs": [],
   "source": [
    "n1 = 10\n",
    "nnode1 = 5\n",
    "k1 = 2.1\n",
    "\n",
    "n2 = 10\n",
    "nnode2 = 5\n",
    "k2 = 2.1\n",
    "\n",
    "\n",
    "g1 = mg.ScaleFreeGraph(n1, nnode1, k1, fullyConnected = True, e = 'random_edge_weights', ul = 0.4, uu =0.7)\n",
    "g2 = mg.ScaleFreeGraph(n2, nnode2, k2, fullyConnected = True, e = 'random_edge_weights', ul = 0.4, uu =0.5)\n"
   ]
  },
  {
   "cell_type": "code",
   "execution_count": 10,
   "metadata": {},
   "outputs": [
    {
     "name": "stderr",
     "output_type": "stream",
     "text": [
      "  0%|          | 0/210.0 [00:00<?, ?it/s]C:/Users/User/Code/MMDGraph\\myKernels\\RandomWalk.py:903: FutureWarning: attr_matrix will return an numpy.ndarray instead of a numpy.matrix in NetworkX 3.0.\n",
      "  return scipy.sparse.csr_matrix(np.array(nx.attr_matrix(G, edge_attr=edge_attr)[0]), dtype=np.float64)\n",
      "c:\\Users\\User\\Code\\MMDGraph\\.mmdvenv8\\lib\\site-packages\\scipy\\sparse\\linalg\\_eigen\\arpack\\arpack.py:1592: RuntimeWarning: k >= N for N * N square matrix. Attempting to use scipy.linalg.eigh instead.\n",
      "  warnings.warn(\"k >= N for N * N square matrix. \"\n"
     ]
    },
    {
     "ename": "TypeError",
     "evalue": "Cannot use scipy.linalg.eigh for sparse A with k >= N. Use scipy.linalg.eigh(A.toarray()) or reduce k.",
     "output_type": "error",
     "traceback": [
      "\u001b[1;31m---------------------------------------------------------------------------\u001b[0m",
      "\u001b[1;31mTypeError\u001b[0m                                 Traceback (most recent call last)",
      "\u001b[1;32mc:\\Users\\User\\Code\\MMDGraph\\_Workbench\\Weight_Graph_test.ipynb Cell 5'\u001b[0m in \u001b[0;36m<cell line: 33>\u001b[1;34m()\u001b[0m\n\u001b[0;32m     <a href='vscode-notebook-cell:/c%3A/Users/User/Code/MMDGraph/_Workbench/Weight_Graph_test.ipynb#ch0000010?line=30'>31</a>\u001b[0m rw_kernel \u001b[39m=\u001b[39m rw\u001b[39m.\u001b[39mRandomWalk(Gs, c \u001b[39m=\u001b[39m \u001b[39m0.01\u001b[39m, normalize\u001b[39m=\u001b[39m\u001b[39m0\u001b[39m )\n\u001b[0;32m     <a href='vscode-notebook-cell:/c%3A/Users/User/Code/MMDGraph/_Workbench/Weight_Graph_test.ipynb#ch0000010?line=31'>32</a>\u001b[0m \u001b[39m# K = rw_kernel.fit_ARKL(r = 8, label_list = label_list, normalize_adj=True)\u001b[39;00m\n\u001b[1;32m---> <a href='vscode-notebook-cell:/c%3A/Users/User/Code/MMDGraph/_Workbench/Weight_Graph_test.ipynb#ch0000010?line=32'>33</a>\u001b[0m K \u001b[39m=\u001b[39m rw_kernel\u001b[39m.\u001b[39;49mfit_ARKU_plus(r \u001b[39m=\u001b[39;49m \u001b[39m12\u001b[39;49m, normalize_adj\u001b[39m=\u001b[39;49m\u001b[39mFalse\u001b[39;49;00m)\n\u001b[0;32m     <a href='vscode-notebook-cell:/c%3A/Users/User/Code/MMDGraph/_Workbench/Weight_Graph_test.ipynb#ch0000010?line=33'>34</a>\u001b[0m \u001b[39m# K = rw_kernel.fit_random_walk(mu_vec=[0.0, 1.0/(nnode_1*nnode_2)], k = 1, r = 3, normalize_adj=False ) # 1/((nnode_1-1)*(nnode_2-1)))\u001b[39;00m\n\u001b[0;32m     <a href='vscode-notebook-cell:/c%3A/Users/User/Code/MMDGraph/_Workbench/Weight_Graph_test.ipynb#ch0000010?line=35'>36</a>\u001b[0m \u001b[39mprint\u001b[39m(np\u001b[39m.\u001b[39mall(K \u001b[39m==\u001b[39m \u001b[39m0\u001b[39m)) \n",
      "File \u001b[1;32mC:/Users/User/Code/MMDGraph\\myKernels\\RandomWalk.py:316\u001b[0m, in \u001b[0;36mRandomWalk.fit_ARKU_plus\u001b[1;34m(self, r, normalize_adj, edge_attr, verbose)\u001b[0m\n\u001b[0;32m    <a href='file:///c%3A/Users/User/Code/MMDGraph/myKernels/RandomWalk.py?line=313'>314</a>\u001b[0m \u001b[39mif\u001b[39;00m all_A[i] \u001b[39mis\u001b[39;00m \u001b[39mNone\u001b[39;00m:\n\u001b[0;32m    <a href='file:///c%3A/Users/User/Code/MMDGraph/myKernels/RandomWalk.py?line=314'>315</a>\u001b[0m     all_A[i] \u001b[39m=\u001b[39m \u001b[39mself\u001b[39m\u001b[39m.\u001b[39m_get_adj_matrix(\u001b[39mself\u001b[39m\u001b[39m.\u001b[39mX[i], edge_attr \u001b[39m=\u001b[39m edge_attr)\n\u001b[1;32m--> <a href='file:///c%3A/Users/User/Code/MMDGraph/myKernels/RandomWalk.py?line=315'>316</a>\u001b[0m     Lamda_list[i], U_list[i] \u001b[39m=\u001b[39m eigsh(all_A[i]\u001b[39m.\u001b[39;49mT, k \u001b[39m=\u001b[39;49m r)\n\u001b[0;32m    <a href='file:///c%3A/Users/User/Code/MMDGraph/myKernels/RandomWalk.py?line=316'>317</a>\u001b[0m \u001b[39mif\u001b[39;00m all_A[j] \u001b[39mis\u001b[39;00m \u001b[39mNone\u001b[39;00m:\n\u001b[0;32m    <a href='file:///c%3A/Users/User/Code/MMDGraph/myKernels/RandomWalk.py?line=317'>318</a>\u001b[0m     all_A[j] \u001b[39m=\u001b[39m \u001b[39mself\u001b[39m\u001b[39m.\u001b[39m_get_adj_matrix(\u001b[39mself\u001b[39m\u001b[39m.\u001b[39mX[j], edge_attr \u001b[39m=\u001b[39m edge_attr)\n",
      "File \u001b[1;32mc:\\Users\\User\\Code\\MMDGraph\\.mmdvenv8\\lib\\site-packages\\scipy\\sparse\\linalg\\_eigen\\arpack\\arpack.py:1597\u001b[0m, in \u001b[0;36meigsh\u001b[1;34m(A, k, M, sigma, which, v0, ncv, maxiter, tol, return_eigenvectors, Minv, OPinv, mode)\u001b[0m\n\u001b[0;32m   <a href='file:///c%3A/Users/User/Code/MMDGraph/.mmdvenv8/lib/site-packages/scipy/sparse/linalg/_eigen/arpack/arpack.py?line=1591'>1592</a>\u001b[0m warnings\u001b[39m.\u001b[39mwarn(\u001b[39m\"\u001b[39m\u001b[39mk >= N for N * N square matrix. \u001b[39m\u001b[39m\"\u001b[39m\n\u001b[0;32m   <a href='file:///c%3A/Users/User/Code/MMDGraph/.mmdvenv8/lib/site-packages/scipy/sparse/linalg/_eigen/arpack/arpack.py?line=1592'>1593</a>\u001b[0m               \u001b[39m\"\u001b[39m\u001b[39mAttempting to use scipy.linalg.eigh instead.\u001b[39m\u001b[39m\"\u001b[39m,\n\u001b[0;32m   <a href='file:///c%3A/Users/User/Code/MMDGraph/.mmdvenv8/lib/site-packages/scipy/sparse/linalg/_eigen/arpack/arpack.py?line=1593'>1594</a>\u001b[0m               \u001b[39mRuntimeWarning\u001b[39;00m)\n\u001b[0;32m   <a href='file:///c%3A/Users/User/Code/MMDGraph/.mmdvenv8/lib/site-packages/scipy/sparse/linalg/_eigen/arpack/arpack.py?line=1595'>1596</a>\u001b[0m \u001b[39mif\u001b[39;00m issparse(A):\n\u001b[1;32m-> <a href='file:///c%3A/Users/User/Code/MMDGraph/.mmdvenv8/lib/site-packages/scipy/sparse/linalg/_eigen/arpack/arpack.py?line=1596'>1597</a>\u001b[0m     \u001b[39mraise\u001b[39;00m \u001b[39mTypeError\u001b[39;00m(\u001b[39m\"\u001b[39m\u001b[39mCannot use scipy.linalg.eigh for sparse A with \u001b[39m\u001b[39m\"\u001b[39m\n\u001b[0;32m   <a href='file:///c%3A/Users/User/Code/MMDGraph/.mmdvenv8/lib/site-packages/scipy/sparse/linalg/_eigen/arpack/arpack.py?line=1597'>1598</a>\u001b[0m                     \u001b[39m\"\u001b[39m\u001b[39mk >= N. Use scipy.linalg.eigh(A.toarray()) or\u001b[39m\u001b[39m\"\u001b[39m\n\u001b[0;32m   <a href='file:///c%3A/Users/User/Code/MMDGraph/.mmdvenv8/lib/site-packages/scipy/sparse/linalg/_eigen/arpack/arpack.py?line=1598'>1599</a>\u001b[0m                     \u001b[39m\"\u001b[39m\u001b[39m reduce k.\u001b[39m\u001b[39m\"\u001b[39m)\n\u001b[0;32m   <a href='file:///c%3A/Users/User/Code/MMDGraph/.mmdvenv8/lib/site-packages/scipy/sparse/linalg/_eigen/arpack/arpack.py?line=1599'>1600</a>\u001b[0m \u001b[39mif\u001b[39;00m \u001b[39misinstance\u001b[39m(A, LinearOperator):\n\u001b[0;32m   <a href='file:///c%3A/Users/User/Code/MMDGraph/.mmdvenv8/lib/site-packages/scipy/sparse/linalg/_eigen/arpack/arpack.py?line=1600'>1601</a>\u001b[0m     \u001b[39mraise\u001b[39;00m \u001b[39mTypeError\u001b[39;00m(\u001b[39m\"\u001b[39m\u001b[39mCannot use scipy.linalg.eigh for LinearOperator \u001b[39m\u001b[39m\"\u001b[39m\n\u001b[0;32m   <a href='file:///c%3A/Users/User/Code/MMDGraph/.mmdvenv8/lib/site-packages/scipy/sparse/linalg/_eigen/arpack/arpack.py?line=1601'>1602</a>\u001b[0m                     \u001b[39m\"\u001b[39m\u001b[39mA with k >= N.\u001b[39m\u001b[39m\"\u001b[39m)\n",
      "\u001b[1;31mTypeError\u001b[0m: Cannot use scipy.linalg.eigh for sparse A with k >= N. Use scipy.linalg.eigh(A.toarray()) or reduce k."
     ]
    }
   ],
   "source": [
    "importlib.reload(sys.modules['MMDforGraphs'])\n",
    "g1.Generate()\n",
    "g2.Generate()\n",
    "Gs = g1.Gs + g2.Gs\n",
    "\n",
    "# Grakel kernels\n",
    "# graph_list = gk.graph_from_networkx(Gs, node_labels_tag='label')  # Convert to graphs to Grakel format\n",
    "# kernel = [{\"name\": \"multiscale_laplacian\"}]\n",
    "# K = mg.KernelMatrix(graph_list, kernel, False)   \n",
    "#kernel = [{\"name\": \"weisfeiler_lehman\", \"n_iter\": 4}, {\"name\": \"vertex_histogram\"}]\n",
    "#kernel = [{\"name\": \"WL-OA\", \"n_iter\": 4}]\n",
    "# kernel = [{\"name\": \"SP\", \"with_labels\": 1}]\n",
    "# kernel = [{\"name\": \"lovasz_theta\", \"n_samples\":20}]\n",
    "#kernel = [{\"name\": \"core_framework\", \"min_core\": 1}, {\"name\":\"propagation\", 't_max':5, 'w':0.1, 'M':\"H\"}]\n",
    "# kernel = [{\"name\": \"pyramid_match\", \"with_labels\":False, \"d\":2, \"L\":4}] \n",
    "#kernel = [{\"name\":'RW', 'kernel_type':'geometric', 'lamda':0.1, 'with_labels':False, 'p':3}]\n",
    "# kernel = [{\"name\":'odd_sth', 'h':3}]\n",
    "#kernel = [{\"name\": \"weisfeiler_lehman\", \"n_iter\": 1}, {\"name\": \"propagation\", \"t_max\": 2, \"w\":0.01, \"M\":'TV'}]\n",
    "\n",
    "#init_kernel = gk.GraphKernel(kernel= kernel, normalize=1, n_jobs= 4)\n",
    "#K = init_kernel.fit_transform(graph_list)\n",
    "\n",
    "# My kernels\n",
    "# RW kernel\n",
    "# label list for rw\n",
    "label_list = []\n",
    "for G in Gs:\n",
    "    label_list.append(np.unique(list(nx.get_node_attributes(G, 'label').values())))\n",
    "\n",
    "# label_list = np.unique(np.concatenate(label_list))\n",
    "rw_kernel = rw.RandomWalk(Gs, c = 0.01, normalize=0 )\n",
    "# K = rw_kernel.fit_ARKL(r = 8, label_list = label_list, normalize_adj=True)\n",
    "K = rw_kernel.fit_ARKU_plus(r = 12, normalize_adj=False)\n",
    "# K = rw_kernel.fit_random_walk(mu_vec=[0.0, 1.0/(nnode_1*nnode_2)], k = 1, r = 3, normalize_adj=False ) # 1/((nnode_1-1)*(nnode_2-1)))\n",
    "\n",
    "print(np.all(K == 0)) \n",
    "print(K)\n",
    "\n",
    "MMD_functions = [mg.MMD_b, mg.MMD_u]\n",
    "\n",
    "# initialize bootstrap class, we only want this to be initalized once so that numba njit\n",
    "# only gets compiled once (at first call)\n",
    "kernel_hypothesis = mg.BoostrapMethods(MMD_functions)\n",
    "function_arguments=[dict(n = g1.n, m = g2.n ), dict(n = g1.n, m = g2.n )]\n",
    "kernel_hypothesis.Bootstrap(K, function_arguments, B = 3000, method = 'BootstrapScheme')\n",
    "\n",
    "# Run power\n",
    "#threshold = np.quantile(kernel_hypothesis.boot_test_statistic['MMD_u'], 1-0.05)\n",
    "#print(f'threshold {threshold}')\n",
    "#ratio, power, V = mg.power_ratio(K, kernel_hypothesis.sample_test_statistic['MMD_u'], threshold, n_1)\n",
    "#print(f'V {V}')\n",
    "#print(f'ratio {ratio}')\n",
    "#print(f'power {power}')\n",
    "print(f'p_value {kernel_hypothesis.p_values}')\n",
    "print(f\"MMD_u {kernel_hypothesis.sample_test_statistic['MMD_u']}\")"
   ]
  },
  {
   "cell_type": "code",
   "execution_count": 8,
   "metadata": {},
   "outputs": [
    {
     "data": {
      "text/plain": [
       "0.07550579738028522"
      ]
     },
     "execution_count": 8,
     "metadata": {},
     "output_type": "execute_result"
    }
   ],
   "source": [
    "np.max(K)"
   ]
  }
 ],
 "metadata": {
  "interpreter": {
   "hash": "e5751a66115cca13560cf37aeeed4243eac6d0108f8b06b399eb3b36d8bd3124"
  },
  "kernelspec": {
   "display_name": "Python 3.8.5 (conda)",
   "language": "python",
   "name": "python3"
  },
  "language_info": {
   "codemirror_mode": {
    "name": "ipython",
    "version": 3
   },
   "file_extension": ".py",
   "mimetype": "text/x-python",
   "name": "python",
   "nbconvert_exporter": "python",
   "pygments_lexer": "ipython3",
   "version": "3.8.5"
  },
  "orig_nbformat": 4
 },
 "nbformat": 4,
 "nbformat_minor": 2
}
