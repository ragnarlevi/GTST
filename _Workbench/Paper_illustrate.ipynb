{
 "cells": [
  {
   "cell_type": "code",
   "execution_count": 28,
   "metadata": {},
   "outputs": [],
   "source": [
    "sys.path.insert(0, 'C:/Users/ragna/Documents/Code/MMDGraph')\n",
    "import networkx as nx\n",
    "import MMDforGraphs as mg\n",
    "import numpy as np\n",
    "import pandas as pd\n",
    "import matplotlib.pyplot as plt"
   ]
  },
  {
   "cell_type": "markdown",
   "metadata": {},
   "source": [
    "Generate two sample testing"
   ]
  },
  {
   "cell_type": "code",
   "execution_count": 67,
   "metadata": {},
   "outputs": [],
   "source": [
    "sample1 = mg.BinomialGraphs(10, 5, 2, fullyConnected = True)\n",
    "sample1.Generate()\n",
    "sample2 = mg.BinomialGraphs(10, 5, 3, fullyConnected = True)\n",
    "sample2.Generate()"
   ]
  },
  {
   "cell_type": "code",
   "execution_count": 96,
   "metadata": {},
   "outputs": [
    {
     "data": {
      "text/plain": [
       "<matplotlib.collections.LineCollection at 0x23f2293c250>"
      ]
     },
     "execution_count": 96,
     "metadata": {},
     "output_type": "execute_result"
    },
    {
     "data": {
      "image/png": "[encoded data removed]",
      "text/plain": [
       "<Figure size 144x144 with 1 Axes>"
      ]
     },
     "metadata": {},
     "output_type": "display_data"
    }
   ],
   "source": [
    "sample1 = mg.BinomialGraphs(10, 5, 2, fullyConnected = True)\n",
    "sample1.Generate()\n",
    "fig, ax = plt.subplots(1,1, figsize = (2,2))\n",
    "i = 0\n",
    "pos = nx.kamada_kawai_layout(sample1.Gs[i])\n",
    "nx.draw_networkx_nodes(sample1.Gs[i], pos = pos, ax = ax, node_size = 100)\n",
    "nx.draw_networkx_edges(sample1.Gs[i], pos = pos, ax = ax)\n",
    "#nx.draw(sample1.Gs[i], pos = pos, ax = ax)"
   ]
  },
  {
   "cell_type": "code",
   "execution_count": 63,
   "metadata": {},
   "outputs": [
    {
     "data": {
      "text/plain": [
       "<matplotlib.collections.LineCollection at 0x23f213fbca0>"
      ]
     },
     "execution_count": 63,
     "metadata": {},
     "output_type": "execute_result"
    },
    {
     "data": {
      "image/png": "[encoded data removed]",
      "text/plain": [
       "<Figure size 144x144 with 1 Axes>"
      ]
     },
     "metadata": {},
     "output_type": "display_data"
    }
   ],
   "source": [
    "fig, ax = plt.subplots(1,1, figsize = (2,2))\n",
    "i = 3\n",
    "pos = nx.kamada_kawai_layout(sample2.Gs[i])\n",
    "nx.draw_networkx_nodes(sample2.Gs[i], pos = pos, ax = ax, node_size = 100, node_color = 'red')\n",
    "nx.draw_networkx_edges(sample2.Gs[i], pos = pos, ax = ax)\n",
    "#nx.draw(sample1.Gs[i], pos = pos, ax = ax)"
   ]
  },
  {
   "cell_type": "markdown",
   "metadata": {},
   "source": [
    "Outlier Graph"
   ]
  },
  {
   "cell_type": "code",
   "execution_count": 116,
   "metadata": {},
   "outputs": [
    {
     "data": {
      "image/png": "[encoded data removed]",
      "text/plain": [
       "<Figure size 144x144 with 1 Axes>"
      ]
     },
     "metadata": {},
     "output_type": "display_data"
    }
   ],
   "source": [
    "fig, ax = plt.subplots(1,1, figsize = (2,2))\n",
    "G = nx.complete_graph(5)\n",
    "nx.draw(G,  ax = ax, node_size = 100, node_color = 'red')\n",
    "#nx.draw_networkx_edges(G,  ax = ax)"
   ]
  },
  {
   "cell_type": "code",
   "execution_count": 103,
   "metadata": {},
   "outputs": [
    {
     "data": {
      "text/plain": [
       "NodeDataView({0: {}, 1: {}, 2: {}, 3: {}, 4: {}})"
      ]
     },
     "execution_count": 103,
     "metadata": {},
     "output_type": "execute_result"
    }
   ],
   "source": [
    "G.nodes(True)"
   ]
  },
  {
   "cell_type": "code",
   "execution_count": 115,
   "metadata": {},
   "outputs": [
    {
     "data": {
      "text/plain": [
       "<matplotlib.collections.PathCollection at 0x23f2348c460>"
      ]
     },
     "execution_count": 115,
     "metadata": {},
     "output_type": "execute_result"
    },
    {
     "data": {
      "image/png": "[encoded data removed]",
      "text/plain": [
       "<Figure size 288x288 with 1 Axes>"
      ]
     },
     "metadata": {},
     "output_type": "display_data"
    }
   ],
   "source": [
    "fig, ax = plt.subplots(1,1, figsize = (4,4))\n",
    "G = nx.star_graph(4)\n",
    "pos = nx.spring_layout(G)\n",
    "#nx.set_node_attributes(G, , 'label')\n",
    "#labels = {i:str(np.round(x,2)) for i, x in enumerate(np.random.uniform(0, 0.1, size = 5))}\n",
    "labels = {i:str(np.round(x,2)) for i, x in enumerate([0.15, 0.2, 0.17, 0.17, 0.19])}\n",
    "nx.draw(G, pos = pos)\n",
    "nx.draw_networkx_labels(G, pos, labels = labels)\n",
    "nx.draw_networkx_nodes(sample2.Gs[i], pos = pos, ax = ax, node_size = 900, node_color = 'red')"
   ]
  }
 ],
 "metadata": {
  "kernelspec": {
   "display_name": "Python 3.10.0 (conda)",
   "language": "python",
   "name": "python3"
  },
  "language_info": {
   "codemirror_mode": {
    "name": "ipython",
    "version": 3
   },
   "file_extension": ".py",
   "mimetype": "text/x-python",
   "name": "python",
   "nbconvert_exporter": "python",
   "pygments_lexer": "ipython3",
   "version": "3.10.0"
  },
  "orig_nbformat": 4,
  "vscode": {
   "interpreter": {
    "hash": "098e9eb8178592c359543909d1f1d8d2c5ca624aa6576d9434704be0a6bbcc66"
   }
  }
 },
 "nbformat": 4,
 "nbformat_minor": 2
}
