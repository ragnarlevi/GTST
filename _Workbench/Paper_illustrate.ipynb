{
 "cells": [
  {
   "cell_type": "code",
   "execution_count": 2,
   "metadata": {},
   "outputs": [
    {
     "ename": "ModuleNotFoundError",
     "evalue": "No module named 'grakel'",
     "output_type": "error",
     "traceback": [
      "\u001b[1;31m---------------------------------------------------------------------------\u001b[0m",
      "\u001b[1;31mModuleNotFoundError\u001b[0m                       Traceback (most recent call last)",
      "\u001b[1;32mc:\\Users\\ragna\\Documents\\Code\\MMDGraph\\_Workbench\\Paper_illustrate.ipynb Cell 1'\u001b[0m in \u001b[0;36m<cell line: 3>\u001b[1;34m()\u001b[0m\n\u001b[0;32m      <a href='vscode-notebook-cell:/c%3A/Users/ragna/Documents/Code/MMDGraph/_Workbench/Paper_illustrate.ipynb#ch0000000?line=0'>1</a>\u001b[0m sys\u001b[39m.\u001b[39mpath\u001b[39m.\u001b[39minsert(\u001b[39m0\u001b[39m, \u001b[39m'\u001b[39m\u001b[39mC:/Users/ragna/Documents/Code/MMDGraph\u001b[39m\u001b[39m'\u001b[39m)\n\u001b[0;32m      <a href='vscode-notebook-cell:/c%3A/Users/ragna/Documents/Code/MMDGraph/_Workbench/Paper_illustrate.ipynb#ch0000000?line=1'>2</a>\u001b[0m \u001b[39mimport\u001b[39;00m \u001b[39mnetworkx\u001b[39;00m \u001b[39mas\u001b[39;00m \u001b[39mnx\u001b[39;00m\n\u001b[1;32m----> <a href='vscode-notebook-cell:/c%3A/Users/ragna/Documents/Code/MMDGraph/_Workbench/Paper_illustrate.ipynb#ch0000000?line=2'>3</a>\u001b[0m \u001b[39mimport\u001b[39;00m \u001b[39mMMDforGraphs\u001b[39;00m \u001b[39mas\u001b[39;00m \u001b[39mmg\u001b[39;00m\n\u001b[0;32m      <a href='vscode-notebook-cell:/c%3A/Users/ragna/Documents/Code/MMDGraph/_Workbench/Paper_illustrate.ipynb#ch0000000?line=3'>4</a>\u001b[0m importlib\u001b[39m.\u001b[39mreload(sys\u001b[39m.\u001b[39mmodules[\u001b[39m'\u001b[39m\u001b[39mMMDforGraphs\u001b[39m\u001b[39m'\u001b[39m])\n",
      "File \u001b[1;32mC:\\Users/ragna/Documents/Code/MMDGraph\\MMDforGraphs.py:6\u001b[0m, in \u001b[0;36m<module>\u001b[1;34m\u001b[0m\n\u001b[0;32m      <a href='file:///c%3A/Users/ragna/Documents/Code/MMDGraph/MMDforGraphs.py?line=3'>4</a>\u001b[0m \u001b[39mimport\u001b[39;00m \u001b[39mnetworkx\u001b[39;00m \u001b[39mas\u001b[39;00m \u001b[39mnx\u001b[39;00m\n\u001b[0;32m      <a href='file:///c%3A/Users/ragna/Documents/Code/MMDGraph/MMDforGraphs.py?line=4'>5</a>\u001b[0m \u001b[39mimport\u001b[39;00m \u001b[39mnumpy\u001b[39;00m \u001b[39mas\u001b[39;00m \u001b[39mnp\u001b[39;00m\n\u001b[1;32m----> <a href='file:///c%3A/Users/ragna/Documents/Code/MMDGraph/MMDforGraphs.py?line=5'>6</a>\u001b[0m \u001b[39mimport\u001b[39;00m \u001b[39mgrakel\u001b[39;00m \u001b[39mas\u001b[39;00m \u001b[39mgk\u001b[39;00m\n\u001b[0;32m      <a href='file:///c%3A/Users/ragna/Documents/Code/MMDGraph/MMDforGraphs.py?line=6'>7</a>\u001b[0m \u001b[39mimport\u001b[39;00m \u001b[39mwarnings\u001b[39;00m\n\u001b[0;32m      <a href='file:///c%3A/Users/ragna/Documents/Code/MMDGraph/MMDforGraphs.py?line=7'>8</a>\u001b[0m \u001b[39mfrom\u001b[39;00m \u001b[39mscipy\u001b[39;00m\u001b[39m.\u001b[39;00m\u001b[39mstats\u001b[39;00m \u001b[39mimport\u001b[39;00m norm\n",
      "\u001b[1;31mModuleNotFoundError\u001b[0m: No module named 'grakel'"
     ]
    }
   ],
   "source": [
    "sys.path.insert(0, 'C:/Users/ragna/Documents/Code/MMDGraph')\n",
    "import networkx as nx\n",
    "import MMDforGraphs as mg\n",
    "importlib.reload(sys.modules['MMDforGraphs'])"
   ]
  }
 ],
 "metadata": {
  "interpreter": {
   "hash": "a38fdd781aaa943de00e1150331d9e14a3bbabe9b86079220a7bf02c712a7c6f"
  },
  "kernelspec": {
   "display_name": "Python 3.10.0 (conda)",
   "language": "python",
   "name": "python3"
  },
  "language_info": {
   "codemirror_mode": {
    "name": "ipython",
    "version": 3
   },
   "file_extension": ".py",
   "mimetype": "text/x-python",
   "name": "python",
   "nbconvert_exporter": "python",
   "pygments_lexer": "ipython3",
   "version": "3.10.0"
  },
  "orig_nbformat": 4
 },
 "nbformat": 4,
 "nbformat_minor": 2
}
