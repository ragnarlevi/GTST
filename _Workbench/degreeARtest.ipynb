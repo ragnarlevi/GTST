{
 "cells": [
  {
   "cell_type": "code",
   "execution_count": 1,
   "metadata": {},
   "outputs": [],
   "source": [
    "\n",
    "import networkx as nx\n",
    "import numpy as np\n",
    "import grakel as gk\n",
    "import matplotlib.pyplot as plt\n",
    "import seaborn as sns\n",
    "import statsmodels\n",
    "import tqdm\n",
    "\n",
    "\n",
    "import sys\n",
    "sys.path.append(\"../\")\n",
    "import MMDforGraphs as mg\n",
    "from importlib import reload  \n",
    "foo = reload(mg)\n",
    "import myKernels.RandomWalk as rw"
   ]
  },
  {
   "cell_type": "code",
   "execution_count": 34,
   "metadata": {},
   "outputs": [],
   "source": [
    "np.random.seed(seed=42)\n",
    "k = 5\n",
    "sparsity = .9\n",
    "# generate the symmetric sparsity mask\n",
    "mask = np.random.uniform(size = k)\n",
    "mask = mask * (mask < sparsity)\n",
    "mask = np.triu(mask)\n",
    "mask = mask + mask.T + np.identity(k)\n",
    "mask[mask > 0] = 1\n",
    "\n",
    "# generate the symmetric precision matrix\n",
    "theta = np.random.normal(size = (k,k))\n",
    "theta = np.random.normal(size = (k,k))\n",
    "theta = np.triu(theta)\n",
    "theta = theta + theta.T + np.identity(k)\n",
    "\n",
    "# apply the reqired sparsity\n",
    "theta = theta * mask\n",
    "\n",
    "l, _ = np.linalg.eigh(theta)\n",
    "# force it to be positive definite\n",
    "theta = theta - (np.min(l)-.1) * np.identity(k)"
   ]
  },
  {
   "cell_type": "code",
   "execution_count": 33,
   "metadata": {},
   "outputs": [
    {
     "data": {
      "text/plain": [
       "array([[ 3.31578085,  0.        ,  0.        , -0.22945045,  0.38934891],\n",
       "       [ 0.        ,  5.82327615,  0.        ,  1.19363972,  0.21863832],\n",
       "       [ 0.        ,  0.        ,  0.4727032 ,  0.77370042, -0.53814166],\n",
       "       [-0.22945045,  1.19363972,  0.77370042,  3.90814939,  0.58212279],\n",
       "       [ 0.38934891,  0.21863832, -0.53814166,  0.58212279,  2.39233684]])"
      ]
     },
     "execution_count": 33,
     "metadata": {},
     "output_type": "execute_result"
    }
   ],
   "source": [
    "theta"
   ]
  },
  {
   "cell_type": "code",
   "execution_count": 35,
   "metadata": {},
   "outputs": [
    {
     "data": {
      "text/plain": [
       "array([[ 4.25874059e+00,  0.00000000e+00, -5.52786232e-03,\n",
       "        -2.29450454e-01,  3.89348913e-01],\n",
       "       [ 0.00000000e+00,  6.76623590e+00,  2.77831304e+00,\n",
       "         1.19363972e+00,  2.18638316e-01],\n",
       "       [-5.52786232e-03,  2.77831304e+00,  1.41566294e+00,\n",
       "         7.73700417e-01, -5.38141662e-01],\n",
       "       [-2.29450454e-01,  1.19363972e+00,  7.73700417e-01,\n",
       "         4.85110913e+00,  5.82122795e-01],\n",
       "       [ 3.89348913e-01,  2.18638316e-01, -5.38141662e-01,\n",
       "         5.82122795e-01,  3.33529658e+00]])"
      ]
     },
     "execution_count": 35,
     "metadata": {},
     "output_type": "execute_result"
    }
   ],
   "source": [
    "theta"
   ]
  },
  {
   "cell_type": "code",
   "execution_count": null,
   "metadata": {},
   "outputs": [],
   "source": []
  },
  {
   "cell_type": "code",
   "execution_count": 2,
   "metadata": {},
   "outputs": [],
   "source": [
    "bg1 = mg.TemporalBinomialGraphs(n = 100, nnode = 40, k = 4, ar = 0.9, l = 'degreelabels', fullyConnected = True)\n",
    "bg2 = mg.TemporalBinomialGraphs(n = 100, nnode = 40, k = 4, ar = 0.7, l = 'degreelabels', fullyConnected = True)"
   ]
  },
  {
   "cell_type": "code",
   "execution_count": 4,
   "metadata": {},
   "outputs": [
    {
     "name": "stderr",
     "output_type": "stream",
     "text": [
      "  0%|          | 0/20100.0 [00:00<?, ?it/s]..\\myKernels\\RandomWalk.py:903: FutureWarning: adjacency_matrix will return a scipy.sparse array instead of a matrix in Networkx 3.0.\n",
      "  return scipy.sparse.csr_matrix(nx.linalg.adjacency_matrix(G), dtype=np.float64)\n",
      "100%|██████████| 20100/20100.0 [02:58<00:00, 112.43it/s]\n"
     ]
    },
    {
     "name": "stdout",
     "output_type": "stream",
     "text": [
      "False\n",
      "[[0.00077071 0.00079574 0.00079923 ... 0.00074435 0.00075826 0.00076458]\n",
      " [0.00079574 0.00082546 0.00082997 ... 0.00076428 0.00078077 0.00078858]\n",
      " [0.00079923 0.00082997 0.00083503 ... 0.00076654 0.00078357 0.00079196]\n",
      " ...\n",
      " [0.00074435 0.00076428 0.00076654 ... 0.0007236  0.00073471 0.00073928]\n",
      " [0.00075826 0.00078077 0.00078357 ... 0.00073471 0.00074724 0.00075262]\n",
      " [0.00076458 0.00078858 0.00079196 ... 0.00073928 0.00075262 0.0007587 ]]\n",
      "p_value {'MMD_b': 0.207, 'MMD_u': 0.207}\n",
      "MMD_u 5.192274661744087e-08\n"
     ]
    }
   ],
   "source": [
    "# importlib.reload(sys.modules['MMDforGraphs'])\n",
    "bg1.Generate()\n",
    "bg2.Generate()\n",
    "Gs = bg1.Gs + bg2.Gs\n",
    "\n",
    "# Grakel kernels\n",
    "graph_list = gk.graph_from_networkx(Gs, node_labels_tag='label')  # Convert to graphs to Grakel format\n",
    "# kernel = [{\"name\": \"multiscale_laplacian\"}]\n",
    "# K = mg.KernelMatrix(graph_list, kernel, False)   \n",
    "#kernel = [{\"name\": \"weisfeiler_lehman\", \"n_iter\": 4}, {\"name\": \"vertex_histogram\"}]\n",
    "kernel = [{\"name\": \"WL-OA\", \"n_iter\": 4}]\n",
    "# kernel = [{\"name\": \"SP\", \"with_labels\": 1}]\n",
    "# kernel = [{\"name\": \"lovasz_theta\", \"n_samples\":20}]\n",
    "#kernel = [{\"name\": \"core_framework\", \"min_core\": 1}, {\"name\":\"propagation\", 't_max':5, 'w':0.1, 'M':\"H\"}]\n",
    "# kernel = [{\"name\": \"pyramid_match\", \"with_labels\":False, \"d\":2, \"L\":4}] \n",
    "#kernel = [{\"name\":'RW', 'kernel_type':'geometric', 'lamda':0.1, 'with_labels':False, 'p':3}]\n",
    "# kernel = [{\"name\":'odd_sth', 'h':3}]\n",
    "#kernel = [{\"name\": \"weisfeiler_lehman\", \"n_iter\": 1}, {\"name\": \"propagation\", \"t_max\": 2, \"w\":0.01, \"M\":'TV'}]\n",
    "\n",
    "init_kernel = gk.GraphKernel(kernel= kernel, normalize=1, n_jobs= 4)\n",
    "#K = init_kernel.fit_transform(graph_list)\n",
    "\n",
    "# My kernels\n",
    "# RW kernel\n",
    "# label list for rw\n",
    "label_list = []\n",
    "for G in Gs:\n",
    "    label_list.append(np.unique(list(nx.get_node_attributes(G, 'label').values())))\n",
    "\n",
    "# label_list = np.unique(np.concatenate(label_list))\n",
    "rw_kernel = rw.RandomWalk(Gs, c = 0.01, normalize=0 )\n",
    "# K = rw_kernel.fit_ARKL(r = 8, label_list = label_list, normalize_adj=True)\n",
    "K = rw_kernel.fit_ARKU_plus(r = 12, normalize_adj=False)\n",
    "# K = rw_kernel.fit_random_walk(mu_vec=[0.0, 1.0/(nnode_1*nnode_2)], k = 1, r = 3, normalize_adj=False ) # 1/((nnode_1-1)*(nnode_2-1)))\n",
    "\n",
    "print(np.all(K == 0)) \n",
    "print(K)\n",
    "\n",
    "\n",
    "MMD_functions = [mg.MMD_b, mg.MMD_u]\n",
    "\n",
    "# initialize bootstrap class, we only want this to be initalized once so that numba njit\n",
    "# only gets compiled once (at first call)\n",
    "kernel_hypothesis = mg.BoostrapMethods(MMD_functions)\n",
    "function_arguments=[dict(n = bg1.n, m = bg2.n ), dict(n = bg1.n, m = bg2.n )]\n",
    "kernel_hypothesis.Bootstrap(K, function_arguments, B = 3000)\n",
    "\n",
    "# Run power\n",
    "#threshold = np.quantile(kernel_hypothesis.boot_test_statistic['MMD_u'], 1-0.05)\n",
    "#print(f'threshold {threshold}')\n",
    "#ratio, power, V = mg.power_ratio(K, kernel_hypothesis.sample_test_statistic['MMD_u'], threshold, n_1)\n",
    "#print(f'V {V}')\n",
    "#print(f'ratio {ratio}')\n",
    "#print(f'power {power}')\n",
    "print(f'p_value {kernel_hypothesis.p_values}')\n",
    "print(f\"MMD_u {kernel_hypothesis.sample_test_statistic['MMD_u']}\")"
   ]
  }
 ],
 "metadata": {
  "interpreter": {
   "hash": "e5751a66115cca13560cf37aeeed4243eac6d0108f8b06b399eb3b36d8bd3124"
  },
  "kernelspec": {
   "display_name": "Python 3.8.5",
   "language": "python",
   "name": "python3"
  },
  "language_info": {
   "codemirror_mode": {
    "name": "ipython",
    "version": 3
   },
   "file_extension": ".py",
   "mimetype": "text/x-python",
   "name": "python",
   "nbconvert_exporter": "python",
   "pygments_lexer": "ipython3",
   "version": "3.8.5"
  },
  "orig_nbformat": 4
 },
 "nbformat": 4,
 "nbformat_minor": 2
}
