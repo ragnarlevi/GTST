{
 "cells": [
  {
   "cell_type": "code",
   "execution_count": 36,
   "metadata": {},
   "outputs": [],
   "source": [
    "import networkx as nx\n",
    "import numpy as np\n",
    "import matplotlib.pyplot as plt\n",
    "import matplotlib\n",
    "from matplotlib.cm import get_cmap\n",
    "import seaborn as sns\n",
    "import string\n",
    "import pickle # save data frame (results) in a .pkl file\n",
    "import pandas as pd\n",
    "from datetime import datetime\n",
    "import os, sys\n",
    "import re\n",
    "\n",
    "import grakel as gk\n",
    "\n",
    "\n",
    "sys.path.insert(0, 'C:/Users/ragna/Documents/Ragnar/Code/MMDGraph')\n",
    "sys.path.insert(0, 'C:/Users/ragna/Documents/Ragnar/Code/MMDGraph/myKernels')\n",
    "#from importlib import reload\n",
    "#reload(readfoldertopanda)\n",
    "import mmdutils\n",
    "import importlib\n",
    "importlib.reload(sys.modules['mmdutils'])\n",
    "from mmdutils import readfoldertopanda, PlotROCGeneral, plotVaryingBGDEG, findAUC\n",
    "import MMDforGraphs as mg\n",
    "importlib.reload(sys.modules['MMDforGraphs'])\n",
    "from myKernels import RandomWalk as rw\n",
    "import WL"
   ]
  },
  {
   "cell_type": "code",
   "execution_count": 55,
   "metadata": {},
   "outputs": [],
   "source": [
    "from importlib import reload  \n",
    "foo = reload(mg)\n",
    "\n",
    "n_1 = 20\n",
    "n_2 = 20\n",
    "nnode_1 = 50\n",
    "nnode_2 = 70\n",
    "\n",
    "\n",
    "bg1 = mg.BinomialGraphs(n_1, nnode_1, k = 2, l = 'degreelabels', fullyConnected = True)\n",
    "bg2 = mg.BinomialGraphs(n_2, nnode_2, k = 2.25, l = 'degreelabels', fullyConnected = True)\n",
    "bg1.Generate()\n",
    "bg2.Generate()\n",
    "Gs = bg1.Gs + bg2.Gs"
   ]
  },
  {
   "cell_type": "code",
   "execution_count": 56,
   "metadata": {},
   "outputs": [],
   "source": [
    "importlib.reload(sys.modules['WL'])\n",
    "wl_graphs = WL.WL()\n",
    "X, new_labels = wl_graphs.fit_transform(Gs, 4)"
   ]
  },
  {
   "cell_type": "code",
   "execution_count": 4,
   "metadata": {},
   "outputs": [],
   "source": [
    "def issymmetric(a, rtol=1e-05, atol=1e-08):\n",
    "    \"\"\"\n",
    "    Check if matrix is symmetric\n",
    "    \"\"\"\n",
    "    return np.allclose(a, a.T, rtol=rtol, atol=atol)"
   ]
  },
  {
   "cell_type": "code",
   "execution_count": 9,
   "metadata": {},
   "outputs": [
    {
     "name": "stdout",
     "output_type": "stream",
     "text": [
      "False\n",
      "[[1.         0.65465759 0.67816095 ... 0.59818902 0.69059201 0.65387778]\n",
      " [0.65465759 1.         0.59358957 ... 0.67599099 0.60823238 0.66602959]\n",
      " [0.67816095 0.59358957 1.         ... 0.52041927 0.73442417 0.58179246]\n",
      " ...\n",
      " [0.59818902 0.67599099 0.52041927 ... 1.         0.5435901  0.65167855]\n",
      " [0.69059201 0.60823238 0.73442417 ... 0.5435901  1.         0.61424548]\n",
      " [0.65387778 0.66602959 0.58179246 ... 0.65167855 0.61424548 1.        ]]\n",
      "threshold -0.0011769405148253087\n",
      "V 3.2969134132342215\n",
      "ratio 0.0012063278482694817\n",
      "power 0.5004812550659778\n",
      "p_value {'MMD_b': 0.326, 'MMD_u': 0.326}\n",
      "MMD_u 0.0010134377656922933\n"
     ]
    }
   ],
   "source": [
    "importlib.reload(sys.modules['MMDforGraphs'])\n",
    "bg1.Generate()\n",
    "bg2.Generate()\n",
    "Gs = bg1.Gs + bg2.Gs\n",
    "\n",
    "\n",
    "# Grakel kernels\n",
    "\n",
    "\n",
    "graph_list = gk.graph_from_networkx(Gs, node_labels_tag='label')  # Convert to graphs to Grakel format\n",
    "# kernel = [{\"name\": \"multiscale_laplacian\"}]\n",
    "# K = mg.KernelMatrix(graph_list, kernel, False)   \n",
    "kernel = [{\"name\": \"weisfeiler_lehman\", \"n_iter\": 4}, {\"name\": \"vertex_histogram\"}]\n",
    "#kernel = [{\"name\": \"WL-OA\", \"n_iter\": 4}]\n",
    "# kernel = [{\"name\": \"lovasz_theta\", \"n_samples\":20}]\n",
    "#kernel = [{\"name\": \"core_framework\", \"min_core\": 1}, {\"name\":\"propagation\", 't_max':5, 'w':0.1, 'M':\"H\"}]\n",
    "# kernel = [{\"name\": \"pyramid_match\", \"with_labels\":True, \"d\":1, \"L\":2}] \n",
    "#kernel = [{\"name\":'RW', 'kernel_type':'geometric', 'lamda':0.1, 'with_labels':False, 'p':3}]\n",
    "#kernel = [{\"name\":'odd_sth', 'h':3}]\n",
    "# kernel = [{\"name\": \"propagation\", \"t_max\": 4, \"w\":1, \"M\":'TV'}]\n",
    "init_kernel = gk.GraphKernel(kernel= kernel, normalize=1, n_jobs= 4)\n",
    "K = init_kernel.fit_transform(graph_list)\n",
    "\n",
    "# My kernels\n",
    "# RW kernel\n",
    "# label list for rw\n",
    "# label_list = []\n",
    "# for G in Gs:\n",
    "#     label_list.append(np.unique(list(nx.get_node_attributes(G, 'label').values())))\n",
    "\n",
    "# label_list = np.unique(np.concatenate(label_list))\n",
    "# rw_kernel = rw.RandomWalk(Gs, c = 0.1)\n",
    "# K = rw_kernel.fit_ARKL(r = 2, label_list = label_list, normalize_adj=True)\n",
    "#K = rw_kernel.fit_ARKU_plus(r = 6, normalize_adj=False)\n",
    "\n",
    "print(np.all(K == 0)) \n",
    "print(K)\n",
    "\n",
    "\n",
    "MMD_functions = [mg.MMD_b, mg.MMD_u]\n",
    "\n",
    "# initialize bootstrap class, we only want this to be initalized once so that numba njit\n",
    "# only gets compiled once (at first call)\n",
    "kernel_hypothesis = mg.BoostrapMethods(MMD_functions)\n",
    "function_arguments=[dict(n = bg1.n, m = bg2.n ), dict(n = bg1.n, m = bg2.n )]\n",
    "kernel_hypothesis.Bootstrap(K, function_arguments, B = 1000)\n",
    "\n",
    "\n",
    "# Run power\n",
    "threshold = np.quantile(kernel_hypothesis.boot_test_statistic['MMD_u'], 1-0.5)\n",
    "print(f'threshold {threshold}')\n",
    "ratio, power, V = mg.power_ratio(K, kernel_hypothesis.sample_test_statistic['MMD_u'], n_1*threshold, n_1)\n",
    "print(f'V {V}')\n",
    "print(f'ratio {ratio}')\n",
    "print(f'power {power}')\n",
    "print(f'p_value {kernel_hypothesis.p_values}')\n",
    "print(f\"MMD_u {kernel_hypothesis.sample_test_statistic['MMD_u']}\")"
   ]
  },
  {
   "cell_type": "code",
   "execution_count": 10,
   "metadata": {},
   "outputs": [
    {
     "data": {
      "text/plain": [
       "<AxesSubplot:>"
      ]
     },
     "execution_count": 10,
     "metadata": {},
     "output_type": "execute_result"
    },
    {
     "data": {
      "image/png": "[encoded data removed]",
      "text/plain": [
       "<Figure size 432x288 with 2 Axes>"
      ]
     },
     "metadata": {
      "needs_background": "light"
     },
     "output_type": "display_data"
    }
   ],
   "source": [
    "sns.heatmap(K)"
   ]
  }
 ],
 "metadata": {
  "interpreter": {
   "hash": "73a028860b43d4769fbff148c75133d75a7cd8af5513f33c83e2292b4997b353"
  },
  "kernelspec": {
   "display_name": "Python 3.8.2 64-bit ('.venv': venv)",
   "name": "python3"
  },
  "language_info": {
   "codemirror_mode": {
    "name": "ipython",
    "version": 3
   },
   "file_extension": ".py",
   "mimetype": "text/x-python",
   "name": "python",
   "nbconvert_exporter": "python",
   "pygments_lexer": "ipython3",
   "version": "3.8.2"
  },
  "orig_nbformat": 4
 },
 "nbformat": 4,
 "nbformat_minor": 2
}
