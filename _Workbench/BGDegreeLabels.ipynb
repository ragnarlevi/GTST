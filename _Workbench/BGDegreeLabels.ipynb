{
 "cells": [
  {
   "cell_type": "code",
   "execution_count": 1,
   "metadata": {},
   "outputs": [],
   "source": [
    "import networkx as nx\n",
    "import numpy as np\n",
    "import matplotlib.pyplot as plt\n",
    "import matplotlib\n",
    "from matplotlib.cm import get_cmap\n",
    "import seaborn as sns\n",
    "import string\n",
    "import pickle # save data frame (results) in a .pkl file\n",
    "import pandas as pd\n",
    "from datetime import datetime\n",
    "import os, sys\n",
    "import re\n",
    "\n",
    "import grakel as gk\n",
    "\n",
    "\n",
    "sys.path.insert(0, 'C:/Users/User/Code/MMDGraph')\n",
    "sys.path.insert(0, 'C:/Users/User/Code/MMDGraph/myKernels')\n",
    "from myKernels import RandomWalk as rw\n",
    "#from importlib import reload\n",
    "#reload(readfoldertopanda)\n",
    "import mmdutils\n",
    "import importlib\n",
    "importlib.reload(sys.modules['mmdutils'])\n",
    "from mmdutils import readfoldertopanda, PlotROCGeneral, plotVaryingBGDEG, findAUC\n",
    "import MMDforGraphs as mg\n",
    "importlib.reload(sys.modules['MMDforGraphs'])\n",
    "import WL\n",
    "import GNTK\n",
    "import GraphStatKernel"
   ]
  },
  {
   "cell_type": "code",
   "execution_count": 16,
   "metadata": {},
   "outputs": [],
   "source": [
    "from importlib import reload  \n",
    "foo = reload(mg)\n",
    "\n",
    "n_1 = 50\n",
    "n_2 = 50\n",
    "nnode_1 = 30\n",
    "nnode_2 = 30\n",
    "\n",
    "p = [np.ones(nnode_1) for i in range(n_1)] + [np.ones(nnode_2) for i in range(n_2)]\n",
    "q = [np.ones(nnode_1) for i in range(n_1)] + [np.ones(nnode_2)   for i in range(n_2)]#[np.ones(nnode_1) for i in range(n_1)] + [np.ones(nnode_2) for i in range(n_2)] # [np.ones(nnode_1) for i in range(n_1)] + [np.ones(nnode_2) for i in range(n_2)]\n",
    "\n",
    "6.4489\n",
    "4.805\n",
    "bg1 = mg.BinomialGraphs(n_1, nnode_1, k = 4, fullyConnected = True)\n",
    "bg2 = mg.BinomialGraphs(n_2, nnode_2, k = 4.25, fullyConnected = True)\n",
    "bg1.Generate()\n",
    "bg2.Generate()\n",
    "Gs = bg1.Gs + bg2.Gs"
   ]
  },
  {
   "cell_type": "code",
   "execution_count": null,
   "metadata": {},
   "outputs": [],
   "source": [
    "# from scipy.sparse.linalg import eigsh\n",
    "# import scipy\n",
    "# w, u = eigsh(scipy.sparse.csr_matrix(nx.linalg.adjacency_matrix(Gs[0]), dtype=np.float64), k = 3)"
   ]
  },
  {
   "cell_type": "code",
   "execution_count": null,
   "metadata": {},
   "outputs": [],
   "source": [
    "importlib.reload(sys.modules['WL'])\n",
    "wl_graphs = WL.WL()\n",
    "X, new_labels = wl_graphs.fit_transform(Gs, 4)"
   ]
  },
  {
   "cell_type": "code",
   "execution_count": null,
   "metadata": {},
   "outputs": [],
   "source": [
    "def issymmetric(a, rtol=1e-05, atol=1e-08):\n",
    "    \"\"\"\n",
    "    Check if matrix is symmetric\n",
    "    \"\"\"\n",
    "    return np.allclose(a, a.T, rtol=rtol, atol=atol)"
   ]
  },
  {
   "cell_type": "code",
   "execution_count": 33,
   "metadata": {},
   "outputs": [
    {
     "name": "stdout",
     "output_type": "stream",
     "text": [
      "p_value {'MMD_b': 0.027, 'MMD_u': 0.029333333333333333}\n"
     ]
    }
   ],
   "source": [
    "importlib.reload(sys.modules['MMDforGraphs'])\n",
    "import tqdm\n",
    "mmdu = []\n",
    "for sample in range(1): #tqdm.tqdm(range(1)):\n",
    "\n",
    "    bg1.Generate()\n",
    "    bg2.Generate()\n",
    "    Gs = bg1.Gs + bg2.Gs\n",
    "\n",
    "    # Gs_mst = []\n",
    "    # for G in Gs:\n",
    "    #     Gs_mst.append(nx.minimum_spanning_tree(G))\n",
    "    # Gs = Gs_mst\n",
    "\n",
    "    # Grakel kernels\n",
    "    # graph_list = gk.graph_from_networkx(Gs, node_labels_tag='label')  # Convert to graphs to Grakel format\n",
    "    # kernel = [{\"name\": \"multiscale_laplacian\"}]\n",
    "    # K = mg.KernelMatrix(graph_list, kernel, False)   \n",
    "    #kernel = [{\"name\": \"weisfeiler_lehman\", \"n_iter\": 4}, {\"name\": \"vertex_histogram\"}]\n",
    "    #kernel = [{\"name\": \"WL-OA\", \"n_iter\": 4}]\n",
    "    # kernel = [{\"name\": \"SP\", \"with_labels\": 1}]\n",
    "    # kernel = [{\"name\": \"lovasz_theta\", \"n_samples\":20}]\n",
    "    #kernel = [{\"name\": \"core_framework\", \"min_core\": 1}, {\"name\":\"propagation\", 't_max':5, 'w':0.1, 'M':\"H\"}]\n",
    "    # kernel = [{\"name\": \"pyramid_match\", \"with_labels\":False, \"d\":2, \"L\":4}] \n",
    "    #kernel = [{\"name\":'RW', 'kernel_type':'geometric', 'lamda':0.1, 'with_labels':False, 'p':3}]\n",
    "    # kernel = [{\"name\":'odd_sth', 'h':3}]\n",
    "    #kernel = [{\"name\": \"weisfeiler_lehman\", \"n_iter\": 1}, {\"name\": \"propagation\", \"t_max\": 2, \"w\":0.01, \"M\":'TV'}]\n",
    "\n",
    "    #init_kernel = gk.GraphKernel(kernel= kernel, normalize=1, n_jobs= 4)\n",
    "    #K = init_kernel.fit_transform(graph_list)\n",
    "\n",
    "    # My kernels\n",
    "    # RW kernel\n",
    "    # label list for rw\n",
    "    # label_list = []\n",
    "    # for G in Gs:\n",
    "    #     label_list.append(np.unique(list(nx.get_node_attributes(G, 'label').values())))\n",
    "\n",
    "    # label_list = np.unique(np.concatenate(label_list))\n",
    "    #rw_kernel = rw.RandomWalk(Gs, c = 0.01, normalize=0, p = p, q = q)\n",
    "    # K = rw_kernel.fit_ARKL(r = 8, label_list = label_list, normalize_adj=True)\n",
    "    #K = rw_kernel.fit_ARKU_plus(r = 6, normalize_adj=False, verbose=False)\n",
    "    # K = rw_kernel.fit_random_walk(mu_vec=[0.0, 1.0/(nnode_1*nnode_2)], k = 1, r = 3, normalize_adj=False ) # 1/((nnode_1-1)*(nnode_2-1)))\n",
    "\n",
    "    #print(np.all(K == 0)) \n",
    "    #print(K)\n",
    "\n",
    "    #gntk = GNTK.GNTK(num_layers=2, num_mlp_layers=2, jk=True, scale='degree', normalize=False)\n",
    "    #gntk.preprocess(Gs, degree_as_tag = True)\n",
    "    #K = gntk.fit_all()\n",
    "\n",
    "    gstat = GraphStatKernel.G_stat_kernel()\n",
    "    K = gstat.fit(Gs, method = 'degree', kernel_width= 100)\n",
    "\n",
    "    MMD_functions = [mg.MMD_b, mg.MMD_u]\n",
    "\n",
    "    # initialize bootstrap class, we only want this to be initalized once so that numba njit\n",
    "    # only gets compiled once (at first call)\n",
    "    kernel_hypothesis = mg.BoostrapMethods(MMD_functions)\n",
    "    function_arguments=[dict(n = bg1.n, m = bg2.n ), dict(n = bg1.n, m = bg2.n )]\n",
    "    kernel_hypothesis.Bootstrap(K, function_arguments, B = 3000, method = 'BootstrapScheme')\n",
    "\n",
    "    # Run power\n",
    "    #threshold = np.quantile(kernel_hypothesis.boot_test_statistic['MMD_u'], 1-0.05)\n",
    "    #print(f'threshold {threshold}')\n",
    "    #ratio, power, V = mg.power_ratio(K, kernel_hypothesis.sample_test_statistic['MMD_u'], threshold, n_1)\n",
    "    #print(f'V {V}')\n",
    "    #print(f'ratio {ratio}')\n",
    "    #print(f'power {power}')\n",
    "    print(f'p_value {kernel_hypothesis.p_values}')\n",
    "    #print(f\"MMD_u {kernel_hypothesis.sample_test_statistic['MMD_u']}\")\n",
    "\n",
    "    mmdu.append(kernel_hypothesis.p_values['MMD_u'])"
   ]
  },
  {
   "cell_type": "code",
   "execution_count": 11,
   "metadata": {},
   "outputs": [
    {
     "data": {
      "text/plain": [
       "Text(0.5, 1.0, 'H1 True')"
      ]
     },
     "execution_count": 11,
     "metadata": {},
     "output_type": "execute_result"
    },
    {
     "data": {
      "image/png": "[encoded data removed]",
      "text/plain": [
       "<Figure size 432x288 with 2 Axes>"
      ]
     },
     "metadata": {
      "needs_background": "light"
     },
     "output_type": "display_data"
    }
   ],
   "source": [
    "#np.fill_diagonal(K,0)\n",
    "ax = plt.axes()\n",
    "sns.heatmap(K, cmap='seismic')\n",
    "\n",
    "ax.set_title(f'H1 True')"
   ]
  }
 ],
 "metadata": {
  "interpreter": {
   "hash": "e5751a66115cca13560cf37aeeed4243eac6d0108f8b06b399eb3b36d8bd3124"
  },
  "kernelspec": {
   "display_name": "Python 3.8.5 (conda)",
   "language": "python",
   "name": "python3"
  },
  "language_info": {
   "codemirror_mode": {
    "name": "ipython",
    "version": 3
   },
   "file_extension": ".py",
   "mimetype": "text/x-python",
   "name": "python",
   "nbconvert_exporter": "python",
   "pygments_lexer": "ipython3",
   "version": "3.8.5"
  },
  "orig_nbformat": 4
 },
 "nbformat": 4,
 "nbformat_minor": 2
}
