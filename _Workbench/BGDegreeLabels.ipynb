{
 "cells": [
  {
   "cell_type": "code",
   "execution_count": 1,
   "source": [
    "import networkx as nx\r\n",
    "import numpy as np\r\n",
    "import matplotlib.pyplot as plt\r\n",
    "import matplotlib\r\n",
    "from matplotlib.cm import get_cmap\r\n",
    "import seaborn as sns\r\n",
    "import string\r\n",
    "import pickle # save data frame (results) in a .pkl file\r\n",
    "import pandas as pd\r\n",
    "from datetime import datetime\r\n",
    "import os, sys\r\n",
    "import re\r\n",
    "\r\n",
    "import grakel as gk\r\n",
    "\r\n",
    "\r\n",
    "sys.path.insert(0, 'C:/Users/ragna/Documents/Ragnar/Code/MMDGraph')\r\n",
    "#from importlib import reload\r\n",
    "from mmdutils import readfoldertopanda, PlotROCGeneral, plotVaryingBGDEG, findAUC\r\n",
    "#reload(readfoldertopanda)\r\n",
    "import importlib\r\n",
    "importlib.reload(sys.modules['mmdutils'])\r\n",
    "from mmdutils import readfoldertopanda, PlotROCGeneral, plotVaryingBGDEG, findAUC\r\n",
    "import MMDforGraphs as mg\r\n",
    "importlib.reload(sys.modules['MMDforGraphs'])"
   ],
   "outputs": [
    {
     "output_type": "execute_result",
     "data": {
      "text/plain": [
       "<module 'MMDforGraphs' from 'C:/Users/ragna/Documents/Ragnar/Code/MMDGraph\\\\MMDforGraphs.py'>"
      ]
     },
     "metadata": {},
     "execution_count": 1
    }
   ],
   "metadata": {}
  },
  {
   "cell_type": "code",
   "execution_count": 10,
   "source": [
    "from importlib import reload  \r\n",
    "foo = reload(mg)\r\n",
    "\r\n",
    "n_1 = 20\r\n",
    "n_2 = 20\r\n",
    "nnode_1 = 60\r\n",
    "nnode_2 = 60\r\n",
    "\r\n",
    "\r\n",
    "bg1 = mg.BinomialGraphs(n_1, nnode_1, k = 4, l = 'degreelabels', fullyConnected = True)\r\n",
    "bg2 = mg.BinomialGraphs(n_2, nnode_2, k = 4.25, l = 'degreelabels', fullyConnected = True)"
   ],
   "outputs": [],
   "metadata": {}
  },
  {
   "cell_type": "code",
   "execution_count": 3,
   "source": [
    "def issymmetric(a, rtol=1e-05, atol=1e-08):\r\n",
    "    \"\"\"\r\n",
    "    Check if matrix is symmetric\r\n",
    "    \"\"\"\r\n",
    "    return np.allclose(a, a.T, rtol=rtol, atol=atol)"
   ],
   "outputs": [],
   "metadata": {}
  },
  {
   "cell_type": "code",
   "execution_count": 11,
   "source": [
    "\r\n",
    "bg1.Generate()\r\n",
    "bg2.Generate()\r\n",
    "Gs = bg1.Gs + bg2.Gs\r\n",
    "\r\n",
    "# kernel = [{\"name\": \"multiscale_laplacian\"}]\r\n",
    "# K = mg.KernelMatrix(graph_list, kernel, False)\r\n",
    "graph_list = gk.graph_from_networkx(Gs, node_labels_tag='label')    \r\n",
    "# kernel = [{\"name\": \"weisfeiler_lehman\", \"n_iter\": 4}, {\"name\": \"vertex_histogram\"}]\r\n",
    "# kernel = [{\"name\": \"lovasz_theta\", \"n_samples\":20}]\r\n",
    "#kernel = [{\"name\": \"core_framework\", \"min_core\": 1}, {\"name\":\"propagation\", 't_max':5, 'w':0.1, 'M':\"H\"}]\r\n",
    "kernel = [{\"name\": \"pyramid_match\", \"with_labels\":True, \"d\":2, \"L\":4}] \r\n",
    "# kernel = [{\"name\":'odd_sth', 'h':3}]\r\n",
    "# kernel = [{\"name\": \"propagation\", \"t_max\": 4, \"w\":1, \"M\":'TV'}]\r\n",
    "init_kernel = gk.GraphKernel(kernel= kernel, normalize=False, n_jobs= 4)\r\n",
    "K = init_kernel.fit_transform(graph_list)\r\n",
    "\r\n",
    "print(np.all(K == 0)) \r\n",
    "print(K)\r\n",
    "\r\n",
    "\r\n",
    "\r\n",
    "MMD_functions = [mg.MMD_b, mg.MMD_u]\r\n",
    "\r\n",
    "# initialize bootstrap class, we only want this to be initalized once so that numba njit\r\n",
    "# only gets compiled once (at first call)\r\n",
    "kernel_hypothesis = mg.BoostrapMethods(MMD_functions)\r\n",
    "function_arguments=[dict(n = bg1.n, m = bg2.n ), dict(n = bg1.n, m = bg2.n )]\r\n",
    "kernel_hypothesis.Bootstrap(K, function_arguments, B = 1000)\r\n",
    "print(kernel_hypothesis.p_values)"
   ],
   "outputs": [
    {
     "output_type": "stream",
     "name": "stdout",
     "text": [
      "False\n",
      "[[180. 147. 135. ... 153. 135. 147.]\n",
      " [147. 180. 135. ... 144. 144. 147.]\n",
      " [135. 135. 180. ... 141. 138. 141.]\n",
      " ...\n",
      " [153. 144. 141. ... 180. 135. 150.]\n",
      " [135. 144. 138. ... 135. 180. 159.]\n",
      " [147. 147. 141. ... 150. 159. 180.]]\n",
      "{'MMD_b': 0.482, 'MMD_u': 0.481}\n"
     ]
    }
   ],
   "metadata": {}
  },
  {
   "cell_type": "code",
   "execution_count": 12,
   "source": [
    "plt.matshow(K)"
   ],
   "outputs": [
    {
     "output_type": "execute_result",
     "data": {
      "text/plain": [
       "<matplotlib.image.AxesImage at 0x16248986400>"
      ]
     },
     "metadata": {},
     "execution_count": 12
    },
    {
     "output_type": "display_data",
     "data": {
      "image/png": "[encoded data removed]",
      "text/plain": [
       "<Figure size 288x288 with 1 Axes>"
      ]
     },
     "metadata": {
      "needs_background": "light"
     }
    }
   ],
   "metadata": {}
  }
 ],
 "metadata": {
  "orig_nbformat": 4,
  "language_info": {
   "name": "python",
   "version": "3.8.2",
   "mimetype": "text/x-python",
   "codemirror_mode": {
    "name": "ipython",
    "version": 3
   },
   "pygments_lexer": "ipython3",
   "nbconvert_exporter": "python",
   "file_extension": ".py"
  },
  "kernelspec": {
   "name": "python3",
   "display_name": "Python 3.8.2 64-bit ('.venv': venv)"
  },
  "interpreter": {
   "hash": "73a028860b43d4769fbff148c75133d75a7cd8af5513f33c83e2292b4997b353"
  }
 },
 "nbformat": 4,
 "nbformat_minor": 2
}