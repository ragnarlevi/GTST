{
 "cells": [
  {
   "cell_type": "code",
   "execution_count": 1,
   "metadata": {},
   "outputs": [],
   "source": [
    "import networkx as nx\n",
    "import numpy as np\n",
    "import matplotlib.pyplot as plt\n",
    "import matplotlib\n",
    "from matplotlib.cm import get_cmap\n",
    "import seaborn as sns\n",
    "import string\n",
    "import pickle # save data frame (results) in a .pkl file\n",
    "import pandas as pd\n",
    "from datetime import datetime\n",
    "import os, sys\n",
    "import re\n",
    "\n",
    "import grakel as gk\n",
    "\n",
    "\n",
    "sys.path.insert(0, 'C:/Users/ragna/Documents/Ragnar/Code/MMDGraph')\n",
    "sys.path.insert(0, 'C:/Users/ragna/Documents/Ragnar/Code/MMDGraph/myKernels')\n",
    "#from importlib import reload\n",
    "#reload(readfoldertopanda)\n",
    "import mmdutils\n",
    "import importlib\n",
    "importlib.reload(sys.modules['mmdutils'])\n",
    "from mmdutils import readfoldertopanda, PlotROCGeneral, plotVaryingBGDEG, findAUC\n",
    "import MMDforGraphs as mg\n",
    "importlib.reload(sys.modules['MMDforGraphs'])\n",
    "from myKernels import RandomWalk as rw\n",
    "import WL"
   ]
  },
  {
   "cell_type": "code",
   "execution_count": 26,
   "metadata": {},
   "outputs": [],
   "source": [
    "from importlib import reload  \n",
    "foo = reload(mg)\n",
    "\n",
    "n_1 = 50\n",
    "n_2 = 50\n",
    "nnode_1 = 70\n",
    "nnode_2 = 70\n",
    "\n",
    "p = [np.ones(nnode_1) for i in range(n_1)] + [np.ones(nnode_2) for i in range(n_2)]\n",
    "q = [np.ones(nnode_1) for i in range(n_1)] + [np.ones(nnode_2)   for i in range(n_2)]#[np.ones(nnode_1) for i in range(n_1)] + [np.ones(nnode_2) for i in range(n_2)] # [np.ones(nnode_1) for i in range(n_1)] + [np.ones(nnode_2) for i in range(n_2)]\n",
    "\n",
    "6.4489\n",
    "4.805\n",
    "bg1 = mg.BinomialGraphs(n_1, nnode_1, k = 4, l = 'alldistinctlabels', fullyConnected = True)\n",
    "bg2 = mg.BinomialGraphs(n_2, nnode_2, k = 5, l = 'alldistinctlabels', fullyConnected = True)\n",
    "bg1.Generate()\n",
    "bg2.Generate()\n",
    "Gs = bg1.Gs + bg2.Gs"
   ]
  },
  {
   "cell_type": "code",
   "execution_count": 3,
   "metadata": {},
   "outputs": [],
   "source": [
    "# from scipy.sparse.linalg import eigsh\n",
    "# import scipy\n",
    "# w, u = eigsh(scipy.sparse.csr_matrix(nx.linalg.adjacency_matrix(Gs[0]), dtype=np.float64), k = 3)"
   ]
  },
  {
   "cell_type": "code",
   "execution_count": 4,
   "metadata": {},
   "outputs": [],
   "source": [
    "importlib.reload(sys.modules['WL'])\n",
    "wl_graphs = WL.WL()\n",
    "X, new_labels = wl_graphs.fit_transform(Gs, 4)"
   ]
  },
  {
   "cell_type": "code",
   "execution_count": 5,
   "metadata": {},
   "outputs": [],
   "source": [
    "def issymmetric(a, rtol=1e-05, atol=1e-08):\n",
    "    \"\"\"\n",
    "    Check if matrix is symmetric\n",
    "    \"\"\"\n",
    "    return np.allclose(a, a.T, rtol=rtol, atol=atol)"
   ]
  },
  {
   "cell_type": "code",
   "execution_count": 6,
   "metadata": {},
   "outputs": [],
   "source": [
    "# G1 = Gs[51]\n",
    "# G2 = Gs[21]\n",
    "# A1 = nx.linalg.adjacency_matrix(G1).todense()\n",
    "# A2 = nx.linalg.adjacency_matrix(G2).todense()\n",
    "\n",
    "# np.dot(np.kron(q[0],q[21]), np.kron(A1,A2)).dot(np.kron(p[0],p[21]))\n"
   ]
  },
  {
   "cell_type": "code",
   "execution_count": 7,
   "metadata": {},
   "outputs": [],
   "source": [
    "#np.mean([nx.density(G) for G in Gs[:n_1]])"
   ]
  },
  {
   "cell_type": "code",
   "execution_count": 8,
   "metadata": {},
   "outputs": [],
   "source": [
    "#np.mean([nx.density(G) for G in Gs[n_1:]])\n"
   ]
  },
  {
   "cell_type": "code",
   "execution_count": 9,
   "metadata": {},
   "outputs": [],
   "source": [
    "# G1.nodes(True)"
   ]
  },
  {
   "cell_type": "code",
   "execution_count": 10,
   "metadata": {},
   "outputs": [],
   "source": [
    "# degree1 = np.array(list(dict(G1.degree()).values()))\n",
    "# degree2 = np.array(list(dict(G2.degree()).values()))\n",
    "\n",
    "# (1/G1.number_of_nodes()) * (1/G2.number_of_nodes()) *np.sum([d_i*degree2 for d_i in degree1])\n"
   ]
  },
  {
   "cell_type": "code",
   "execution_count": 11,
   "metadata": {},
   "outputs": [
    {
     "data": {
      "text/plain": [
       "[0.0, 0.00041649312786339027, 1.0]"
      ]
     },
     "execution_count": 11,
     "metadata": {},
     "output_type": "execute_result"
    }
   ],
   "source": [
    "[0.0, 1.0/((nnode_1-1.0)*(nnode_2-1.0)), 1.0]"
   ]
  },
  {
   "cell_type": "code",
   "execution_count": 27,
   "metadata": {},
   "outputs": [
    {
     "name": "stderr",
     "output_type": "stream",
     "text": [
      "100%|██████████| 5050/5050.0 [00:12<00:00, 401.61it/s]\n"
     ]
    },
    {
     "name": "stdout",
     "output_type": "stream",
     "text": [
      "False\n",
      "[[5986.21746921 6065.71629164 5766.46668033 ... 6274.31055643\n",
      "  6287.90317301 6505.84887954]\n",
      " [6065.71629164 6155.00380761 5828.61617228 ... 6389.42766288\n",
      "  6401.41827237 6647.12997749]\n",
      " [5766.46668033 5828.61617228 5591.58408783 ... 5991.67829983\n",
      "  6003.33939878 6173.50993781]\n",
      " ...\n",
      " [6274.31055643 6389.42766288 5991.67829983 ... 6692.81762318\n",
      "  6700.19395164 7020.98194327]\n",
      " [6287.90317301 6401.41827237 6003.33939878 ... 6700.19395164\n",
      "  6709.56682697 7024.65279776]\n",
      " [6505.84887954 6647.12997749 6173.50993781 ... 7020.98194327\n",
      "  7024.65279776 7422.64415315]]\n",
      "p_value {'MMD_b': 0.0, 'MMD_u': 0.0}\n",
      "MMD_u 146.57116507866704\n"
     ]
    }
   ],
   "source": [
    "importlib.reload(sys.modules['MMDforGraphs'])\n",
    "bg1.Generate()\n",
    "bg2.Generate()\n",
    "Gs = bg1.Gs + bg2.Gs\n",
    "\n",
    "# Grakel kernels\n",
    "graph_list = gk.graph_from_networkx(Gs, node_labels_tag='label')  # Convert to graphs to Grakel format\n",
    "# kernel = [{\"name\": \"multiscale_laplacian\"}]\n",
    "# K = mg.KernelMatrix(graph_list, kernel, False)   \n",
    "#kernel = [{\"name\": \"weisfeiler_lehman\", \"n_iter\": 4}, {\"name\": \"vertex_histogram\"}]\n",
    "kernel = [{\"name\": \"WL-OA\", \"n_iter\": 4}]\n",
    "# kernel = [{\"name\": \"SP\", \"with_labels\": 1}]\n",
    "# kernel = [{\"name\": \"lovasz_theta\", \"n_samples\":20}]\n",
    "#kernel = [{\"name\": \"core_framework\", \"min_core\": 1}, {\"name\":\"propagation\", 't_max':5, 'w':0.1, 'M':\"H\"}]\n",
    "# kernel = [{\"name\": \"pyramid_match\", \"with_labels\":False, \"d\":2, \"L\":4}] \n",
    "#kernel = [{\"name\":'RW', 'kernel_type':'geometric', 'lamda':0.1, 'with_labels':False, 'p':3}]\n",
    "# kernel = [{\"name\":'odd_sth', 'h':3}]\n",
    "#kernel = [{\"name\": \"weisfeiler_lehman\", \"n_iter\": 1}, {\"name\": \"propagation\", \"t_max\": 2, \"w\":0.01, \"M\":'TV'}]\n",
    "\n",
    "init_kernel = gk.GraphKernel(kernel= kernel, normalize=1, n_jobs= 4)\n",
    "#K = init_kernel.fit_transform(graph_list)\n",
    "\n",
    "# My kernels\n",
    "# RW kernel\n",
    "# label list for rw\n",
    "label_list = []\n",
    "for G in Gs:\n",
    "    label_list.append(np.unique(list(nx.get_node_attributes(G, 'label').values())))\n",
    "\n",
    "# label_list = np.unique(np.concatenate(label_list))\n",
    "rw_kernel = rw.RandomWalk(Gs, c = 0.01, normalize=0, p = p, q = q )\n",
    "# K = rw_kernel.fit_ARKL(r = 8, label_list = label_list, normalize_adj=True)\n",
    "K = rw_kernel.fit_ARKU_plus(r = 12, normalize_adj=False)\n",
    "# K = rw_kernel.fit_random_walk(mu_vec=[0.0, 1.0/(nnode_1*nnode_2)], k = 1, r = 3, normalize_adj=False ) # 1/((nnode_1-1)*(nnode_2-1)))\n",
    "\n",
    "print(np.all(K == 0)) \n",
    "print(K)\n",
    "\n",
    "\n",
    "MMD_functions = [mg.MMD_b, mg.MMD_u]\n",
    "\n",
    "# initialize bootstrap class, we only want this to be initalized once so that numba njit\n",
    "# only gets compiled once (at first call)\n",
    "kernel_hypothesis = mg.BoostrapMethods(MMD_functions)\n",
    "function_arguments=[dict(n = bg1.n, m = bg2.n ), dict(n = bg1.n, m = bg2.n )]\n",
    "kernel_hypothesis.Bootstrap(K, function_arguments, B = 3000, method = 'BootstrapScheme')\n",
    "\n",
    "# Run power\n",
    "#threshold = np.quantile(kernel_hypothesis.boot_test_statistic['MMD_u'], 1-0.05)\n",
    "#print(f'threshold {threshold}')\n",
    "#ratio, power, V = mg.power_ratio(K, kernel_hypothesis.sample_test_statistic['MMD_u'], threshold, n_1)\n",
    "#print(f'V {V}')\n",
    "#print(f'ratio {ratio}')\n",
    "#print(f'power {power}')\n",
    "print(f'p_value {kernel_hypothesis.p_values}')\n",
    "print(f\"MMD_u {kernel_hypothesis.sample_test_statistic['MMD_u']}\")"
   ]
  },
  {
   "cell_type": "code",
   "execution_count": 29,
   "metadata": {},
   "outputs": [
    {
     "data": {
      "text/plain": [
       "Text(0.5, 1.0, 'H1 True')"
      ]
     },
     "execution_count": 29,
     "metadata": {},
     "output_type": "execute_result"
    },
    {
     "data": {
      "image/png": "[encoded data removed]",
      "text/plain": [
       "<Figure size 432x288 with 2 Axes>"
      ]
     },
     "metadata": {
      "needs_background": "light"
     },
     "output_type": "display_data"
    }
   ],
   "source": [
    "#np.fill_diagonal(K,0)\n",
    "ax = plt.axes()\n",
    "sns.heatmap(K, cmap='seismic')\n",
    "\n",
    "ax.set_title(f'H1 True')"
   ]
  }
 ],
 "metadata": {
  "interpreter": {
   "hash": "73a028860b43d4769fbff148c75133d75a7cd8af5513f33c83e2292b4997b353"
  },
  "kernelspec": {
   "display_name": "Python 3.8.2 64-bit ('.venv': venv)",
   "name": "python3"
  },
  "language_info": {
   "codemirror_mode": {
    "name": "ipython",
    "version": 3
   },
   "file_extension": ".py",
   "mimetype": "text/x-python",
   "name": "python",
   "nbconvert_exporter": "python",
   "pygments_lexer": "ipython3",
   "version": "3.8.2"
  },
  "orig_nbformat": 4
 },
 "nbformat": 4,
 "nbformat_minor": 2
}
