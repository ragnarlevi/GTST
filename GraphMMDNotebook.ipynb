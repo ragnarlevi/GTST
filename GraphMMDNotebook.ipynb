{
 "metadata": {
  "language_info": {
   "codemirror_mode": {
    "name": "ipython",
    "version": 3
   },
   "file_extension": ".py",
   "mimetype": "text/x-python",
   "name": "python",
   "nbconvert_exporter": "python",
   "pygments_lexer": "ipython3",
   "version": "3.8.2-final"
  },
  "orig_nbformat": 2,
  "kernelspec": {
   "name": "python3",
   "display_name": "Python 3.8.2 64-bit ('.venv')",
   "metadata": {
    "interpreter": {
     "hash": "73a028860b43d4769fbff148c75133d75a7cd8af5513f33c83e2292b4997b353"
    }
   }
  }
 },
 "nbformat": 4,
 "nbformat_minor": 2,
 "cells": [
  {
   "cell_type": "code",
   "execution_count": 6,
   "metadata": {},
   "outputs": [],
   "source": [
    "import networkx as nx\n",
    "import numpy as np\n",
    "import grakel as gk\n",
    "import matplotlib\n",
    "import scipy\n",
    "import string\n",
    "import pandas as pd\n",
    "import matplotlib.pyplot as plt\n",
    "import time\n",
    "import math\n",
    "from datetime import datetime\n",
    "# %reset\n",
    "# load script\n",
    "import MMDforGraphs as mg\n",
    "\n"
   ]
  },
  {
   "source": [
    "\n",
    "This notebook plays around with graph kernels and kernel mmd bootstrap test.   \n",
    "\n"
   ],
   "cell_type": "markdown",
   "metadata": {}
  },
  {
   "cell_type": "code",
   "execution_count": 46,
   "metadata": {},
   "outputs": [],
   "source": [
    "alpha = 0.05"
   ]
  },
  {
   "source": [
    "# Create samples\n",
    "At the current state of the code, the sampling has to be run every time before a kernel is fit.\n",
    "\n",
    "## Binomial\n",
    "\n",
    "\n"
   ],
   "cell_type": "markdown",
   "metadata": {}
  },
  {
   "cell_type": "code",
   "execution_count": 55,
   "metadata": {},
   "outputs": [],
   "source": [
    "n = 20\n",
    "m = 20\n",
    "nr_nodes_1 = 10\n",
    "nr_nodes_2 = 10\n",
    "p_edge_1 = 0.5\n",
    "p_edge_2 = 0.51\n",
    "\n",
    "\n",
    "label_1 = dict( ( (i, 'a') for i in range(nr_nodes_1) ) )\n",
    "label_2 = dict( ( (i, 'a') for i in range(nr_nodes_2) ) )\n",
    "\n",
    "Gs = mg.GraphTwoSample(n = n, m = m, type1 =\"binomial\", type2 = \"binomial\", nr_nodes_1 = nr_nodes_1, nr_nodes_2 = nr_nodes_2, p_edge_1 = p_edge_1 , p_edge_2 = p_edge_2, label_1 =label_1, label_2 = label_2)\n",
    "\n",
    "graph_list = gk.graph_from_networkx(Gs, node_labels_tag='label')"
   ]
  },
  {
   "source": [
    "# Weisfeiler-Lehman Shortest Path Kernel\n"
   ],
   "cell_type": "markdown",
   "metadata": {}
  },
  {
   "source": [
    "Calculate the kernel"
   ],
   "cell_type": "markdown",
   "metadata": {}
  },
  {
   "cell_type": "code",
   "execution_count": 50,
   "metadata": {},
   "outputs": [
    {
     "output_type": "stream",
     "name": "stdout",
     "text": [
      "--- 0.1466073989868164 seconds ---\n"
     ]
    }
   ],
   "source": [
    "start_time = time.time()\n",
    "kernel_wlsp = [{\"name\": \"WL\", \"n_iter\": 5}, {\"name\": \"shortest_path\"}] #\n",
    "K_wlsp = mg.KernelMatrix(graph_list, kernel_wlsp, True)\n",
    "print(\"--- %s seconds ---\" % (time.time() - start_time))"
   ]
  },
  {
   "source": [
    "Because we are assuming an i.i.d sample we can simply bootstrap the kernel matrix"
   ],
   "cell_type": "markdown",
   "metadata": {}
  },
  {
   "cell_type": "code",
   "execution_count": 51,
   "metadata": {},
   "outputs": [],
   "source": [
    "# Calculate the mmd value for the sample\n",
    "p_b_value, p_u_value, mmd_b_null, mmd_u_null, mmd_b_sample, mmd_u_sample = mg.BootstrapPval(B = 1000, K = K_wlsp , n = n, m = m, seed = 123)\n"
   ]
  },
  {
   "cell_type": "code",
   "execution_count": 59,
   "metadata": {},
   "outputs": [
    {
     "output_type": "stream",
     "name": "stdout",
     "text": [
      "Biased p-value: 0.388\nUnbiased p-value: 0.388\nBiased hypothesis acceped:True\nBiased hypothesis acceped:True\n"
     ]
    }
   ],
   "source": [
    "print(\"Biased p-value: \" + str(p_b_value))\n",
    "print(\"Unbiased p-value: \" + str(p_u_value))\n",
    "print(\"Biased hypothesis acceped:\" + str(mmd_b_sample < (math.sqrt(2*K_wlsp.max()/n))*(1 + math.sqrt(2*math.log(1/alpha)))))\n",
    "print(\"Unbiased hypothesis acceped:\" + str(mmd_u_sample < (4*K_wlsp.max()/math.sqrt(n))*math.sqrt(math.log(1/alpha))))"
   ]
  },
  {
   "source": [
    "# Weisfeiler-Lehman Subtree Kernel"
   ],
   "cell_type": "markdown",
   "metadata": {}
  },
  {
   "cell_type": "code",
   "execution_count": 56,
   "metadata": {},
   "outputs": [
    {
     "output_type": "stream",
     "name": "stdout",
     "text": [
      "--- 0.01695394515991211 seconds ---\n"
     ]
    }
   ],
   "source": [
    "start_time = time.time()\n",
    "kernel_wlst = [{\"name\": \"weisfeiler_lehman\", \"n_iter\": 5}, {\"name\": \"vertex_histogram\"}] #\n",
    "K_wlst = mg.KernelMatrix(graph_list, kernel_wlst, True)\n",
    "print(\"--- %s seconds ---\" % (time.time() - start_time))"
   ]
  },
  {
   "cell_type": "code",
   "execution_count": 57,
   "metadata": {},
   "outputs": [],
   "source": [
    "p_b_value, p_u_value, mmd_b_null, mmd_u_null, mmd_b_sample, mmd_u_sample = mg.BootstrapPval(B = 1000, K = K_wlst, n = n, m = m, seed = 123)"
   ]
  },
  {
   "cell_type": "code",
   "execution_count": 58,
   "metadata": {},
   "outputs": [
    {
     "output_type": "stream",
     "name": "stdout",
     "text": [
      "Biased p-value: 0.388\nUnbiased p-value: 0.388\nTrue\nTrue\n"
     ]
    }
   ],
   "source": [
    "print(\"Biased p-value: \" + str(p_b_value))\n",
    "print(\"Unbiased p-value: \" + str(p_u_value))\n",
    "print(\"Biased hypothesis acceped:\" + str(mmd_b_sample < (math.sqrt(2*K_wlsp.max()/n))*(1 + math.sqrt(2*math.log(1/alpha)))))\n",
    "print(\"Unbiased hypothesis acceped:\" + str(mmd_u_sample < (4*K_wlsp.max()/math.sqrt(n))*math.sqrt(math.log(1/alpha))))"
   ]
  },
  {
   "source": [
    "# Weisfeiler-Lehman Optimal Assignment\n"
   ],
   "cell_type": "markdown",
   "metadata": {}
  },
  {
   "cell_type": "code",
   "execution_count": 383,
   "metadata": {},
   "outputs": [
    {
     "output_type": "stream",
     "name": "stdout",
     "text": [
      "--- 49.51429080963135 seconds ---\n"
     ]
    }
   ],
   "source": [
    "start_time = time.time()\n",
    "kernel_wloa = [{\"name\": \"WL-OA\", \"n_iter\": 5}] \n",
    "K_wloa = mg.KernelMatrix(graph_list, kernel_wloa, True)\n",
    "print(\"--- %s seconds ---\" % (time.time() - start_time))"
   ]
  },
  {
   "cell_type": "code",
   "execution_count": 301,
   "metadata": {},
   "outputs": [],
   "source": [
    "p_b_value, p_u_value, mmd_b_null, mmd_u_null, mmd_b_sample, mmd_u_sample = mg.BootstrapPval(B = 1000, K = K_wloa, n = n, m = m, seed = 123)"
   ]
  },
  {
   "cell_type": "code",
   "execution_count": 31,
   "metadata": {},
   "outputs": [
    {
     "output_type": "stream",
     "name": "stdout",
     "text": [
      "Biased p-value: 0.362\nUnbiased p-value: 0.362\n"
     ]
    },
    {
     "output_type": "error",
     "ename": "NameError",
     "evalue": "name 'math' is not defined",
     "traceback": [
      "\u001b[1;31m---------------------------------------------------------------------------\u001b[0m",
      "\u001b[1;31mNameError\u001b[0m                                 Traceback (most recent call last)",
      "\u001b[1;32m<ipython-input-31-0d0361a0e1ef>\u001b[0m in \u001b[0;36m<module>\u001b[1;34m\u001b[0m\n\u001b[0;32m      1\u001b[0m \u001b[0mprint\u001b[0m\u001b[1;33m(\u001b[0m\u001b[1;34m\"Biased p-value: \"\u001b[0m \u001b[1;33m+\u001b[0m \u001b[0mstr\u001b[0m\u001b[1;33m(\u001b[0m\u001b[0mp_b_value\u001b[0m\u001b[1;33m)\u001b[0m\u001b[1;33m)\u001b[0m\u001b[1;33m\u001b[0m\u001b[1;33m\u001b[0m\u001b[0m\n\u001b[0;32m      2\u001b[0m \u001b[0mprint\u001b[0m\u001b[1;33m(\u001b[0m\u001b[1;34m\"Unbiased p-value: \"\u001b[0m \u001b[1;33m+\u001b[0m \u001b[0mstr\u001b[0m\u001b[1;33m(\u001b[0m\u001b[0mp_u_value\u001b[0m\u001b[1;33m)\u001b[0m\u001b[1;33m)\u001b[0m\u001b[1;33m\u001b[0m\u001b[1;33m\u001b[0m\u001b[0m\n\u001b[1;32m----> 3\u001b[1;33m \u001b[0mprint\u001b[0m\u001b[1;33m(\u001b[0m\u001b[0mmmd_b_sample\u001b[0m \u001b[1;33m<\u001b[0m \u001b[1;33m(\u001b[0m\u001b[0mmath\u001b[0m\u001b[1;33m.\u001b[0m\u001b[0msqrt\u001b[0m\u001b[1;33m(\u001b[0m\u001b[1;36m2\u001b[0m\u001b[1;33m*\u001b[0m\u001b[0mK\u001b[0m\u001b[1;33m.\u001b[0m\u001b[0mmax\u001b[0m\u001b[1;33m(\u001b[0m\u001b[1;33m)\u001b[0m\u001b[1;33m/\u001b[0m\u001b[0mn\u001b[0m\u001b[1;33m)\u001b[0m\u001b[1;33m)\u001b[0m\u001b[1;33m*\u001b[0m\u001b[1;33m(\u001b[0m\u001b[1;36m1\u001b[0m \u001b[1;33m+\u001b[0m \u001b[0mmath\u001b[0m\u001b[1;33m.\u001b[0m\u001b[0msqrt\u001b[0m\u001b[1;33m(\u001b[0m\u001b[1;36m2\u001b[0m\u001b[1;33m*\u001b[0m\u001b[0mmath\u001b[0m\u001b[1;33m.\u001b[0m\u001b[0mlog\u001b[0m\u001b[1;33m(\u001b[0m\u001b[1;36m1\u001b[0m\u001b[1;33m/\u001b[0m\u001b[0malpha\u001b[0m\u001b[1;33m)\u001b[0m\u001b[1;33m)\u001b[0m\u001b[1;33m)\u001b[0m\u001b[1;33m)\u001b[0m\u001b[1;33m\u001b[0m\u001b[1;33m\u001b[0m\u001b[0m\n\u001b[0m\u001b[0;32m      4\u001b[0m \u001b[0mprint\u001b[0m\u001b[1;33m(\u001b[0m\u001b[0mmmd_u_sample\u001b[0m \u001b[1;33m<\u001b[0m \u001b[1;33m(\u001b[0m\u001b[1;36m4\u001b[0m\u001b[1;33m*\u001b[0m\u001b[0mK\u001b[0m\u001b[1;33m.\u001b[0m\u001b[0mmax\u001b[0m\u001b[1;33m(\u001b[0m\u001b[1;33m)\u001b[0m\u001b[1;33m/\u001b[0m\u001b[0mmath\u001b[0m\u001b[1;33m.\u001b[0m\u001b[0msqrt\u001b[0m\u001b[1;33m(\u001b[0m\u001b[0mn\u001b[0m\u001b[1;33m)\u001b[0m\u001b[1;33m)\u001b[0m\u001b[1;33m*\u001b[0m\u001b[0mmath\u001b[0m\u001b[1;33m.\u001b[0m\u001b[0msqrt\u001b[0m\u001b[1;33m(\u001b[0m\u001b[0mmath\u001b[0m\u001b[1;33m.\u001b[0m\u001b[0mlog\u001b[0m\u001b[1;33m(\u001b[0m\u001b[1;36m1\u001b[0m\u001b[1;33m/\u001b[0m\u001b[0malpha\u001b[0m\u001b[1;33m)\u001b[0m\u001b[1;33m)\u001b[0m\u001b[1;33m)\u001b[0m\u001b[1;33m\u001b[0m\u001b[1;33m\u001b[0m\u001b[0m\n",
      "\u001b[1;31mNameError\u001b[0m: name 'math' is not defined"
     ]
    }
   ],
   "source": [
    "print(\"Biased p-value: \" + str(p_b_value))\n",
    "print(\"Unbiased p-value: \" + str(p_u_value))\n",
    "print(\"Biased hypothesis acceped:\" + str(mmd_b_sample < (math.sqrt(2*K_wlsp.max()/n))*(1 + math.sqrt(2*math.log(1/alpha)))))\n",
    "print(\"Unbiased hypothesis acceped:\" + str(mmd_u_sample < (4*K_wlsp.max()/math.sqrt(n))*math.sqrt(math.log(1/alpha))))"
   ]
  },
  {
   "source": [
    "# Shortest-Path Kernel"
   ],
   "cell_type": "markdown",
   "metadata": {}
  },
  {
   "cell_type": "code",
   "execution_count": 381,
   "metadata": {},
   "outputs": [
    {
     "output_type": "error",
     "ename": "ValueError",
     "evalue": "parsed input is empty",
     "traceback": [
      "\u001b[1;31m---------------------------------------------------------------------------\u001b[0m",
      "\u001b[1;31mValueError\u001b[0m                                Traceback (most recent call last)",
      "\u001b[1;32m<ipython-input-381-c47be5b255cf>\u001b[0m in \u001b[0;36m<module>\u001b[1;34m\u001b[0m\n\u001b[0;32m      1\u001b[0m \u001b[0mkernel_sp\u001b[0m \u001b[1;33m=\u001b[0m \u001b[1;33m[\u001b[0m\u001b[1;33m{\u001b[0m\u001b[1;34m\"name\"\u001b[0m\u001b[1;33m:\u001b[0m \u001b[1;34m\"shortest_path\"\u001b[0m\u001b[1;33m,\u001b[0m \u001b[1;34m\"with_labels\"\u001b[0m\u001b[1;33m:\u001b[0m \u001b[1;32mFalse\u001b[0m\u001b[1;33m}\u001b[0m\u001b[1;33m]\u001b[0m\u001b[1;33m\u001b[0m\u001b[1;33m\u001b[0m\u001b[0m\n\u001b[1;32m----> 2\u001b[1;33m \u001b[0mK_sp\u001b[0m \u001b[1;33m=\u001b[0m \u001b[0mmg\u001b[0m\u001b[1;33m.\u001b[0m\u001b[0mKernelMatrix\u001b[0m\u001b[1;33m(\u001b[0m\u001b[0mgraph_list\u001b[0m\u001b[1;33m,\u001b[0m \u001b[0mkernel_sp\u001b[0m\u001b[1;33m,\u001b[0m \u001b[1;32mTrue\u001b[0m\u001b[1;33m)\u001b[0m\u001b[1;33m\u001b[0m\u001b[1;33m\u001b[0m\u001b[0m\n\u001b[0m",
      "\u001b[1;32mc:\\Users\\ragna\\Documents\\Ragnar\\Code\\MMDGraph\\MMDforGraphs.py\u001b[0m in \u001b[0;36mKernelMatrix\u001b[1;34m(graph_list, kernel, normalize)\u001b[0m\n\u001b[0;32m     33\u001b[0m \u001b[1;32mdef\u001b[0m \u001b[0mKernelMatrix\u001b[0m\u001b[1;33m(\u001b[0m\u001b[0mgraph_list\u001b[0m\u001b[1;33m:\u001b[0m \u001b[0mlist\u001b[0m\u001b[1;33m,\u001b[0m \u001b[0mkernel\u001b[0m\u001b[1;33m:\u001b[0m \u001b[0mdict\u001b[0m\u001b[1;33m,\u001b[0m \u001b[0mnormalize\u001b[0m\u001b[1;33m:\u001b[0m\u001b[0mbool\u001b[0m\u001b[1;33m)\u001b[0m\u001b[1;33m:\u001b[0m\u001b[1;33m\u001b[0m\u001b[1;33m\u001b[0m\u001b[0m\n\u001b[0;32m     34\u001b[0m     \u001b[0minit_kernel\u001b[0m \u001b[1;33m=\u001b[0m \u001b[0mgk\u001b[0m\u001b[1;33m.\u001b[0m\u001b[0mGraphKernel\u001b[0m\u001b[1;33m(\u001b[0m\u001b[0mkernel\u001b[0m\u001b[1;33m=\u001b[0m \u001b[0mkernel\u001b[0m\u001b[1;33m,\u001b[0m \u001b[0mnormalize\u001b[0m\u001b[1;33m=\u001b[0m\u001b[0mnormalize\u001b[0m\u001b[1;33m)\u001b[0m\u001b[1;33m\u001b[0m\u001b[1;33m\u001b[0m\u001b[0m\n\u001b[1;32m---> 35\u001b[1;33m     \u001b[0mK\u001b[0m \u001b[1;33m=\u001b[0m \u001b[0minit_kernel\u001b[0m\u001b[1;33m.\u001b[0m\u001b[0mfit_transform\u001b[0m\u001b[1;33m(\u001b[0m\u001b[0mgraph_list\u001b[0m\u001b[1;33m)\u001b[0m\u001b[1;33m\u001b[0m\u001b[1;33m\u001b[0m\u001b[0m\n\u001b[0m\u001b[0;32m     36\u001b[0m     \u001b[1;32mreturn\u001b[0m \u001b[0mK\u001b[0m\u001b[1;33m\u001b[0m\u001b[1;33m\u001b[0m\u001b[0m\n\u001b[0;32m     37\u001b[0m \u001b[1;33m\u001b[0m\u001b[0m\n",
      "\u001b[1;32mc:\\Users\\ragna\\Documents\\Ragnar\\Code\\MMDGraph\\.venv\\lib\\site-packages\\grakel\\graph_kernels.py\u001b[0m in \u001b[0;36mfit_transform\u001b[1;34m(self, X, y)\u001b[0m\n\u001b[0;32m    405\u001b[0m             \u001b[0mK\u001b[0m \u001b[1;33m=\u001b[0m \u001b[0mself\u001b[0m\u001b[1;33m.\u001b[0m\u001b[0mkernel_\u001b[0m\u001b[1;33m.\u001b[0m\u001b[0mtransform\u001b[0m\u001b[1;33m(\u001b[0m\u001b[0mX\u001b[0m\u001b[1;33m)\u001b[0m\u001b[1;33m.\u001b[0m\u001b[0mdot\u001b[0m\u001b[1;33m(\u001b[0m\u001b[0mself\u001b[0m\u001b[1;33m.\u001b[0m\u001b[0mnystroem_normalization_\u001b[0m\u001b[1;33m.\u001b[0m\u001b[0mT\u001b[0m\u001b[1;33m)\u001b[0m\u001b[1;33m\u001b[0m\u001b[1;33m\u001b[0m\u001b[0m\n\u001b[0;32m    406\u001b[0m         \u001b[1;32melse\u001b[0m\u001b[1;33m:\u001b[0m\u001b[1;33m\u001b[0m\u001b[1;33m\u001b[0m\u001b[0m\n\u001b[1;32m--> 407\u001b[1;33m             \u001b[0mK\u001b[0m \u001b[1;33m=\u001b[0m \u001b[0mself\u001b[0m\u001b[1;33m.\u001b[0m\u001b[0mkernel_\u001b[0m\u001b[1;33m.\u001b[0m\u001b[0mfit_transform\u001b[0m\u001b[1;33m(\u001b[0m\u001b[0mX\u001b[0m\u001b[1;33m)\u001b[0m\u001b[1;33m\u001b[0m\u001b[1;33m\u001b[0m\u001b[0m\n\u001b[0m\u001b[0;32m    408\u001b[0m \u001b[1;33m\u001b[0m\u001b[0m\n\u001b[0;32m    409\u001b[0m         \u001b[1;32mreturn\u001b[0m \u001b[0mK\u001b[0m\u001b[1;33m\u001b[0m\u001b[1;33m\u001b[0m\u001b[0m\n",
      "\u001b[1;32mc:\\Users\\ragna\\Documents\\Ragnar\\Code\\MMDGraph\\.venv\\lib\\site-packages\\grakel\\kernels\\shortest_path.py\u001b[0m in \u001b[0;36mfit_transform\u001b[1;34m(self, X, y)\u001b[0m\n\u001b[0;32m    391\u001b[0m         \"\"\"\n\u001b[0;32m    392\u001b[0m         \u001b[0mself\u001b[0m\u001b[1;33m.\u001b[0m\u001b[0m_method_calling\u001b[0m \u001b[1;33m=\u001b[0m \u001b[1;36m2\u001b[0m\u001b[1;33m\u001b[0m\u001b[1;33m\u001b[0m\u001b[0m\n\u001b[1;32m--> 393\u001b[1;33m         \u001b[0mself\u001b[0m\u001b[1;33m.\u001b[0m\u001b[0mfit\u001b[0m\u001b[1;33m(\u001b[0m\u001b[0mX\u001b[0m\u001b[1;33m)\u001b[0m\u001b[1;33m\u001b[0m\u001b[1;33m\u001b[0m\u001b[0m\n\u001b[0m\u001b[0;32m    394\u001b[0m \u001b[1;33m\u001b[0m\u001b[0m\n\u001b[0;32m    395\u001b[0m         \u001b[1;31m# calculate feature matrices.\u001b[0m\u001b[1;33m\u001b[0m\u001b[1;33m\u001b[0m\u001b[1;33m\u001b[0m\u001b[0m\n",
      "\u001b[1;32mc:\\Users\\ragna\\Documents\\Ragnar\\Code\\MMDGraph\\.venv\\lib\\site-packages\\grakel\\kernels\\kernel.py\u001b[0m in \u001b[0;36mfit\u001b[1;34m(self, X, y)\u001b[0m\n\u001b[0;32m    121\u001b[0m             \u001b[1;32mraise\u001b[0m \u001b[0mValueError\u001b[0m\u001b[1;33m(\u001b[0m\u001b[1;34m'`fit` input cannot be None'\u001b[0m\u001b[1;33m)\u001b[0m\u001b[1;33m\u001b[0m\u001b[1;33m\u001b[0m\u001b[0m\n\u001b[0;32m    122\u001b[0m         \u001b[1;32melse\u001b[0m\u001b[1;33m:\u001b[0m\u001b[1;33m\u001b[0m\u001b[1;33m\u001b[0m\u001b[0m\n\u001b[1;32m--> 123\u001b[1;33m             \u001b[0mself\u001b[0m\u001b[1;33m.\u001b[0m\u001b[0mX\u001b[0m \u001b[1;33m=\u001b[0m \u001b[0mself\u001b[0m\u001b[1;33m.\u001b[0m\u001b[0mparse_input\u001b[0m\u001b[1;33m(\u001b[0m\u001b[0mX\u001b[0m\u001b[1;33m)\u001b[0m\u001b[1;33m\u001b[0m\u001b[1;33m\u001b[0m\u001b[0m\n\u001b[0m\u001b[0;32m    124\u001b[0m \u001b[1;33m\u001b[0m\u001b[0m\n\u001b[0;32m    125\u001b[0m         \u001b[1;31m# Return the transformer\u001b[0m\u001b[1;33m\u001b[0m\u001b[1;33m\u001b[0m\u001b[1;33m\u001b[0m\u001b[0m\n",
      "\u001b[1;32mc:\\Users\\ragna\\Documents\\Ragnar\\Code\\MMDGraph\\.venv\\lib\\site-packages\\grakel\\kernels\\shortest_path.py\u001b[0m in \u001b[0;36mparse_input\u001b[1;34m(self, X)\u001b[0m\n\u001b[0;32m    491\u001b[0m \u001b[1;33m\u001b[0m\u001b[0m\n\u001b[0;32m    492\u001b[0m             \u001b[1;32mif\u001b[0m \u001b[0mi\u001b[0m \u001b[1;33m==\u001b[0m \u001b[1;33m-\u001b[0m\u001b[1;36m1\u001b[0m\u001b[1;33m:\u001b[0m\u001b[1;33m\u001b[0m\u001b[1;33m\u001b[0m\u001b[0m\n\u001b[1;32m--> 493\u001b[1;33m                 \u001b[1;32mraise\u001b[0m \u001b[0mValueError\u001b[0m\u001b[1;33m(\u001b[0m\u001b[1;34m'parsed input is empty'\u001b[0m\u001b[1;33m)\u001b[0m\u001b[1;33m\u001b[0m\u001b[1;33m\u001b[0m\u001b[0m\n\u001b[0m\u001b[0;32m    494\u001b[0m \u001b[1;33m\u001b[0m\u001b[0m\n\u001b[0;32m    495\u001b[0m             \u001b[1;32mif\u001b[0m \u001b[0mself\u001b[0m\u001b[1;33m.\u001b[0m\u001b[0m_method_calling\u001b[0m \u001b[1;33m==\u001b[0m \u001b[1;36m1\u001b[0m\u001b[1;33m:\u001b[0m\u001b[1;33m\u001b[0m\u001b[1;33m\u001b[0m\u001b[0m\n",
      "\u001b[1;31mValueError\u001b[0m: parsed input is empty"
     ]
    }
   ],
   "source": [
    "kernel_sp = [{\"name\": \"shortest_path\", \"with_labels\": False}] \n",
    "K_sp = mg.KernelMatrix(graph_list, kernel_sp, True)"
   ]
  },
  {
   "cell_type": "code",
   "execution_count": 315,
   "metadata": {},
   "outputs": [],
   "source": [
    "p_b_value, p_u_value, mmd_b_null, mmd_u_null, mmd_b_sample, mmd_u_sample = mg.BootstrapPval(B = 1000, K = K_sp, n = n, m = m, seed = 123)"
   ]
  },
  {
   "cell_type": "code",
   "execution_count": 316,
   "metadata": {},
   "outputs": [
    {
     "output_type": "stream",
     "name": "stdout",
     "text": [
      "1.0\n[0.    0.    0.    0.    0.    0.    0.    0.001 0.    0.001 0.    0.\n 0.    0.    0.    0.    0.    0.    0.    0.    0.    0.    0.    0.\n 0.    0.    0.    0.    0.    0.    0.    0.    0.    0.    0.    0.\n 0.    0.    0.    0.    0.    0.    0.    0.    0.    0.    0.    0.\n 0.    0.    0.    0.    0.    0.    0.    0.    0.    0.    0.    0.\n 0.    0.    0.    0.    0.    0.    0.001 0.    0.    0.    0.    0.\n 0.    0.    0.    0.    0.    0.    0.    0.    0.    0.    0.    0.\n 0.    0.    0.    0.    0.    0.    0.    0.    0.    0.    0.    0.\n 0.    0.    0.    0.    0.    0.    0.    0.    0.    0.    0.    0.\n 0.    0.    0.    0.    0.    0.001 0.    0.    0.    0.    0.    0.\n 0.    0.    0.    0.    0.    0.    0.    0.    0.    0.    0.    0.\n 0.    0.    0.    0.    0.    0.    0.    0.    0.    0.    0.    0.\n 0.    0.    0.    0.    0.    0.    0.    0.    0.    0.    0.    0.\n 0.    0.001 0.    0.    0.    0.    0.    0.    0.    0.    0.    0.\n 0.    0.    0.    0.    0.    0.    0.    0.    0.    0.    0.    0.\n 0.    0.    0.    0.    0.    0.    0.    0.    0.    0.    0.    0.\n 0.    0.    0.    0.    0.    0.    0.    0.    0.    0.    0.    0.\n 0.    0.    0.    0.001 0.001 0.    0.    0.    0.    0.    0.    0.\n 0.    0.    0.    0.    0.    0.    0.    0.    0.    0.    0.    0.\n 0.    0.    0.    0.    0.    0.    0.    0.    0.    0.001 0.    0.\n 0.    0.    0.    0.001 0.    0.    0.    0.    0.    0.    0.    0.002\n 0.    0.    0.    0.    0.    0.    0.    0.001 0.    0.001 0.    0.\n 0.    0.    0.    0.    0.    0.    0.    0.    0.    0.    0.    0.\n 0.    0.    0.    0.    0.001 0.    0.    0.    0.    0.    0.    0.\n 0.    0.    0.    0.    0.    0.    0.    0.    0.    0.    0.    0.\n 0.    0.    0.    0.    0.    0.    0.    0.    0.    0.    0.    0.\n 0.    0.    0.    0.    0.    0.    0.    0.    0.    0.    0.    0.\n 0.    0.    0.    0.    0.    0.    0.    0.    0.    0.    0.    0.\n 0.    0.    0.    0.    0.    0.001 0.    0.    0.    0.001 0.    0.\n 0.    0.    0.    0.    0.    0.    0.    0.    0.    0.001 0.    0.\n 0.    0.    0.    0.    0.    0.    0.    0.    0.    0.    0.    0.\n 0.    0.    0.    0.    0.    0.    0.    0.    0.    0.    0.    0.\n 0.    0.    0.    0.    0.    0.    0.    0.    0.    0.    0.    0.\n 0.    0.    0.    0.    0.    0.    0.    0.    0.    0.    0.001 0.\n 0.    0.    0.    0.    0.    0.001 0.    0.    0.    0.    0.    0.\n 0.    0.001 0.    0.    0.    0.001 0.    0.    0.001 0.    0.    0.\n 0.001 0.    0.    0.    0.    0.    0.    0.    0.    0.    0.    0.\n 0.001 0.    0.    0.    0.    0.    0.    0.    0.    0.    0.    0.\n 0.    0.    0.    0.    0.    0.    0.    0.    0.    0.    0.    0.\n 0.    0.    0.    0.    0.    0.    0.    0.    0.    0.    0.    0.\n 0.    0.    0.    0.    0.    0.    0.    0.    0.    0.    0.    0.\n 0.    0.    0.    0.    0.    0.    0.    0.    0.    0.    0.    0.\n 0.    0.    0.    0.    0.001 0.    0.    0.    0.    0.    0.    0.\n 0.    0.    0.    0.    0.001 0.001 0.    0.    0.    0.    0.    0.\n 0.    0.001 0.    0.    0.    0.    0.    0.    0.    0.    0.    0.\n 0.    0.    0.    0.    0.    0.    0.    0.    0.    0.    0.    0.\n 0.    0.    0.    0.    0.    0.    0.    0.    0.    0.    0.    0.\n 0.    0.    0.    0.    0.    0.    0.    0.    0.    0.    0.    0.001\n 0.    0.    0.    0.    0.    0.    0.    0.    0.    0.    0.    0.\n 0.    0.    0.    0.    0.    0.    0.    0.001 0.    0.    0.    0.\n 0.    0.    0.    0.    0.    0.    0.    0.    0.    0.    0.    0.\n 0.001 0.    0.    0.001 0.    0.    0.    0.    0.    0.    0.    0.\n 0.    0.    0.001 0.    0.    0.    0.    0.    0.    0.    0.    0.\n 0.    0.    0.    0.    0.    0.    0.    0.    0.    0.    0.    0.\n 0.    0.    0.    0.    0.    0.    0.    0.    0.    0.    0.001 0.\n 0.    0.    0.    0.    0.    0.    0.    0.    0.    0.    0.    0.\n 0.    0.    0.    0.    0.    0.    0.    0.    0.    0.    0.    0.\n 0.    0.    0.    0.001 0.    0.    0.    0.    0.    0.    0.    0.\n 0.    0.    0.    0.    0.    0.002 0.    0.    0.    0.    0.    0.\n 0.    0.    0.    0.    0.    0.    0.    0.    0.    0.    0.    0.\n 0.    0.    0.    0.    0.    0.    0.    0.    0.    0.    0.    0.\n 0.002 0.    0.001 0.    0.    0.    0.    0.001 0.    0.    0.    0.\n 0.    0.    0.    0.    0.    0.    0.    0.    0.    0.    0.    0.\n 0.001 0.    0.    0.    0.    0.001 0.    0.    0.001 0.    0.    0.\n 0.    0.    0.    0.    0.    0.001 0.    0.    0.    0.    0.    0.\n 0.    0.    0.    0.001 0.    0.    0.    0.    0.    0.    0.    0.\n 0.    0.    0.    0.    0.    0.    0.    0.    0.    0.    0.    0.\n 0.    0.    0.    0.    0.    0.    0.    0.    0.    0.    0.    0.\n 0.    0.    0.    0.    0.    0.    0.001 0.    0.    0.    0.    0.\n 0.    0.    0.    0.    0.    0.    0.    0.    0.    0.    0.    0.\n 0.    0.001 0.    0.    0.    0.    0.    0.    0.    0.    0.    0.\n 0.    0.001 0.    0.    0.    0.    0.    0.    0.    0.    0.    0.\n 0.    0.    0.    0.    0.    0.    0.    0.    0.    0.    0.    0.\n 0.    0.    0.    0.    0.    0.    0.    0.    0.    0.    0.    0.\n 0.    0.    0.    0.    0.    0.    0.    0.    0.    0.    0.    0.\n 0.    0.001 0.001 0.    0.    0.    0.    0.    0.    0.    0.    0.\n 0.    0.    0.    0.001 0.    0.    0.    0.    0.    0.    0.    0.\n 0.    0.    0.    0.    0.    0.    0.001 0.    0.001 0.001 0.001 0.\n 0.    0.    0.    0.    0.    0.    0.    0.    0.    0.    0.    0.\n 0.    0.    0.    0.    0.    0.001 0.    0.    0.    0.    0.    0.\n 0.    0.    0.    0.    0.    0.001 0.    0.    0.    0.    0.    0.001\n 0.    0.    0.    0.    0.001 0.    0.    0.    0.    0.    0.    0.\n 0.    0.    0.    0.    0.    0.    0.    0.    0.    0.    0.    0.\n 0.    0.    0.    0.   ]\n"
     ]
    }
   ],
   "source": [
    "print(\"Biased p-value: \" + str(p_b_value))\n",
    "print(\"Unbiased p-value: \" + str(p_u_value))\n",
    "print(\"Biased hypothesis acceped:\" + str(mmd_b_sample < (math.sqrt(2*K_wlsp.max()/n))*(1 + math.sqrt(2*math.log(1/alpha)))))\n",
    "print(\"Unbiased hypothesis acceped:\" + str(mmd_u_sample < (4*K_wlsp.max()/math.sqrt(n))*math.sqrt(math.log(1/alpha))))"
   ]
  },
  {
   "cell_type": "code",
   "execution_count": null,
   "metadata": {},
   "outputs": [],
   "source": []
  },
  {
   "source": [
    "# Random Walk"
   ],
   "cell_type": "markdown",
   "metadata": {}
  },
  {
   "cell_type": "code",
   "execution_count": 319,
   "metadata": {},
   "outputs": [],
   "source": [
    "kernel_rw = [{\"name\": \"random_walk\", \"lambda\": 0.1}] \n",
    "K_rw = mg.KernelMatrix(graph_list, kernel_sp, True)"
   ]
  },
  {
   "cell_type": "code",
   "execution_count": 320,
   "metadata": {},
   "outputs": [],
   "source": [
    "p_b_value, p_u_value, mmd_b_null, mmd_u_null, mmd_b_sample, mmd_u_sample = mg.BootstrapPval(B = 1000, K = K_rw, n = n, m = m, seed = 123)"
   ]
  },
  {
   "cell_type": "code",
   "execution_count": 321,
   "metadata": {},
   "outputs": [
    {
     "output_type": "stream",
     "name": "stdout",
     "text": [
      "1.0\n[0.001 0.002 0.002 0.002 0.    0.002 0.002 0.001 0.    0.001 0.001 0.002\n 0.001 0.002 0.    0.    0.001 0.    0.002 0.    0.003 0.001 0.002 0.001\n 0.002 0.001 0.002 0.001 0.002 0.    0.    0.001 0.    0.    0.001 0.\n 0.    0.    0.003 0.001 0.001 0.    0.    0.    0.    0.    0.    0.001\n 0.001 0.001 0.002 0.001 0.    0.002 0.    0.001 0.001 0.003 0.    0.001\n 0.002 0.003 0.    0.001 0.001 0.    0.001 0.002 0.002 0.001 0.    0.001\n 0.    0.001 0.001 0.002 0.    0.    0.    0.    0.001 0.    0.001 0.004\n 0.    0.    0.    0.    0.    0.001 0.001 0.    0.    0.001 0.002 0.001\n 0.002 0.    0.001 0.002 0.001 0.001 0.001 0.    0.    0.    0.002 0.\n 0.001 0.    0.002 0.002 0.001 0.001 0.002 0.    0.    0.    0.001 0.004\n 0.    0.    0.001 0.    0.001 0.001 0.001 0.002 0.002 0.002 0.001 0.\n 0.    0.    0.    0.    0.002 0.    0.002 0.003 0.    0.001 0.001 0.001\n 0.001 0.    0.    0.    0.001 0.    0.    0.001 0.    0.003 0.    0.\n 0.    0.002 0.    0.001 0.001 0.001 0.001 0.    0.001 0.    0.001 0.\n 0.002 0.002 0.    0.001 0.001 0.    0.    0.002 0.001 0.001 0.001 0.001\n 0.    0.001 0.001 0.001 0.    0.    0.002 0.001 0.001 0.001 0.002 0.002\n 0.    0.001 0.001 0.001 0.    0.    0.001 0.001 0.003 0.002 0.001 0.\n 0.    0.002 0.001 0.001 0.    0.001 0.    0.001 0.    0.    0.002 0.\n 0.    0.    0.002 0.    0.    0.    0.003 0.002 0.001 0.    0.    0.001\n 0.001 0.    0.    0.    0.    0.001 0.002 0.005 0.001 0.001 0.001 0.001\n 0.001 0.002 0.002 0.    0.001 0.001 0.001 0.    0.001 0.001 0.001 0.002\n 0.    0.    0.001 0.002 0.001 0.002 0.002 0.001 0.    0.    0.002 0.002\n 0.003 0.    0.002 0.    0.    0.002 0.003 0.001 0.001 0.    0.001 0.\n 0.003 0.    0.001 0.001 0.001 0.001 0.002 0.    0.003 0.    0.    0.\n 0.002 0.002 0.002 0.001 0.    0.    0.001 0.    0.001 0.001 0.    0.001\n 0.001 0.001 0.004 0.001 0.    0.    0.    0.    0.    0.001 0.001 0.\n 0.002 0.    0.001 0.    0.001 0.001 0.002 0.001 0.001 0.002 0.001 0.\n 0.002 0.001 0.    0.001 0.003 0.003 0.001 0.    0.002 0.001 0.    0.\n 0.004 0.001 0.001 0.002 0.    0.001 0.    0.    0.001 0.001 0.    0.001\n 0.001 0.001 0.    0.001 0.    0.001 0.002 0.003 0.    0.    0.002 0.002\n 0.001 0.002 0.    0.    0.    0.    0.    0.001 0.    0.002 0.002 0.002\n 0.003 0.    0.002 0.    0.    0.    0.001 0.004 0.001 0.001 0.001 0.\n 0.002 0.001 0.002 0.    0.001 0.    0.    0.003 0.001 0.001 0.002 0.001\n 0.    0.    0.001 0.002 0.001 0.002 0.    0.001 0.001 0.    0.001 0.\n 0.    0.    0.001 0.001 0.003 0.001 0.    0.    0.001 0.    0.001 0.002\n 0.001 0.002 0.    0.001 0.001 0.001 0.    0.001 0.001 0.    0.001 0.002\n 0.    0.001 0.    0.    0.    0.001 0.    0.001 0.001 0.    0.    0.001\n 0.003 0.    0.003 0.001 0.001 0.001 0.003 0.    0.001 0.002 0.    0.001\n 0.    0.    0.001 0.001 0.002 0.001 0.    0.001 0.001 0.    0.001 0.002\n 0.    0.    0.    0.001 0.002 0.001 0.002 0.002 0.001 0.001 0.001 0.002\n 0.    0.001 0.001 0.    0.001 0.003 0.002 0.001 0.    0.001 0.    0.\n 0.    0.    0.001 0.    0.    0.002 0.    0.002 0.    0.    0.002 0.002\n 0.001 0.001 0.    0.    0.001 0.001 0.001 0.    0.001 0.001 0.003 0.002\n 0.003 0.    0.001 0.002 0.001 0.    0.    0.    0.    0.    0.    0.002\n 0.    0.001 0.    0.    0.    0.002 0.    0.    0.001 0.002 0.002 0.\n 0.001 0.    0.002 0.002 0.002 0.    0.001 0.    0.    0.001 0.002 0.\n 0.003 0.001 0.001 0.002 0.002 0.001 0.    0.001 0.001 0.002 0.    0.001\n 0.002 0.    0.    0.    0.002 0.    0.    0.    0.001 0.    0.001 0.002\n 0.002 0.    0.    0.001 0.001 0.    0.002 0.    0.    0.001 0.001 0.001\n 0.    0.003 0.    0.    0.001 0.001 0.    0.002 0.001 0.    0.    0.\n 0.002 0.001 0.002 0.    0.    0.001 0.001 0.    0.    0.    0.    0.001\n 0.    0.    0.002 0.    0.    0.001 0.002 0.003 0.002 0.002 0.002 0.003\n 0.001 0.    0.001 0.001 0.    0.001 0.004 0.001 0.002 0.    0.    0.004\n 0.    0.    0.    0.    0.001 0.001 0.    0.    0.001 0.001 0.001 0.001\n 0.003 0.    0.    0.001 0.    0.    0.001 0.001 0.001 0.    0.001 0.001\n 0.001 0.003 0.002 0.001 0.001 0.    0.002 0.    0.    0.002 0.001 0.001\n 0.    0.    0.001 0.001 0.002 0.002 0.    0.002 0.    0.001 0.    0.001\n 0.    0.    0.    0.    0.001 0.001 0.    0.    0.001 0.002 0.    0.\n 0.002 0.    0.002 0.    0.001 0.002 0.    0.    0.001 0.001 0.001 0.001\n 0.    0.001 0.001 0.002 0.    0.    0.001 0.001 0.    0.    0.    0.003\n 0.    0.    0.002 0.001 0.001 0.    0.001 0.    0.002 0.    0.001 0.\n 0.002 0.    0.001 0.001 0.    0.001 0.    0.001 0.    0.004 0.    0.001\n 0.002 0.001 0.    0.    0.001 0.002 0.001 0.002 0.    0.002 0.001 0.001\n 0.001 0.    0.002 0.    0.001 0.    0.    0.    0.    0.002 0.    0.001\n 0.    0.003 0.001 0.001 0.002 0.    0.001 0.    0.    0.    0.001 0.\n 0.    0.001 0.001 0.002 0.001 0.001 0.001 0.    0.002 0.    0.002 0.\n 0.001 0.    0.    0.    0.001 0.001 0.    0.    0.001 0.    0.002 0.001\n 0.003 0.    0.001 0.    0.001 0.003 0.    0.002 0.003 0.002 0.    0.\n 0.003 0.    0.001 0.    0.001 0.001 0.    0.001 0.001 0.001 0.002 0.001\n 0.003 0.001 0.    0.    0.    0.001 0.001 0.002 0.    0.001 0.001 0.\n 0.001 0.    0.    0.002 0.001 0.002 0.002 0.001 0.002 0.001 0.002 0.\n 0.    0.002 0.    0.003 0.    0.    0.    0.001 0.001 0.    0.    0.\n 0.    0.002 0.001 0.002 0.005 0.    0.003 0.    0.001 0.001 0.001 0.\n 0.    0.    0.001 0.001 0.    0.001 0.    0.    0.001 0.001 0.002 0.004\n 0.002 0.001 0.001 0.001 0.    0.001 0.    0.001 0.001 0.    0.    0.002\n 0.001 0.    0.001 0.    0.002 0.    0.002 0.001 0.    0.    0.001 0.002\n 0.    0.001 0.    0.    0.002 0.    0.001 0.001 0.    0.003 0.    0.001\n 0.001 0.002 0.002 0.    0.001 0.001 0.    0.003 0.    0.001 0.002 0.002\n 0.001 0.    0.001 0.001 0.002 0.    0.    0.003 0.002 0.002 0.002 0.001\n 0.    0.    0.001 0.001 0.    0.    0.001 0.    0.    0.002 0.001 0.\n 0.001 0.    0.002 0.    0.001 0.    0.001 0.001 0.002 0.001 0.001 0.001\n 0.001 0.    0.001 0.001 0.001 0.    0.001 0.    0.003 0.002 0.001 0.\n 0.002 0.    0.001 0.    0.001 0.    0.    0.    0.001 0.001 0.    0.\n 0.002 0.    0.    0.001]\n"
     ]
    }
   ],
   "source": [
    "print(\"Biased p-value: \" + str(p_b_value))\r\n",
    "print(\"Unbiased p-value: \" + str(p_u_value))\r\n",
    "print(\"Biased hypothesis acceped:\" + str(mmd_b_sample < (math.sqrt(2*K_wlsp.max()/n))*(1 + math.sqrt(2*math.log(1/alpha)))))\r\n",
    "print(\"Unbiased hypothesis acceped:\" + str(mmd_u_sample < (4*K_wlsp.max()/math.sqrt(n))*math.sqrt(math.log(1/alpha))))"
   ]
  },
  {
   "source": [
    "# Plotting script runs (the script needs to be run first)"
   ],
   "cell_type": "markdown",
   "metadata": {}
  },
  {
   "cell_type": "code",
   "execution_count": 8,
   "metadata": {},
   "outputs": [
    {
     "output_type": "execute_result",
     "data": {
      "text/plain": [
       "           kernel     m     n  nr_nodes_1  nr_nodes_2  p_edge_1  p_edge_2  \\\n",
       "0   shortest_path  10.0  10.0        10.0        10.0     0.500     0.500   \n",
       "1   shortest_path  10.0  10.0        10.0        10.0     0.505     0.495   \n",
       "2   shortest_path  10.0  10.0        10.0        10.0     0.510     0.490   \n",
       "3   shortest_path  10.0  10.0        10.0        10.0     0.515     0.485   \n",
       "4   shortest_path  10.0  10.0        10.0        10.0     0.520     0.480   \n",
       "5   shortest_path  10.0  10.0        10.0        10.0     0.550     0.450   \n",
       "6   shortest_path  10.0  10.0        25.0        25.0     0.500     0.500   \n",
       "7   shortest_path  10.0  10.0        25.0        25.0     0.505     0.495   \n",
       "8   shortest_path  10.0  10.0        25.0        25.0     0.510     0.490   \n",
       "9   shortest_path  10.0  10.0        25.0        25.0     0.515     0.485   \n",
       "10  shortest_path  10.0  10.0        25.0        25.0     0.520     0.480   \n",
       "11  shortest_path  10.0  10.0        25.0        25.0     0.550     0.450   \n",
       "12  shortest_path  10.0  10.0        50.0        50.0     0.500     0.500   \n",
       "13  shortest_path  10.0  10.0        50.0        50.0     0.505     0.495   \n",
       "14  shortest_path  10.0  10.0        50.0        50.0     0.510     0.490   \n",
       "15  shortest_path  10.0  10.0        50.0        50.0     0.515     0.485   \n",
       "16  shortest_path  10.0  10.0        50.0        50.0     0.520     0.480   \n",
       "17  shortest_path  10.0  10.0        50.0        50.0     0.550     0.450   \n",
       "18  shortest_path  10.0  10.0        75.0        75.0     0.500     0.500   \n",
       "19  shortest_path  10.0  10.0        75.0        75.0     0.505     0.495   \n",
       "\n",
       "    rejections_b  rejections_statistic_b  rejections_statistic_u  \\\n",
       "0          0.056                     0.0                     0.0   \n",
       "1          0.058                     0.0                     0.0   \n",
       "2          0.058                     0.0                     0.0   \n",
       "3          0.112                     0.0                     0.0   \n",
       "4          0.142                     0.0                     0.0   \n",
       "5          0.616                     0.0                     0.0   \n",
       "6          0.072                     0.0                     0.0   \n",
       "7          0.076                     0.0                     0.0   \n",
       "8          0.170                     0.0                     0.0   \n",
       "9          0.318                     0.0                     0.0   \n",
       "10         0.554                     0.0                     0.0   \n",
       "11         1.000                     0.0                     0.0   \n",
       "12         0.038                     0.0                     0.0   \n",
       "13         0.162                     0.0                     0.0   \n",
       "14         0.500                     0.0                     0.0   \n",
       "15         0.886                     0.0                     0.0   \n",
       "16         0.990                     0.0                     0.0   \n",
       "17         1.000                     0.0                     0.0   \n",
       "18         0.054                     0.0                     0.0   \n",
       "19         0.294                     0.0                     0.0   \n",
       "\n",
       "    rejections_u              run_info        run_time  \\\n",
       "0          0.054  B:500,N:500,wl_itr:3  0:00:10.552417   \n",
       "1          0.058  B:500,N:500,wl_itr:3  0:00:10.534413   \n",
       "2          0.058  B:500,N:500,wl_itr:3  0:00:10.423698   \n",
       "3          0.110  B:500,N:500,wl_itr:3  0:00:10.395254   \n",
       "4          0.144  B:500,N:500,wl_itr:3  0:00:10.451652   \n",
       "5          0.616  B:500,N:500,wl_itr:3  0:00:10.377892   \n",
       "6          0.074  B:500,N:500,wl_itr:3  0:00:17.138341   \n",
       "7          0.076  B:500,N:500,wl_itr:3  0:00:17.191203   \n",
       "8          0.172  B:500,N:500,wl_itr:3  0:00:17.043439   \n",
       "9          0.320  B:500,N:500,wl_itr:3  0:00:17.050085   \n",
       "10         0.554  B:500,N:500,wl_itr:3  0:00:17.045046   \n",
       "11         1.000  B:500,N:500,wl_itr:3  0:00:18.024929   \n",
       "12         0.038  B:500,N:500,wl_itr:3  0:00:38.130862   \n",
       "13         0.162  B:500,N:500,wl_itr:3  0:00:37.976161   \n",
       "14         0.500  B:500,N:500,wl_itr:3  0:00:37.864557   \n",
       "15         0.884  B:500,N:500,wl_itr:3  0:00:37.880955   \n",
       "16         0.990  B:500,N:500,wl_itr:3  0:00:37.939824   \n",
       "17         1.000  B:500,N:500,wl_itr:3  0:00:40.309544   \n",
       "18         0.054  B:500,N:500,wl_itr:3  0:01:11.495835   \n",
       "19         0.294  B:500,N:500,wl_itr:3  0:01:13.834495   \n",
       "\n",
       "                     timestap  \n",
       "0  2021-03-17 17:51:51.552297  \n",
       "1  2021-03-17 17:51:51.552297  \n",
       "2  2021-03-17 17:51:51.552297  \n",
       "3  2021-03-17 17:51:51.552297  \n",
       "4  2021-03-17 17:51:51.552297  \n",
       "5  2021-03-17 17:51:51.552297  \n",
       "6  2021-03-17 17:51:51.552297  \n",
       "7  2021-03-17 17:51:51.552297  \n",
       "8  2021-03-17 17:51:51.552297  \n",
       "9  2021-03-17 17:51:51.552297  \n",
       "10 2021-03-17 17:51:51.552297  \n",
       "11 2021-03-17 17:51:51.552297  \n",
       "12 2021-03-17 17:51:51.552297  \n",
       "13 2021-03-17 17:51:51.552297  \n",
       "14 2021-03-17 17:51:51.552297  \n",
       "15 2021-03-17 17:51:51.552297  \n",
       "16 2021-03-17 17:51:51.552297  \n",
       "17 2021-03-17 17:51:51.552297  \n",
       "18 2021-03-17 17:51:51.552297  \n",
       "19 2021-03-17 17:51:51.552297  "
      ],
      "text/html": "<div>\n<style scoped>\n    .dataframe tbody tr th:only-of-type {\n        vertical-align: middle;\n    }\n\n    .dataframe tbody tr th {\n        vertical-align: top;\n    }\n\n    .dataframe thead th {\n        text-align: right;\n    }\n</style>\n<table border=\"1\" class=\"dataframe\">\n  <thead>\n    <tr style=\"text-align: right;\">\n      <th></th>\n      <th>kernel</th>\n      <th>m</th>\n      <th>n</th>\n      <th>nr_nodes_1</th>\n      <th>nr_nodes_2</th>\n      <th>p_edge_1</th>\n      <th>p_edge_2</th>\n      <th>rejections_b</th>\n      <th>rejections_statistic_b</th>\n      <th>rejections_statistic_u</th>\n      <th>rejections_u</th>\n      <th>run_info</th>\n      <th>run_time</th>\n      <th>timestap</th>\n    </tr>\n  </thead>\n  <tbody>\n    <tr>\n      <th>0</th>\n      <td>shortest_path</td>\n      <td>10.0</td>\n      <td>10.0</td>\n      <td>10.0</td>\n      <td>10.0</td>\n      <td>0.500</td>\n      <td>0.500</td>\n      <td>0.056</td>\n      <td>0.0</td>\n      <td>0.0</td>\n      <td>0.054</td>\n      <td>B:500,N:500,wl_itr:3</td>\n      <td>0:00:10.552417</td>\n      <td>2021-03-17 17:51:51.552297</td>\n    </tr>\n    <tr>\n      <th>1</th>\n      <td>shortest_path</td>\n      <td>10.0</td>\n      <td>10.0</td>\n      <td>10.0</td>\n      <td>10.0</td>\n      <td>0.505</td>\n      <td>0.495</td>\n      <td>0.058</td>\n      <td>0.0</td>\n      <td>0.0</td>\n      <td>0.058</td>\n      <td>B:500,N:500,wl_itr:3</td>\n      <td>0:00:10.534413</td>\n      <td>2021-03-17 17:51:51.552297</td>\n    </tr>\n    <tr>\n      <th>2</th>\n      <td>shortest_path</td>\n      <td>10.0</td>\n      <td>10.0</td>\n      <td>10.0</td>\n      <td>10.0</td>\n      <td>0.510</td>\n      <td>0.490</td>\n      <td>0.058</td>\n      <td>0.0</td>\n      <td>0.0</td>\n      <td>0.058</td>\n      <td>B:500,N:500,wl_itr:3</td>\n      <td>0:00:10.423698</td>\n      <td>2021-03-17 17:51:51.552297</td>\n    </tr>\n    <tr>\n      <th>3</th>\n      <td>shortest_path</td>\n      <td>10.0</td>\n      <td>10.0</td>\n      <td>10.0</td>\n      <td>10.0</td>\n      <td>0.515</td>\n      <td>0.485</td>\n      <td>0.112</td>\n      <td>0.0</td>\n      <td>0.0</td>\n      <td>0.110</td>\n      <td>B:500,N:500,wl_itr:3</td>\n      <td>0:00:10.395254</td>\n      <td>2021-03-17 17:51:51.552297</td>\n    </tr>\n    <tr>\n      <th>4</th>\n      <td>shortest_path</td>\n      <td>10.0</td>\n      <td>10.0</td>\n      <td>10.0</td>\n      <td>10.0</td>\n      <td>0.520</td>\n      <td>0.480</td>\n      <td>0.142</td>\n      <td>0.0</td>\n      <td>0.0</td>\n      <td>0.144</td>\n      <td>B:500,N:500,wl_itr:3</td>\n      <td>0:00:10.451652</td>\n      <td>2021-03-17 17:51:51.552297</td>\n    </tr>\n    <tr>\n      <th>5</th>\n      <td>shortest_path</td>\n      <td>10.0</td>\n      <td>10.0</td>\n      <td>10.0</td>\n      <td>10.0</td>\n      <td>0.550</td>\n      <td>0.450</td>\n      <td>0.616</td>\n      <td>0.0</td>\n      <td>0.0</td>\n      <td>0.616</td>\n      <td>B:500,N:500,wl_itr:3</td>\n      <td>0:00:10.377892</td>\n      <td>2021-03-17 17:51:51.552297</td>\n    </tr>\n    <tr>\n      <th>6</th>\n      <td>shortest_path</td>\n      <td>10.0</td>\n      <td>10.0</td>\n      <td>25.0</td>\n      <td>25.0</td>\n      <td>0.500</td>\n      <td>0.500</td>\n      <td>0.072</td>\n      <td>0.0</td>\n      <td>0.0</td>\n      <td>0.074</td>\n      <td>B:500,N:500,wl_itr:3</td>\n      <td>0:00:17.138341</td>\n      <td>2021-03-17 17:51:51.552297</td>\n    </tr>\n    <tr>\n      <th>7</th>\n      <td>shortest_path</td>\n      <td>10.0</td>\n      <td>10.0</td>\n      <td>25.0</td>\n      <td>25.0</td>\n      <td>0.505</td>\n      <td>0.495</td>\n      <td>0.076</td>\n      <td>0.0</td>\n      <td>0.0</td>\n      <td>0.076</td>\n      <td>B:500,N:500,wl_itr:3</td>\n      <td>0:00:17.191203</td>\n      <td>2021-03-17 17:51:51.552297</td>\n    </tr>\n    <tr>\n      <th>8</th>\n      <td>shortest_path</td>\n      <td>10.0</td>\n      <td>10.0</td>\n      <td>25.0</td>\n      <td>25.0</td>\n      <td>0.510</td>\n      <td>0.490</td>\n      <td>0.170</td>\n      <td>0.0</td>\n      <td>0.0</td>\n      <td>0.172</td>\n      <td>B:500,N:500,wl_itr:3</td>\n      <td>0:00:17.043439</td>\n      <td>2021-03-17 17:51:51.552297</td>\n    </tr>\n    <tr>\n      <th>9</th>\n      <td>shortest_path</td>\n      <td>10.0</td>\n      <td>10.0</td>\n      <td>25.0</td>\n      <td>25.0</td>\n      <td>0.515</td>\n      <td>0.485</td>\n      <td>0.318</td>\n      <td>0.0</td>\n      <td>0.0</td>\n      <td>0.320</td>\n      <td>B:500,N:500,wl_itr:3</td>\n      <td>0:00:17.050085</td>\n      <td>2021-03-17 17:51:51.552297</td>\n    </tr>\n    <tr>\n      <th>10</th>\n      <td>shortest_path</td>\n      <td>10.0</td>\n      <td>10.0</td>\n      <td>25.0</td>\n      <td>25.0</td>\n      <td>0.520</td>\n      <td>0.480</td>\n      <td>0.554</td>\n      <td>0.0</td>\n      <td>0.0</td>\n      <td>0.554</td>\n      <td>B:500,N:500,wl_itr:3</td>\n      <td>0:00:17.045046</td>\n      <td>2021-03-17 17:51:51.552297</td>\n    </tr>\n    <tr>\n      <th>11</th>\n      <td>shortest_path</td>\n      <td>10.0</td>\n      <td>10.0</td>\n      <td>25.0</td>\n      <td>25.0</td>\n      <td>0.550</td>\n      <td>0.450</td>\n      <td>1.000</td>\n      <td>0.0</td>\n      <td>0.0</td>\n      <td>1.000</td>\n      <td>B:500,N:500,wl_itr:3</td>\n      <td>0:00:18.024929</td>\n      <td>2021-03-17 17:51:51.552297</td>\n    </tr>\n    <tr>\n      <th>12</th>\n      <td>shortest_path</td>\n      <td>10.0</td>\n      <td>10.0</td>\n      <td>50.0</td>\n      <td>50.0</td>\n      <td>0.500</td>\n      <td>0.500</td>\n      <td>0.038</td>\n      <td>0.0</td>\n      <td>0.0</td>\n      <td>0.038</td>\n      <td>B:500,N:500,wl_itr:3</td>\n      <td>0:00:38.130862</td>\n      <td>2021-03-17 17:51:51.552297</td>\n    </tr>\n    <tr>\n      <th>13</th>\n      <td>shortest_path</td>\n      <td>10.0</td>\n      <td>10.0</td>\n      <td>50.0</td>\n      <td>50.0</td>\n      <td>0.505</td>\n      <td>0.495</td>\n      <td>0.162</td>\n      <td>0.0</td>\n      <td>0.0</td>\n      <td>0.162</td>\n      <td>B:500,N:500,wl_itr:3</td>\n      <td>0:00:37.976161</td>\n      <td>2021-03-17 17:51:51.552297</td>\n    </tr>\n    <tr>\n      <th>14</th>\n      <td>shortest_path</td>\n      <td>10.0</td>\n      <td>10.0</td>\n      <td>50.0</td>\n      <td>50.0</td>\n      <td>0.510</td>\n      <td>0.490</td>\n      <td>0.500</td>\n      <td>0.0</td>\n      <td>0.0</td>\n      <td>0.500</td>\n      <td>B:500,N:500,wl_itr:3</td>\n      <td>0:00:37.864557</td>\n      <td>2021-03-17 17:51:51.552297</td>\n    </tr>\n    <tr>\n      <th>15</th>\n      <td>shortest_path</td>\n      <td>10.0</td>\n      <td>10.0</td>\n      <td>50.0</td>\n      <td>50.0</td>\n      <td>0.515</td>\n      <td>0.485</td>\n      <td>0.886</td>\n      <td>0.0</td>\n      <td>0.0</td>\n      <td>0.884</td>\n      <td>B:500,N:500,wl_itr:3</td>\n      <td>0:00:37.880955</td>\n      <td>2021-03-17 17:51:51.552297</td>\n    </tr>\n    <tr>\n      <th>16</th>\n      <td>shortest_path</td>\n      <td>10.0</td>\n      <td>10.0</td>\n      <td>50.0</td>\n      <td>50.0</td>\n      <td>0.520</td>\n      <td>0.480</td>\n      <td>0.990</td>\n      <td>0.0</td>\n      <td>0.0</td>\n      <td>0.990</td>\n      <td>B:500,N:500,wl_itr:3</td>\n      <td>0:00:37.939824</td>\n      <td>2021-03-17 17:51:51.552297</td>\n    </tr>\n    <tr>\n      <th>17</th>\n      <td>shortest_path</td>\n      <td>10.0</td>\n      <td>10.0</td>\n      <td>50.0</td>\n      <td>50.0</td>\n      <td>0.550</td>\n      <td>0.450</td>\n      <td>1.000</td>\n      <td>0.0</td>\n      <td>0.0</td>\n      <td>1.000</td>\n      <td>B:500,N:500,wl_itr:3</td>\n      <td>0:00:40.309544</td>\n      <td>2021-03-17 17:51:51.552297</td>\n    </tr>\n    <tr>\n      <th>18</th>\n      <td>shortest_path</td>\n      <td>10.0</td>\n      <td>10.0</td>\n      <td>75.0</td>\n      <td>75.0</td>\n      <td>0.500</td>\n      <td>0.500</td>\n      <td>0.054</td>\n      <td>0.0</td>\n      <td>0.0</td>\n      <td>0.054</td>\n      <td>B:500,N:500,wl_itr:3</td>\n      <td>0:01:11.495835</td>\n      <td>2021-03-17 17:51:51.552297</td>\n    </tr>\n    <tr>\n      <th>19</th>\n      <td>shortest_path</td>\n      <td>10.0</td>\n      <td>10.0</td>\n      <td>75.0</td>\n      <td>75.0</td>\n      <td>0.505</td>\n      <td>0.495</td>\n      <td>0.294</td>\n      <td>0.0</td>\n      <td>0.0</td>\n      <td>0.294</td>\n      <td>B:500,N:500,wl_itr:3</td>\n      <td>0:01:13.834495</td>\n      <td>2021-03-17 17:51:51.552297</td>\n    </tr>\n  </tbody>\n</table>\n</div>"
     },
     "metadata": {},
     "execution_count": 8
    }
   ],
   "source": [
    "df_Binomial_WLOA = pd.read_pickle(\"data/run_wl_oa_10samples.pkl\")\n",
    "df_Binomial_WLOA.head(20)\n",
    "\n"
   ]
  },
  {
   "cell_type": "code",
   "execution_count": 14,
   "metadata": {},
   "outputs": [
    {
     "output_type": "display_data",
     "data": {
      "text/plain": "<Figure size 432x288 with 1 Axes>",
      "image/svg+xml": "<?xml version=\"1.0\" encoding=\"utf-8\" standalone=\"no\"?>\r\n<!DOCTYPE svg PUBLIC \"-//W3C//DTD SVG 1.1//EN\"\r\n  \"http://www.w3.org/Graphics/SVG/1.1/DTD/svg11.dtd\">\r\n<!-- Created with matplotlib (https://matplotlib.org/) -->\r\n<svg height=\"277.314375pt\" version=\"1.1\" viewBox=\"0 0 392.14375 277.314375\" width=\"392.14375pt\" xmlns=\"http://www.w3.org/2000/svg\" xmlns:xlink=\"http://www.w3.org/1999/xlink\">\r\n <metadata>\r\n  <rdf:RDF xmlns:cc=\"http://creativecommons.org/ns#\" xmlns:dc=\"http://purl.org/dc/elements/1.1/\" xmlns:rdf=\"http://www.w3.org/1999/02/22-rdf-syntax-ns#\">\r\n   <cc:Work>\r\n    <dc:type rdf:resource=\"http://purl.org/dc/dcmitype/StillImage\"/>\r\n    <dc:date>2021-03-18T14:32:48.191149</dc:date>\r\n    <dc:format>image/svg+xml</dc:format>\r\n    <dc:creator>\r\n     <cc:Agent>\r\n      <dc:title>Matplotlib v3.3.4, https://matplotlib.org/</dc:title>\r\n     </cc:Agent>\r\n    </dc:creator>\r\n   </cc:Work>\r\n  </rdf:RDF>\r\n </metadata>\r\n <defs>\r\n  <style type=\"text/css\">*{stroke-linecap:butt;stroke-linejoin:round;}</style>\r\n </defs>\r\n <g id=\"figure_1\">\r\n  <g id=\"patch_1\">\r\n   <path d=\"M 0 277.314375 \r\nL 392.14375 277.314375 \r\nL 392.14375 0 \r\nL 0 0 \r\nz\r\n\" style=\"fill:none;\"/>\r\n  </g>\r\n  <g id=\"axes_1\">\r\n   <g id=\"patch_2\">\r\n    <path d=\"M 50.14375 239.758125 \r\nL 384.94375 239.758125 \r\nL 384.94375 22.318125 \r\nL 50.14375 22.318125 \r\nz\r\n\" style=\"fill:#ffffff;\"/>\r\n   </g>\r\n   <g id=\"matplotlib.axis_1\">\r\n    <g id=\"xtick_1\">\r\n     <g id=\"line2d_1\">\r\n      <defs>\r\n       <path d=\"M 0 0 \r\nL 0 3.5 \r\n\" id=\"m94c943baf3\" style=\"stroke:#000000;stroke-width:0.8;\"/>\r\n      </defs>\r\n      <g>\r\n       <use style=\"stroke:#000000;stroke-width:0.8;\" x=\"62.287552\" xlink:href=\"#m94c943baf3\" y=\"239.758125\"/>\r\n      </g>\r\n     </g>\r\n     <g id=\"text_1\">\r\n      <!-- 0 -->\r\n      <g transform=\"translate(59.106302 254.356562)scale(0.1 -0.1)\">\r\n       <defs>\r\n        <path d=\"M 31.78125 66.40625 \r\nQ 24.171875 66.40625 20.328125 58.90625 \r\nQ 16.5 51.421875 16.5 36.375 \r\nQ 16.5 21.390625 20.328125 13.890625 \r\nQ 24.171875 6.390625 31.78125 6.390625 \r\nQ 39.453125 6.390625 43.28125 13.890625 \r\nQ 47.125 21.390625 47.125 36.375 \r\nQ 47.125 51.421875 43.28125 58.90625 \r\nQ 39.453125 66.40625 31.78125 66.40625 \r\nz\r\nM 31.78125 74.21875 \r\nQ 44.046875 74.21875 50.515625 64.515625 \r\nQ 56.984375 54.828125 56.984375 36.375 \r\nQ 56.984375 17.96875 50.515625 8.265625 \r\nQ 44.046875 -1.421875 31.78125 -1.421875 \r\nQ 19.53125 -1.421875 13.0625 8.265625 \r\nQ 6.59375 17.96875 6.59375 36.375 \r\nQ 6.59375 54.828125 13.0625 64.515625 \r\nQ 19.53125 74.21875 31.78125 74.21875 \r\nz\r\n\" id=\"DejaVuSans-48\"/>\r\n       </defs>\r\n       <use xlink:href=\"#DejaVuSans-48\"/>\r\n      </g>\r\n     </g>\r\n    </g>\r\n    <g id=\"xtick_2\">\r\n     <g id=\"line2d_2\">\r\n      <g>\r\n       <use style=\"stroke:#000000;stroke-width:0.8;\" x=\"123.775155\" xlink:href=\"#m94c943baf3\" y=\"239.758125\"/>\r\n      </g>\r\n     </g>\r\n     <g id=\"text_2\">\r\n      <!-- 200 -->\r\n      <g transform=\"translate(114.231405 254.356562)scale(0.1 -0.1)\">\r\n       <defs>\r\n        <path d=\"M 19.1875 8.296875 \r\nL 53.609375 8.296875 \r\nL 53.609375 0 \r\nL 7.328125 0 \r\nL 7.328125 8.296875 \r\nQ 12.9375 14.109375 22.625 23.890625 \r\nQ 32.328125 33.6875 34.8125 36.53125 \r\nQ 39.546875 41.84375 41.421875 45.53125 \r\nQ 43.3125 49.21875 43.3125 52.78125 \r\nQ 43.3125 58.59375 39.234375 62.25 \r\nQ 35.15625 65.921875 28.609375 65.921875 \r\nQ 23.96875 65.921875 18.8125 64.3125 \r\nQ 13.671875 62.703125 7.8125 59.421875 \r\nL 7.8125 69.390625 \r\nQ 13.765625 71.78125 18.9375 73 \r\nQ 24.125 74.21875 28.421875 74.21875 \r\nQ 39.75 74.21875 46.484375 68.546875 \r\nQ 53.21875 62.890625 53.21875 53.421875 \r\nQ 53.21875 48.921875 51.53125 44.890625 \r\nQ 49.859375 40.875 45.40625 35.40625 \r\nQ 44.1875 33.984375 37.640625 27.21875 \r\nQ 31.109375 20.453125 19.1875 8.296875 \r\nz\r\n\" id=\"DejaVuSans-50\"/>\r\n       </defs>\r\n       <use xlink:href=\"#DejaVuSans-50\"/>\r\n       <use x=\"63.623047\" xlink:href=\"#DejaVuSans-48\"/>\r\n       <use x=\"127.246094\" xlink:href=\"#DejaVuSans-48\"/>\r\n      </g>\r\n     </g>\r\n    </g>\r\n    <g id=\"xtick_3\">\r\n     <g id=\"line2d_3\">\r\n      <g>\r\n       <use style=\"stroke:#000000;stroke-width:0.8;\" x=\"185.262758\" xlink:href=\"#m94c943baf3\" y=\"239.758125\"/>\r\n      </g>\r\n     </g>\r\n     <g id=\"text_3\">\r\n      <!-- 400 -->\r\n      <g transform=\"translate(175.719008 254.356562)scale(0.1 -0.1)\">\r\n       <defs>\r\n        <path d=\"M 37.796875 64.3125 \r\nL 12.890625 25.390625 \r\nL 37.796875 25.390625 \r\nz\r\nM 35.203125 72.90625 \r\nL 47.609375 72.90625 \r\nL 47.609375 25.390625 \r\nL 58.015625 25.390625 \r\nL 58.015625 17.1875 \r\nL 47.609375 17.1875 \r\nL 47.609375 0 \r\nL 37.796875 0 \r\nL 37.796875 17.1875 \r\nL 4.890625 17.1875 \r\nL 4.890625 26.703125 \r\nz\r\n\" id=\"DejaVuSans-52\"/>\r\n       </defs>\r\n       <use xlink:href=\"#DejaVuSans-52\"/>\r\n       <use x=\"63.623047\" xlink:href=\"#DejaVuSans-48\"/>\r\n       <use x=\"127.246094\" xlink:href=\"#DejaVuSans-48\"/>\r\n      </g>\r\n     </g>\r\n    </g>\r\n    <g id=\"xtick_4\">\r\n     <g id=\"line2d_4\">\r\n      <g>\r\n       <use style=\"stroke:#000000;stroke-width:0.8;\" x=\"246.750362\" xlink:href=\"#m94c943baf3\" y=\"239.758125\"/>\r\n      </g>\r\n     </g>\r\n     <g id=\"text_4\">\r\n      <!-- 600 -->\r\n      <g transform=\"translate(237.206612 254.356562)scale(0.1 -0.1)\">\r\n       <defs>\r\n        <path d=\"M 33.015625 40.375 \r\nQ 26.375 40.375 22.484375 35.828125 \r\nQ 18.609375 31.296875 18.609375 23.390625 \r\nQ 18.609375 15.53125 22.484375 10.953125 \r\nQ 26.375 6.390625 33.015625 6.390625 \r\nQ 39.65625 6.390625 43.53125 10.953125 \r\nQ 47.40625 15.53125 47.40625 23.390625 \r\nQ 47.40625 31.296875 43.53125 35.828125 \r\nQ 39.65625 40.375 33.015625 40.375 \r\nz\r\nM 52.59375 71.296875 \r\nL 52.59375 62.3125 \r\nQ 48.875 64.0625 45.09375 64.984375 \r\nQ 41.3125 65.921875 37.59375 65.921875 \r\nQ 27.828125 65.921875 22.671875 59.328125 \r\nQ 17.53125 52.734375 16.796875 39.40625 \r\nQ 19.671875 43.65625 24.015625 45.921875 \r\nQ 28.375 48.1875 33.59375 48.1875 \r\nQ 44.578125 48.1875 50.953125 41.515625 \r\nQ 57.328125 34.859375 57.328125 23.390625 \r\nQ 57.328125 12.15625 50.6875 5.359375 \r\nQ 44.046875 -1.421875 33.015625 -1.421875 \r\nQ 20.359375 -1.421875 13.671875 8.265625 \r\nQ 6.984375 17.96875 6.984375 36.375 \r\nQ 6.984375 53.65625 15.1875 63.9375 \r\nQ 23.390625 74.21875 37.203125 74.21875 \r\nQ 40.921875 74.21875 44.703125 73.484375 \r\nQ 48.484375 72.75 52.59375 71.296875 \r\nz\r\n\" id=\"DejaVuSans-54\"/>\r\n       </defs>\r\n       <use xlink:href=\"#DejaVuSans-54\"/>\r\n       <use x=\"63.623047\" xlink:href=\"#DejaVuSans-48\"/>\r\n       <use x=\"127.246094\" xlink:href=\"#DejaVuSans-48\"/>\r\n      </g>\r\n     </g>\r\n    </g>\r\n    <g id=\"xtick_5\">\r\n     <g id=\"line2d_5\">\r\n      <g>\r\n       <use style=\"stroke:#000000;stroke-width:0.8;\" x=\"308.237965\" xlink:href=\"#m94c943baf3\" y=\"239.758125\"/>\r\n      </g>\r\n     </g>\r\n     <g id=\"text_5\">\r\n      <!-- 800 -->\r\n      <g transform=\"translate(298.694215 254.356562)scale(0.1 -0.1)\">\r\n       <defs>\r\n        <path d=\"M 31.78125 34.625 \r\nQ 24.75 34.625 20.71875 30.859375 \r\nQ 16.703125 27.09375 16.703125 20.515625 \r\nQ 16.703125 13.921875 20.71875 10.15625 \r\nQ 24.75 6.390625 31.78125 6.390625 \r\nQ 38.8125 6.390625 42.859375 10.171875 \r\nQ 46.921875 13.96875 46.921875 20.515625 \r\nQ 46.921875 27.09375 42.890625 30.859375 \r\nQ 38.875 34.625 31.78125 34.625 \r\nz\r\nM 21.921875 38.8125 \r\nQ 15.578125 40.375 12.03125 44.71875 \r\nQ 8.5 49.078125 8.5 55.328125 \r\nQ 8.5 64.0625 14.71875 69.140625 \r\nQ 20.953125 74.21875 31.78125 74.21875 \r\nQ 42.671875 74.21875 48.875 69.140625 \r\nQ 55.078125 64.0625 55.078125 55.328125 \r\nQ 55.078125 49.078125 51.53125 44.71875 \r\nQ 48 40.375 41.703125 38.8125 \r\nQ 48.828125 37.15625 52.796875 32.3125 \r\nQ 56.78125 27.484375 56.78125 20.515625 \r\nQ 56.78125 9.90625 50.3125 4.234375 \r\nQ 43.84375 -1.421875 31.78125 -1.421875 \r\nQ 19.734375 -1.421875 13.25 4.234375 \r\nQ 6.78125 9.90625 6.78125 20.515625 \r\nQ 6.78125 27.484375 10.78125 32.3125 \r\nQ 14.796875 37.15625 21.921875 38.8125 \r\nz\r\nM 18.3125 54.390625 \r\nQ 18.3125 48.734375 21.84375 45.5625 \r\nQ 25.390625 42.390625 31.78125 42.390625 \r\nQ 38.140625 42.390625 41.71875 45.5625 \r\nQ 45.3125 48.734375 45.3125 54.390625 \r\nQ 45.3125 60.0625 41.71875 63.234375 \r\nQ 38.140625 66.40625 31.78125 66.40625 \r\nQ 25.390625 66.40625 21.84375 63.234375 \r\nQ 18.3125 60.0625 18.3125 54.390625 \r\nz\r\n\" id=\"DejaVuSans-56\"/>\r\n       </defs>\r\n       <use xlink:href=\"#DejaVuSans-56\"/>\r\n       <use x=\"63.623047\" xlink:href=\"#DejaVuSans-48\"/>\r\n       <use x=\"127.246094\" xlink:href=\"#DejaVuSans-48\"/>\r\n      </g>\r\n     </g>\r\n    </g>\r\n    <g id=\"xtick_6\">\r\n     <g id=\"line2d_6\">\r\n      <g>\r\n       <use style=\"stroke:#000000;stroke-width:0.8;\" x=\"369.725568\" xlink:href=\"#m94c943baf3\" y=\"239.758125\"/>\r\n      </g>\r\n     </g>\r\n     <g id=\"text_6\">\r\n      <!-- 1000 -->\r\n      <g transform=\"translate(357.000568 254.356562)scale(0.1 -0.1)\">\r\n       <defs>\r\n        <path d=\"M 12.40625 8.296875 \r\nL 28.515625 8.296875 \r\nL 28.515625 63.921875 \r\nL 10.984375 60.40625 \r\nL 10.984375 69.390625 \r\nL 28.421875 72.90625 \r\nL 38.28125 72.90625 \r\nL 38.28125 8.296875 \r\nL 54.390625 8.296875 \r\nL 54.390625 0 \r\nL 12.40625 0 \r\nz\r\n\" id=\"DejaVuSans-49\"/>\r\n       </defs>\r\n       <use xlink:href=\"#DejaVuSans-49\"/>\r\n       <use x=\"63.623047\" xlink:href=\"#DejaVuSans-48\"/>\r\n       <use x=\"127.246094\" xlink:href=\"#DejaVuSans-48\"/>\r\n       <use x=\"190.869141\" xlink:href=\"#DejaVuSans-48\"/>\r\n      </g>\r\n     </g>\r\n    </g>\r\n    <g id=\"text_7\">\r\n     <!-- Number of nodes -->\r\n     <g transform=\"translate(174.376563 268.034687)scale(0.1 -0.1)\">\r\n      <defs>\r\n       <path d=\"M 9.8125 72.90625 \r\nL 23.09375 72.90625 \r\nL 55.421875 11.921875 \r\nL 55.421875 72.90625 \r\nL 64.984375 72.90625 \r\nL 64.984375 0 \r\nL 51.703125 0 \r\nL 19.390625 60.984375 \r\nL 19.390625 0 \r\nL 9.8125 0 \r\nz\r\n\" id=\"DejaVuSans-78\"/>\r\n       <path d=\"M 8.5 21.578125 \r\nL 8.5 54.6875 \r\nL 17.484375 54.6875 \r\nL 17.484375 21.921875 \r\nQ 17.484375 14.15625 20.5 10.265625 \r\nQ 23.53125 6.390625 29.59375 6.390625 \r\nQ 36.859375 6.390625 41.078125 11.03125 \r\nQ 45.3125 15.671875 45.3125 23.6875 \r\nL 45.3125 54.6875 \r\nL 54.296875 54.6875 \r\nL 54.296875 0 \r\nL 45.3125 0 \r\nL 45.3125 8.40625 \r\nQ 42.046875 3.421875 37.71875 1 \r\nQ 33.40625 -1.421875 27.6875 -1.421875 \r\nQ 18.265625 -1.421875 13.375 4.4375 \r\nQ 8.5 10.296875 8.5 21.578125 \r\nz\r\nM 31.109375 56 \r\nz\r\n\" id=\"DejaVuSans-117\"/>\r\n       <path d=\"M 52 44.1875 \r\nQ 55.375 50.25 60.0625 53.125 \r\nQ 64.75 56 71.09375 56 \r\nQ 79.640625 56 84.28125 50.015625 \r\nQ 88.921875 44.046875 88.921875 33.015625 \r\nL 88.921875 0 \r\nL 79.890625 0 \r\nL 79.890625 32.71875 \r\nQ 79.890625 40.578125 77.09375 44.375 \r\nQ 74.3125 48.1875 68.609375 48.1875 \r\nQ 61.625 48.1875 57.5625 43.546875 \r\nQ 53.515625 38.921875 53.515625 30.90625 \r\nL 53.515625 0 \r\nL 44.484375 0 \r\nL 44.484375 32.71875 \r\nQ 44.484375 40.625 41.703125 44.40625 \r\nQ 38.921875 48.1875 33.109375 48.1875 \r\nQ 26.21875 48.1875 22.15625 43.53125 \r\nQ 18.109375 38.875 18.109375 30.90625 \r\nL 18.109375 0 \r\nL 9.078125 0 \r\nL 9.078125 54.6875 \r\nL 18.109375 54.6875 \r\nL 18.109375 46.1875 \r\nQ 21.1875 51.21875 25.484375 53.609375 \r\nQ 29.78125 56 35.6875 56 \r\nQ 41.65625 56 45.828125 52.96875 \r\nQ 50 49.953125 52 44.1875 \r\nz\r\n\" id=\"DejaVuSans-109\"/>\r\n       <path d=\"M 48.6875 27.296875 \r\nQ 48.6875 37.203125 44.609375 42.84375 \r\nQ 40.53125 48.484375 33.40625 48.484375 \r\nQ 26.265625 48.484375 22.1875 42.84375 \r\nQ 18.109375 37.203125 18.109375 27.296875 \r\nQ 18.109375 17.390625 22.1875 11.75 \r\nQ 26.265625 6.109375 33.40625 6.109375 \r\nQ 40.53125 6.109375 44.609375 11.75 \r\nQ 48.6875 17.390625 48.6875 27.296875 \r\nz\r\nM 18.109375 46.390625 \r\nQ 20.953125 51.265625 25.265625 53.625 \r\nQ 29.59375 56 35.59375 56 \r\nQ 45.5625 56 51.78125 48.09375 \r\nQ 58.015625 40.1875 58.015625 27.296875 \r\nQ 58.015625 14.40625 51.78125 6.484375 \r\nQ 45.5625 -1.421875 35.59375 -1.421875 \r\nQ 29.59375 -1.421875 25.265625 0.953125 \r\nQ 20.953125 3.328125 18.109375 8.203125 \r\nL 18.109375 0 \r\nL 9.078125 0 \r\nL 9.078125 75.984375 \r\nL 18.109375 75.984375 \r\nz\r\n\" id=\"DejaVuSans-98\"/>\r\n       <path d=\"M 56.203125 29.59375 \r\nL 56.203125 25.203125 \r\nL 14.890625 25.203125 \r\nQ 15.484375 15.921875 20.484375 11.0625 \r\nQ 25.484375 6.203125 34.421875 6.203125 \r\nQ 39.59375 6.203125 44.453125 7.46875 \r\nQ 49.3125 8.734375 54.109375 11.28125 \r\nL 54.109375 2.78125 \r\nQ 49.265625 0.734375 44.1875 -0.34375 \r\nQ 39.109375 -1.421875 33.890625 -1.421875 \r\nQ 20.796875 -1.421875 13.15625 6.1875 \r\nQ 5.515625 13.8125 5.515625 26.8125 \r\nQ 5.515625 40.234375 12.765625 48.109375 \r\nQ 20.015625 56 32.328125 56 \r\nQ 43.359375 56 49.78125 48.890625 \r\nQ 56.203125 41.796875 56.203125 29.59375 \r\nz\r\nM 47.21875 32.234375 \r\nQ 47.125 39.59375 43.09375 43.984375 \r\nQ 39.0625 48.390625 32.421875 48.390625 \r\nQ 24.90625 48.390625 20.390625 44.140625 \r\nQ 15.875 39.890625 15.1875 32.171875 \r\nz\r\n\" id=\"DejaVuSans-101\"/>\r\n       <path d=\"M 41.109375 46.296875 \r\nQ 39.59375 47.171875 37.8125 47.578125 \r\nQ 36.03125 48 33.890625 48 \r\nQ 26.265625 48 22.1875 43.046875 \r\nQ 18.109375 38.09375 18.109375 28.8125 \r\nL 18.109375 0 \r\nL 9.078125 0 \r\nL 9.078125 54.6875 \r\nL 18.109375 54.6875 \r\nL 18.109375 46.1875 \r\nQ 20.953125 51.171875 25.484375 53.578125 \r\nQ 30.03125 56 36.53125 56 \r\nQ 37.453125 56 38.578125 55.875 \r\nQ 39.703125 55.765625 41.0625 55.515625 \r\nz\r\n\" id=\"DejaVuSans-114\"/>\r\n       <path id=\"DejaVuSans-32\"/>\r\n       <path d=\"M 30.609375 48.390625 \r\nQ 23.390625 48.390625 19.1875 42.75 \r\nQ 14.984375 37.109375 14.984375 27.296875 \r\nQ 14.984375 17.484375 19.15625 11.84375 \r\nQ 23.34375 6.203125 30.609375 6.203125 \r\nQ 37.796875 6.203125 41.984375 11.859375 \r\nQ 46.1875 17.53125 46.1875 27.296875 \r\nQ 46.1875 37.015625 41.984375 42.703125 \r\nQ 37.796875 48.390625 30.609375 48.390625 \r\nz\r\nM 30.609375 56 \r\nQ 42.328125 56 49.015625 48.375 \r\nQ 55.71875 40.765625 55.71875 27.296875 \r\nQ 55.71875 13.875 49.015625 6.21875 \r\nQ 42.328125 -1.421875 30.609375 -1.421875 \r\nQ 18.84375 -1.421875 12.171875 6.21875 \r\nQ 5.515625 13.875 5.515625 27.296875 \r\nQ 5.515625 40.765625 12.171875 48.375 \r\nQ 18.84375 56 30.609375 56 \r\nz\r\n\" id=\"DejaVuSans-111\"/>\r\n       <path d=\"M 37.109375 75.984375 \r\nL 37.109375 68.5 \r\nL 28.515625 68.5 \r\nQ 23.6875 68.5 21.796875 66.546875 \r\nQ 19.921875 64.59375 19.921875 59.515625 \r\nL 19.921875 54.6875 \r\nL 34.71875 54.6875 \r\nL 34.71875 47.703125 \r\nL 19.921875 47.703125 \r\nL 19.921875 0 \r\nL 10.890625 0 \r\nL 10.890625 47.703125 \r\nL 2.296875 47.703125 \r\nL 2.296875 54.6875 \r\nL 10.890625 54.6875 \r\nL 10.890625 58.5 \r\nQ 10.890625 67.625 15.140625 71.796875 \r\nQ 19.390625 75.984375 28.609375 75.984375 \r\nz\r\n\" id=\"DejaVuSans-102\"/>\r\n       <path d=\"M 54.890625 33.015625 \r\nL 54.890625 0 \r\nL 45.90625 0 \r\nL 45.90625 32.71875 \r\nQ 45.90625 40.484375 42.875 44.328125 \r\nQ 39.84375 48.1875 33.796875 48.1875 \r\nQ 26.515625 48.1875 22.3125 43.546875 \r\nQ 18.109375 38.921875 18.109375 30.90625 \r\nL 18.109375 0 \r\nL 9.078125 0 \r\nL 9.078125 54.6875 \r\nL 18.109375 54.6875 \r\nL 18.109375 46.1875 \r\nQ 21.34375 51.125 25.703125 53.5625 \r\nQ 30.078125 56 35.796875 56 \r\nQ 45.21875 56 50.046875 50.171875 \r\nQ 54.890625 44.34375 54.890625 33.015625 \r\nz\r\n\" id=\"DejaVuSans-110\"/>\r\n       <path d=\"M 45.40625 46.390625 \r\nL 45.40625 75.984375 \r\nL 54.390625 75.984375 \r\nL 54.390625 0 \r\nL 45.40625 0 \r\nL 45.40625 8.203125 \r\nQ 42.578125 3.328125 38.25 0.953125 \r\nQ 33.9375 -1.421875 27.875 -1.421875 \r\nQ 17.96875 -1.421875 11.734375 6.484375 \r\nQ 5.515625 14.40625 5.515625 27.296875 \r\nQ 5.515625 40.1875 11.734375 48.09375 \r\nQ 17.96875 56 27.875 56 \r\nQ 33.9375 56 38.25 53.625 \r\nQ 42.578125 51.265625 45.40625 46.390625 \r\nz\r\nM 14.796875 27.296875 \r\nQ 14.796875 17.390625 18.875 11.75 \r\nQ 22.953125 6.109375 30.078125 6.109375 \r\nQ 37.203125 6.109375 41.296875 11.75 \r\nQ 45.40625 17.390625 45.40625 27.296875 \r\nQ 45.40625 37.203125 41.296875 42.84375 \r\nQ 37.203125 48.484375 30.078125 48.484375 \r\nQ 22.953125 48.484375 18.875 42.84375 \r\nQ 14.796875 37.203125 14.796875 27.296875 \r\nz\r\n\" id=\"DejaVuSans-100\"/>\r\n       <path d=\"M 44.28125 53.078125 \r\nL 44.28125 44.578125 \r\nQ 40.484375 46.53125 36.375 47.5 \r\nQ 32.28125 48.484375 27.875 48.484375 \r\nQ 21.1875 48.484375 17.84375 46.4375 \r\nQ 14.5 44.390625 14.5 40.28125 \r\nQ 14.5 37.15625 16.890625 35.375 \r\nQ 19.28125 33.59375 26.515625 31.984375 \r\nL 29.59375 31.296875 \r\nQ 39.15625 29.25 43.1875 25.515625 \r\nQ 47.21875 21.78125 47.21875 15.09375 \r\nQ 47.21875 7.46875 41.1875 3.015625 \r\nQ 35.15625 -1.421875 24.609375 -1.421875 \r\nQ 20.21875 -1.421875 15.453125 -0.5625 \r\nQ 10.6875 0.296875 5.421875 2 \r\nL 5.421875 11.28125 \r\nQ 10.40625 8.6875 15.234375 7.390625 \r\nQ 20.0625 6.109375 24.8125 6.109375 \r\nQ 31.15625 6.109375 34.5625 8.28125 \r\nQ 37.984375 10.453125 37.984375 14.40625 \r\nQ 37.984375 18.0625 35.515625 20.015625 \r\nQ 33.0625 21.96875 24.703125 23.78125 \r\nL 21.578125 24.515625 \r\nQ 13.234375 26.265625 9.515625 29.90625 \r\nQ 5.8125 33.546875 5.8125 39.890625 \r\nQ 5.8125 47.609375 11.28125 51.796875 \r\nQ 16.75 56 26.8125 56 \r\nQ 31.78125 56 36.171875 55.265625 \r\nQ 40.578125 54.546875 44.28125 53.078125 \r\nz\r\n\" id=\"DejaVuSans-115\"/>\r\n      </defs>\r\n      <use xlink:href=\"#DejaVuSans-78\"/>\r\n      <use x=\"74.804688\" xlink:href=\"#DejaVuSans-117\"/>\r\n      <use x=\"138.183594\" xlink:href=\"#DejaVuSans-109\"/>\r\n      <use x=\"235.595703\" xlink:href=\"#DejaVuSans-98\"/>\r\n      <use x=\"299.072266\" xlink:href=\"#DejaVuSans-101\"/>\r\n      <use x=\"360.595703\" xlink:href=\"#DejaVuSans-114\"/>\r\n      <use x=\"401.708984\" xlink:href=\"#DejaVuSans-32\"/>\r\n      <use x=\"433.496094\" xlink:href=\"#DejaVuSans-111\"/>\r\n      <use x=\"494.677734\" xlink:href=\"#DejaVuSans-102\"/>\r\n      <use x=\"529.882812\" xlink:href=\"#DejaVuSans-32\"/>\r\n      <use x=\"561.669922\" xlink:href=\"#DejaVuSans-110\"/>\r\n      <use x=\"625.048828\" xlink:href=\"#DejaVuSans-111\"/>\r\n      <use x=\"686.230469\" xlink:href=\"#DejaVuSans-100\"/>\r\n      <use x=\"749.707031\" xlink:href=\"#DejaVuSans-101\"/>\r\n      <use x=\"811.230469\" xlink:href=\"#DejaVuSans-115\"/>\r\n     </g>\r\n    </g>\r\n   </g>\r\n   <g id=\"matplotlib.axis_2\">\r\n    <g id=\"ytick_1\">\r\n     <g id=\"line2d_7\">\r\n      <defs>\r\n       <path d=\"M 0 0 \r\nL -3.5 0 \r\n\" id=\"m1872044d70\" style=\"stroke:#000000;stroke-width:0.8;\"/>\r\n      </defs>\r\n      <g>\r\n       <use style=\"stroke:#000000;stroke-width:0.8;\" x=\"50.14375\" xlink:href=\"#m1872044d70\" y=\"229.874489\"/>\r\n      </g>\r\n     </g>\r\n     <g id=\"text_8\">\r\n      <!-- 0.00 -->\r\n      <g transform=\"translate(20.878125 233.673707)scale(0.1 -0.1)\">\r\n       <defs>\r\n        <path d=\"M 10.6875 12.40625 \r\nL 21 12.40625 \r\nL 21 0 \r\nL 10.6875 0 \r\nz\r\n\" id=\"DejaVuSans-46\"/>\r\n       </defs>\r\n       <use xlink:href=\"#DejaVuSans-48\"/>\r\n       <use x=\"63.623047\" xlink:href=\"#DejaVuSans-46\"/>\r\n       <use x=\"95.410156\" xlink:href=\"#DejaVuSans-48\"/>\r\n       <use x=\"159.033203\" xlink:href=\"#DejaVuSans-48\"/>\r\n      </g>\r\n     </g>\r\n    </g>\r\n    <g id=\"ytick_2\">\r\n     <g id=\"line2d_8\">\r\n      <g>\r\n       <use style=\"stroke:#000000;stroke-width:0.8;\" x=\"50.14375\" xlink:href=\"#m1872044d70\" y=\"203.161958\"/>\r\n      </g>\r\n     </g>\r\n     <g id=\"text_9\">\r\n      <!-- 0.01 -->\r\n      <g transform=\"translate(20.878125 206.961177)scale(0.1 -0.1)\">\r\n       <use xlink:href=\"#DejaVuSans-48\"/>\r\n       <use x=\"63.623047\" xlink:href=\"#DejaVuSans-46\"/>\r\n       <use x=\"95.410156\" xlink:href=\"#DejaVuSans-48\"/>\r\n       <use x=\"159.033203\" xlink:href=\"#DejaVuSans-49\"/>\r\n      </g>\r\n     </g>\r\n    </g>\r\n    <g id=\"ytick_3\">\r\n     <g id=\"line2d_9\">\r\n      <g>\r\n       <use style=\"stroke:#000000;stroke-width:0.8;\" x=\"50.14375\" xlink:href=\"#m1872044d70\" y=\"176.449427\"/>\r\n      </g>\r\n     </g>\r\n     <g id=\"text_10\">\r\n      <!-- 0.02 -->\r\n      <g transform=\"translate(20.878125 180.248646)scale(0.1 -0.1)\">\r\n       <use xlink:href=\"#DejaVuSans-48\"/>\r\n       <use x=\"63.623047\" xlink:href=\"#DejaVuSans-46\"/>\r\n       <use x=\"95.410156\" xlink:href=\"#DejaVuSans-48\"/>\r\n       <use x=\"159.033203\" xlink:href=\"#DejaVuSans-50\"/>\r\n      </g>\r\n     </g>\r\n    </g>\r\n    <g id=\"ytick_4\">\r\n     <g id=\"line2d_10\">\r\n      <g>\r\n       <use style=\"stroke:#000000;stroke-width:0.8;\" x=\"50.14375\" xlink:href=\"#m1872044d70\" y=\"149.736896\"/>\r\n      </g>\r\n     </g>\r\n     <g id=\"text_11\">\r\n      <!-- 0.03 -->\r\n      <g transform=\"translate(20.878125 153.536115)scale(0.1 -0.1)\">\r\n       <defs>\r\n        <path d=\"M 40.578125 39.3125 \r\nQ 47.65625 37.796875 51.625 33 \r\nQ 55.609375 28.21875 55.609375 21.1875 \r\nQ 55.609375 10.40625 48.1875 4.484375 \r\nQ 40.765625 -1.421875 27.09375 -1.421875 \r\nQ 22.515625 -1.421875 17.65625 -0.515625 \r\nQ 12.796875 0.390625 7.625 2.203125 \r\nL 7.625 11.71875 \r\nQ 11.71875 9.328125 16.59375 8.109375 \r\nQ 21.484375 6.890625 26.8125 6.890625 \r\nQ 36.078125 6.890625 40.9375 10.546875 \r\nQ 45.796875 14.203125 45.796875 21.1875 \r\nQ 45.796875 27.640625 41.28125 31.265625 \r\nQ 36.765625 34.90625 28.71875 34.90625 \r\nL 20.21875 34.90625 \r\nL 20.21875 43.015625 \r\nL 29.109375 43.015625 \r\nQ 36.375 43.015625 40.234375 45.921875 \r\nQ 44.09375 48.828125 44.09375 54.296875 \r\nQ 44.09375 59.90625 40.109375 62.90625 \r\nQ 36.140625 65.921875 28.71875 65.921875 \r\nQ 24.65625 65.921875 20.015625 65.03125 \r\nQ 15.375 64.15625 9.8125 62.3125 \r\nL 9.8125 71.09375 \r\nQ 15.4375 72.65625 20.34375 73.4375 \r\nQ 25.25 74.21875 29.59375 74.21875 \r\nQ 40.828125 74.21875 47.359375 69.109375 \r\nQ 53.90625 64.015625 53.90625 55.328125 \r\nQ 53.90625 49.265625 50.4375 45.09375 \r\nQ 46.96875 40.921875 40.578125 39.3125 \r\nz\r\n\" id=\"DejaVuSans-51\"/>\r\n       </defs>\r\n       <use xlink:href=\"#DejaVuSans-48\"/>\r\n       <use x=\"63.623047\" xlink:href=\"#DejaVuSans-46\"/>\r\n       <use x=\"95.410156\" xlink:href=\"#DejaVuSans-48\"/>\r\n       <use x=\"159.033203\" xlink:href=\"#DejaVuSans-51\"/>\r\n      </g>\r\n     </g>\r\n    </g>\r\n    <g id=\"ytick_5\">\r\n     <g id=\"line2d_11\">\r\n      <g>\r\n       <use style=\"stroke:#000000;stroke-width:0.8;\" x=\"50.14375\" xlink:href=\"#m1872044d70\" y=\"123.024366\"/>\r\n      </g>\r\n     </g>\r\n     <g id=\"text_12\">\r\n      <!-- 0.04 -->\r\n      <g transform=\"translate(20.878125 126.823585)scale(0.1 -0.1)\">\r\n       <use xlink:href=\"#DejaVuSans-48\"/>\r\n       <use x=\"63.623047\" xlink:href=\"#DejaVuSans-46\"/>\r\n       <use x=\"95.410156\" xlink:href=\"#DejaVuSans-48\"/>\r\n       <use x=\"159.033203\" xlink:href=\"#DejaVuSans-52\"/>\r\n      </g>\r\n     </g>\r\n    </g>\r\n    <g id=\"ytick_6\">\r\n     <g id=\"line2d_12\">\r\n      <g>\r\n       <use style=\"stroke:#000000;stroke-width:0.8;\" x=\"50.14375\" xlink:href=\"#m1872044d70\" y=\"96.311835\"/>\r\n      </g>\r\n     </g>\r\n     <g id=\"text_13\">\r\n      <!-- 0.05 -->\r\n      <g transform=\"translate(20.878125 100.111054)scale(0.1 -0.1)\">\r\n       <defs>\r\n        <path d=\"M 10.796875 72.90625 \r\nL 49.515625 72.90625 \r\nL 49.515625 64.59375 \r\nL 19.828125 64.59375 \r\nL 19.828125 46.734375 \r\nQ 21.96875 47.46875 24.109375 47.828125 \r\nQ 26.265625 48.1875 28.421875 48.1875 \r\nQ 40.625 48.1875 47.75 41.5 \r\nQ 54.890625 34.8125 54.890625 23.390625 \r\nQ 54.890625 11.625 47.5625 5.09375 \r\nQ 40.234375 -1.421875 26.90625 -1.421875 \r\nQ 22.3125 -1.421875 17.546875 -0.640625 \r\nQ 12.796875 0.140625 7.71875 1.703125 \r\nL 7.71875 11.625 \r\nQ 12.109375 9.234375 16.796875 8.0625 \r\nQ 21.484375 6.890625 26.703125 6.890625 \r\nQ 35.15625 6.890625 40.078125 11.328125 \r\nQ 45.015625 15.765625 45.015625 23.390625 \r\nQ 45.015625 31 40.078125 35.4375 \r\nQ 35.15625 39.890625 26.703125 39.890625 \r\nQ 22.75 39.890625 18.8125 39.015625 \r\nQ 14.890625 38.140625 10.796875 36.28125 \r\nz\r\n\" id=\"DejaVuSans-53\"/>\r\n       </defs>\r\n       <use xlink:href=\"#DejaVuSans-48\"/>\r\n       <use x=\"63.623047\" xlink:href=\"#DejaVuSans-46\"/>\r\n       <use x=\"95.410156\" xlink:href=\"#DejaVuSans-48\"/>\r\n       <use x=\"159.033203\" xlink:href=\"#DejaVuSans-53\"/>\r\n      </g>\r\n     </g>\r\n    </g>\r\n    <g id=\"ytick_7\">\r\n     <g id=\"line2d_13\">\r\n      <g>\r\n       <use style=\"stroke:#000000;stroke-width:0.8;\" x=\"50.14375\" xlink:href=\"#m1872044d70\" y=\"69.599304\"/>\r\n      </g>\r\n     </g>\r\n     <g id=\"text_14\">\r\n      <!-- 0.06 -->\r\n      <g transform=\"translate(20.878125 73.398523)scale(0.1 -0.1)\">\r\n       <use xlink:href=\"#DejaVuSans-48\"/>\r\n       <use x=\"63.623047\" xlink:href=\"#DejaVuSans-46\"/>\r\n       <use x=\"95.410156\" xlink:href=\"#DejaVuSans-48\"/>\r\n       <use x=\"159.033203\" xlink:href=\"#DejaVuSans-54\"/>\r\n      </g>\r\n     </g>\r\n    </g>\r\n    <g id=\"ytick_8\">\r\n     <g id=\"line2d_14\">\r\n      <g>\r\n       <use style=\"stroke:#000000;stroke-width:0.8;\" x=\"50.14375\" xlink:href=\"#m1872044d70\" y=\"42.886774\"/>\r\n      </g>\r\n     </g>\r\n     <g id=\"text_15\">\r\n      <!-- 0.07 -->\r\n      <g transform=\"translate(20.878125 46.685992)scale(0.1 -0.1)\">\r\n       <defs>\r\n        <path d=\"M 8.203125 72.90625 \r\nL 55.078125 72.90625 \r\nL 55.078125 68.703125 \r\nL 28.609375 0 \r\nL 18.3125 0 \r\nL 43.21875 64.59375 \r\nL 8.203125 64.59375 \r\nz\r\n\" id=\"DejaVuSans-55\"/>\r\n       </defs>\r\n       <use xlink:href=\"#DejaVuSans-48\"/>\r\n       <use x=\"63.623047\" xlink:href=\"#DejaVuSans-46\"/>\r\n       <use x=\"95.410156\" xlink:href=\"#DejaVuSans-48\"/>\r\n       <use x=\"159.033203\" xlink:href=\"#DejaVuSans-55\"/>\r\n      </g>\r\n     </g>\r\n    </g>\r\n    <g id=\"text_16\">\r\n     <!-- Power -->\r\n     <g transform=\"translate(14.798438 146.152187)rotate(-90)scale(0.1 -0.1)\">\r\n      <defs>\r\n       <path d=\"M 19.671875 64.796875 \r\nL 19.671875 37.40625 \r\nL 32.078125 37.40625 \r\nQ 38.96875 37.40625 42.71875 40.96875 \r\nQ 46.484375 44.53125 46.484375 51.125 \r\nQ 46.484375 57.671875 42.71875 61.234375 \r\nQ 38.96875 64.796875 32.078125 64.796875 \r\nz\r\nM 9.8125 72.90625 \r\nL 32.078125 72.90625 \r\nQ 44.34375 72.90625 50.609375 67.359375 \r\nQ 56.890625 61.8125 56.890625 51.125 \r\nQ 56.890625 40.328125 50.609375 34.8125 \r\nQ 44.34375 29.296875 32.078125 29.296875 \r\nL 19.671875 29.296875 \r\nL 19.671875 0 \r\nL 9.8125 0 \r\nz\r\n\" id=\"DejaVuSans-80\"/>\r\n       <path d=\"M 4.203125 54.6875 \r\nL 13.1875 54.6875 \r\nL 24.421875 12.015625 \r\nL 35.59375 54.6875 \r\nL 46.1875 54.6875 \r\nL 57.421875 12.015625 \r\nL 68.609375 54.6875 \r\nL 77.59375 54.6875 \r\nL 63.28125 0 \r\nL 52.6875 0 \r\nL 40.921875 44.828125 \r\nL 29.109375 0 \r\nL 18.5 0 \r\nz\r\n\" id=\"DejaVuSans-119\"/>\r\n      </defs>\r\n      <use xlink:href=\"#DejaVuSans-80\"/>\r\n      <use x=\"56.677734\" xlink:href=\"#DejaVuSans-111\"/>\r\n      <use x=\"117.859375\" xlink:href=\"#DejaVuSans-119\"/>\r\n      <use x=\"199.646484\" xlink:href=\"#DejaVuSans-101\"/>\r\n      <use x=\"261.169922\" xlink:href=\"#DejaVuSans-114\"/>\r\n     </g>\r\n    </g>\r\n   </g>\r\n   <g id=\"line2d_15\">\r\n    <defs>\r\n     <path d=\"M 0 3 \r\nC 0.795609 3 1.55874 2.683901 2.12132 2.12132 \r\nC 2.683901 1.55874 3 0.795609 3 0 \r\nC 3 -0.795609 2.683901 -1.55874 2.12132 -2.12132 \r\nC 1.55874 -2.683901 0.795609 -3 0 -3 \r\nC -0.795609 -3 -1.55874 -2.683901 -2.12132 -2.12132 \r\nC -2.683901 -1.55874 -3 -0.795609 -3 0 \r\nC -3 0.795609 -2.683901 1.55874 -2.12132 2.12132 \r\nC -1.55874 2.683901 -0.795609 3 0 3 \r\nz\r\n\" id=\"ma1c029d2a3\" style=\"stroke:#1f77b4;\"/>\r\n    </defs>\r\n    <g clip-path=\"url(#p476e8acdd3)\">\r\n     <use style=\"fill:#1f77b4;stroke:#1f77b4;\" x=\"65.361932\" xlink:href=\"#ma1c029d2a3\" y=\"80.284317\"/>\r\n     <use style=\"fill:#1f77b4;stroke:#1f77b4;\" x=\"69.973502\" xlink:href=\"#ma1c029d2a3\" y=\"37.544268\"/>\r\n     <use style=\"fill:#1f77b4;stroke:#1f77b4;\" x=\"77.659452\" xlink:href=\"#ma1c029d2a3\" y=\"128.366872\"/>\r\n     <use style=\"fill:#1f77b4;stroke:#1f77b4;\" x=\"85.345403\" xlink:href=\"#ma1c029d2a3\" y=\"85.626823\"/>\r\n     <use style=\"fill:#1f77b4;stroke:#1f77b4;\" x=\"93.031353\" xlink:href=\"#ma1c029d2a3\" y=\"133.709378\"/>\r\n     <use style=\"fill:#1f77b4;stroke:#1f77b4;\" x=\"123.775155\" xlink:href=\"#ma1c029d2a3\" y=\"90.969329\"/>\r\n     <use style=\"fill:#1f77b4;stroke:#1f77b4;\" x=\"216.00656\" xlink:href=\"#ma1c029d2a3\" y=\"149.736896\"/>\r\n     <use style=\"fill:#1f77b4;stroke:#1f77b4;\" x=\"369.725568\" xlink:href=\"#ma1c029d2a3\" y=\"139.051884\"/>\r\n    </g>\r\n   </g>\r\n   <g id=\"line2d_16\">\r\n    <defs>\r\n     <path d=\"M -3 3 \r\nL 3 -3 \r\nM -3 -3 \r\nL 3 3 \r\n\" id=\"m59c72a4afe\" style=\"stroke:#ff7f0e;\"/>\r\n    </defs>\r\n    <g clip-path=\"url(#p476e8acdd3)\">\r\n     <use style=\"fill:#ff7f0e;stroke:#ff7f0e;\" x=\"65.361932\" xlink:href=\"#m59c72a4afe\" y=\"85.626823\"/>\r\n     <use style=\"fill:#ff7f0e;stroke:#ff7f0e;\" x=\"69.973502\" xlink:href=\"#m59c72a4afe\" y=\"32.201761\"/>\r\n     <use style=\"fill:#ff7f0e;stroke:#ff7f0e;\" x=\"77.659452\" xlink:href=\"#m59c72a4afe\" y=\"128.366872\"/>\r\n     <use style=\"fill:#ff7f0e;stroke:#ff7f0e;\" x=\"85.345403\" xlink:href=\"#m59c72a4afe\" y=\"85.626823\"/>\r\n     <use style=\"fill:#ff7f0e;stroke:#ff7f0e;\" x=\"93.031353\" xlink:href=\"#m59c72a4afe\" y=\"133.709378\"/>\r\n     <use style=\"fill:#ff7f0e;stroke:#ff7f0e;\" x=\"123.775155\" xlink:href=\"#m59c72a4afe\" y=\"90.969329\"/>\r\n     <use style=\"fill:#ff7f0e;stroke:#ff7f0e;\" x=\"216.00656\" xlink:href=\"#m59c72a4afe\" y=\"149.736896\"/>\r\n     <use style=\"fill:#ff7f0e;stroke:#ff7f0e;\" x=\"369.725568\" xlink:href=\"#m59c72a4afe\" y=\"139.051884\"/>\r\n    </g>\r\n   </g>\r\n   <g id=\"line2d_17\">\r\n    <defs>\r\n     <path d=\"M 0 -3 \r\nL -0.673542 -0.927051 \r\nL -2.85317 -0.927051 \r\nL -1.089814 0.354102 \r\nL -1.763356 2.427051 \r\nL -0 1.145898 \r\nL 1.763356 2.427051 \r\nL 1.089814 0.354102 \r\nL 2.85317 -0.927051 \r\nL 0.673542 -0.927051 \r\nz\r\n\" id=\"m09586ba3dd\" style=\"stroke:#2ca02c;stroke-linejoin:bevel;\"/>\r\n    </defs>\r\n    <g clip-path=\"url(#p476e8acdd3)\">\r\n     <use style=\"fill:#2ca02c;stroke:#2ca02c;stroke-linejoin:bevel;\" x=\"65.361932\" xlink:href=\"#m09586ba3dd\" y=\"229.874489\"/>\r\n     <use style=\"fill:#2ca02c;stroke:#2ca02c;stroke-linejoin:bevel;\" x=\"69.973502\" xlink:href=\"#m09586ba3dd\" y=\"229.874489\"/>\r\n     <use style=\"fill:#2ca02c;stroke:#2ca02c;stroke-linejoin:bevel;\" x=\"77.659452\" xlink:href=\"#m09586ba3dd\" y=\"229.874489\"/>\r\n     <use style=\"fill:#2ca02c;stroke:#2ca02c;stroke-linejoin:bevel;\" x=\"85.345403\" xlink:href=\"#m09586ba3dd\" y=\"229.874489\"/>\r\n     <use style=\"fill:#2ca02c;stroke:#2ca02c;stroke-linejoin:bevel;\" x=\"93.031353\" xlink:href=\"#m09586ba3dd\" y=\"229.874489\"/>\r\n     <use style=\"fill:#2ca02c;stroke:#2ca02c;stroke-linejoin:bevel;\" x=\"123.775155\" xlink:href=\"#m09586ba3dd\" y=\"229.874489\"/>\r\n     <use style=\"fill:#2ca02c;stroke:#2ca02c;stroke-linejoin:bevel;\" x=\"216.00656\" xlink:href=\"#m09586ba3dd\" y=\"229.874489\"/>\r\n     <use style=\"fill:#2ca02c;stroke:#2ca02c;stroke-linejoin:bevel;\" x=\"369.725568\" xlink:href=\"#m09586ba3dd\" y=\"229.874489\"/>\r\n    </g>\r\n   </g>\r\n   <g id=\"line2d_18\">\r\n    <defs>\r\n     <path d=\"M -3 0 \r\nL 3 0 \r\nM 0 3 \r\nL 0 -3 \r\n\" id=\"me20cd4e4db\" style=\"stroke:#d62728;\"/>\r\n    </defs>\r\n    <g clip-path=\"url(#p476e8acdd3)\">\r\n     <use style=\"fill:#d62728;stroke:#d62728;\" x=\"65.361932\" xlink:href=\"#me20cd4e4db\" y=\"229.874489\"/>\r\n     <use style=\"fill:#d62728;stroke:#d62728;\" x=\"69.973502\" xlink:href=\"#me20cd4e4db\" y=\"229.874489\"/>\r\n     <use style=\"fill:#d62728;stroke:#d62728;\" x=\"77.659452\" xlink:href=\"#me20cd4e4db\" y=\"229.874489\"/>\r\n     <use style=\"fill:#d62728;stroke:#d62728;\" x=\"85.345403\" xlink:href=\"#me20cd4e4db\" y=\"229.874489\"/>\r\n     <use style=\"fill:#d62728;stroke:#d62728;\" x=\"93.031353\" xlink:href=\"#me20cd4e4db\" y=\"229.874489\"/>\r\n     <use style=\"fill:#d62728;stroke:#d62728;\" x=\"123.775155\" xlink:href=\"#me20cd4e4db\" y=\"229.874489\"/>\r\n     <use style=\"fill:#d62728;stroke:#d62728;\" x=\"216.00656\" xlink:href=\"#me20cd4e4db\" y=\"229.874489\"/>\r\n     <use style=\"fill:#d62728;stroke:#d62728;\" x=\"369.725568\" xlink:href=\"#me20cd4e4db\" y=\"229.874489\"/>\r\n    </g>\r\n   </g>\r\n   <g id=\"patch_3\">\r\n    <path d=\"M 50.14375 239.758125 \r\nL 50.14375 22.318125 \r\n\" style=\"fill:none;stroke:#000000;stroke-linecap:square;stroke-linejoin:miter;stroke-width:0.8;\"/>\r\n   </g>\r\n   <g id=\"patch_4\">\r\n    <path d=\"M 384.94375 239.758125 \r\nL 384.94375 22.318125 \r\n\" style=\"fill:none;stroke:#000000;stroke-linecap:square;stroke-linejoin:miter;stroke-width:0.8;\"/>\r\n   </g>\r\n   <g id=\"patch_5\">\r\n    <path d=\"M 50.14375 239.758125 \r\nL 384.94375 239.758125 \r\n\" style=\"fill:none;stroke:#000000;stroke-linecap:square;stroke-linejoin:miter;stroke-width:0.8;\"/>\r\n   </g>\r\n   <g id=\"patch_6\">\r\n    <path d=\"M 50.14375 22.318125 \r\nL 384.94375 22.318125 \r\n\" style=\"fill:none;stroke:#000000;stroke-linecap:square;stroke-linejoin:miter;stroke-width:0.8;\"/>\r\n   </g>\r\n   <g id=\"text_17\">\r\n    <!-- Probability: 0.5 -->\r\n    <g transform=\"translate(172.794063 16.318125)scale(0.12 -0.12)\">\r\n     <defs>\r\n      <path d=\"M 34.28125 27.484375 \r\nQ 23.390625 27.484375 19.1875 25 \r\nQ 14.984375 22.515625 14.984375 16.5 \r\nQ 14.984375 11.71875 18.140625 8.90625 \r\nQ 21.296875 6.109375 26.703125 6.109375 \r\nQ 34.1875 6.109375 38.703125 11.40625 \r\nQ 43.21875 16.703125 43.21875 25.484375 \r\nL 43.21875 27.484375 \r\nz\r\nM 52.203125 31.203125 \r\nL 52.203125 0 \r\nL 43.21875 0 \r\nL 43.21875 8.296875 \r\nQ 40.140625 3.328125 35.546875 0.953125 \r\nQ 30.953125 -1.421875 24.3125 -1.421875 \r\nQ 15.921875 -1.421875 10.953125 3.296875 \r\nQ 6 8.015625 6 15.921875 \r\nQ 6 25.140625 12.171875 29.828125 \r\nQ 18.359375 34.515625 30.609375 34.515625 \r\nL 43.21875 34.515625 \r\nL 43.21875 35.40625 \r\nQ 43.21875 41.609375 39.140625 45 \r\nQ 35.0625 48.390625 27.6875 48.390625 \r\nQ 23 48.390625 18.546875 47.265625 \r\nQ 14.109375 46.140625 10.015625 43.890625 \r\nL 10.015625 52.203125 \r\nQ 14.9375 54.109375 19.578125 55.046875 \r\nQ 24.21875 56 28.609375 56 \r\nQ 40.484375 56 46.34375 49.84375 \r\nQ 52.203125 43.703125 52.203125 31.203125 \r\nz\r\n\" id=\"DejaVuSans-97\"/>\r\n      <path d=\"M 9.421875 54.6875 \r\nL 18.40625 54.6875 \r\nL 18.40625 0 \r\nL 9.421875 0 \r\nz\r\nM 9.421875 75.984375 \r\nL 18.40625 75.984375 \r\nL 18.40625 64.59375 \r\nL 9.421875 64.59375 \r\nz\r\n\" id=\"DejaVuSans-105\"/>\r\n      <path d=\"M 9.421875 75.984375 \r\nL 18.40625 75.984375 \r\nL 18.40625 0 \r\nL 9.421875 0 \r\nz\r\n\" id=\"DejaVuSans-108\"/>\r\n      <path d=\"M 18.3125 70.21875 \r\nL 18.3125 54.6875 \r\nL 36.8125 54.6875 \r\nL 36.8125 47.703125 \r\nL 18.3125 47.703125 \r\nL 18.3125 18.015625 \r\nQ 18.3125 11.328125 20.140625 9.421875 \r\nQ 21.96875 7.515625 27.59375 7.515625 \r\nL 36.8125 7.515625 \r\nL 36.8125 0 \r\nL 27.59375 0 \r\nQ 17.1875 0 13.234375 3.875 \r\nQ 9.28125 7.765625 9.28125 18.015625 \r\nL 9.28125 47.703125 \r\nL 2.6875 47.703125 \r\nL 2.6875 54.6875 \r\nL 9.28125 54.6875 \r\nL 9.28125 70.21875 \r\nz\r\n\" id=\"DejaVuSans-116\"/>\r\n      <path d=\"M 32.171875 -5.078125 \r\nQ 28.375 -14.84375 24.75 -17.8125 \r\nQ 21.140625 -20.796875 15.09375 -20.796875 \r\nL 7.90625 -20.796875 \r\nL 7.90625 -13.28125 \r\nL 13.1875 -13.28125 \r\nQ 16.890625 -13.28125 18.9375 -11.515625 \r\nQ 21 -9.765625 23.484375 -3.21875 \r\nL 25.09375 0.875 \r\nL 2.984375 54.6875 \r\nL 12.5 54.6875 \r\nL 29.59375 11.921875 \r\nL 46.6875 54.6875 \r\nL 56.203125 54.6875 \r\nz\r\n\" id=\"DejaVuSans-121\"/>\r\n      <path d=\"M 11.71875 12.40625 \r\nL 22.015625 12.40625 \r\nL 22.015625 0 \r\nL 11.71875 0 \r\nz\r\nM 11.71875 51.703125 \r\nL 22.015625 51.703125 \r\nL 22.015625 39.3125 \r\nL 11.71875 39.3125 \r\nz\r\n\" id=\"DejaVuSans-58\"/>\r\n     </defs>\r\n     <use xlink:href=\"#DejaVuSans-80\"/>\r\n     <use x=\"58.552734\" xlink:href=\"#DejaVuSans-114\"/>\r\n     <use x=\"97.416016\" xlink:href=\"#DejaVuSans-111\"/>\r\n     <use x=\"158.597656\" xlink:href=\"#DejaVuSans-98\"/>\r\n     <use x=\"222.074219\" xlink:href=\"#DejaVuSans-97\"/>\r\n     <use x=\"283.353516\" xlink:href=\"#DejaVuSans-98\"/>\r\n     <use x=\"346.830078\" xlink:href=\"#DejaVuSans-105\"/>\r\n     <use x=\"374.613281\" xlink:href=\"#DejaVuSans-108\"/>\r\n     <use x=\"402.396484\" xlink:href=\"#DejaVuSans-105\"/>\r\n     <use x=\"430.179688\" xlink:href=\"#DejaVuSans-116\"/>\r\n     <use x=\"469.388672\" xlink:href=\"#DejaVuSans-121\"/>\r\n     <use x=\"521.318359\" xlink:href=\"#DejaVuSans-58\"/>\r\n     <use x=\"555.009766\" xlink:href=\"#DejaVuSans-32\"/>\r\n     <use x=\"586.796875\" xlink:href=\"#DejaVuSans-48\"/>\r\n     <use x=\"650.419922\" xlink:href=\"#DejaVuSans-46\"/>\r\n     <use x=\"682.207031\" xlink:href=\"#DejaVuSans-53\"/>\r\n    </g>\r\n   </g>\r\n   <g id=\"legend_1\">\r\n    <g id=\"patch_7\">\r\n     <path d=\"M 241.4 104.82125 \r\nL 377.94375 104.82125 \r\nQ 379.94375 104.82125 379.94375 102.82125 \r\nL 379.94375 29.318125 \r\nQ 379.94375 27.318125 377.94375 27.318125 \r\nL 241.4 27.318125 \r\nQ 239.4 27.318125 239.4 29.318125 \r\nL 239.4 102.82125 \r\nQ 239.4 104.82125 241.4 104.82125 \r\nz\r\n\" style=\"fill:#ffffff;opacity:0.8;stroke:#cccccc;stroke-linejoin:miter;\"/>\r\n    </g>\r\n    <g id=\"text_18\">\r\n     <!-- kernel -->\r\n     <g transform=\"translate(294.278906 38.916562)scale(0.1 -0.1)\">\r\n      <defs>\r\n       <path d=\"M 9.078125 75.984375 \r\nL 18.109375 75.984375 \r\nL 18.109375 31.109375 \r\nL 44.921875 54.6875 \r\nL 56.390625 54.6875 \r\nL 27.390625 29.109375 \r\nL 57.625 0 \r\nL 45.90625 0 \r\nL 18.109375 26.703125 \r\nL 18.109375 0 \r\nL 9.078125 0 \r\nz\r\n\" id=\"DejaVuSans-107\"/>\r\n      </defs>\r\n      <use xlink:href=\"#DejaVuSans-107\"/>\r\n      <use x=\"54.285156\" xlink:href=\"#DejaVuSans-101\"/>\r\n      <use x=\"115.808594\" xlink:href=\"#DejaVuSans-114\"/>\r\n      <use x=\"155.171875\" xlink:href=\"#DejaVuSans-110\"/>\r\n      <use x=\"218.550781\" xlink:href=\"#DejaVuSans-101\"/>\r\n      <use x=\"280.074219\" xlink:href=\"#DejaVuSans-108\"/>\r\n     </g>\r\n    </g>\r\n    <g id=\"line2d_19\"/>\r\n    <g id=\"line2d_20\">\r\n     <g>\r\n      <use style=\"fill:#1f77b4;stroke:#1f77b4;\" x=\"253.4\" xlink:href=\"#ma1c029d2a3\" y=\"50.094687\"/>\r\n     </g>\r\n    </g>\r\n    <g id=\"text_19\">\r\n     <!-- rejections_b -->\r\n     <g transform=\"translate(271.4 53.594687)scale(0.1 -0.1)\">\r\n      <defs>\r\n       <path d=\"M 9.421875 54.6875 \r\nL 18.40625 54.6875 \r\nL 18.40625 -0.984375 \r\nQ 18.40625 -11.421875 14.421875 -16.109375 \r\nQ 10.453125 -20.796875 1.609375 -20.796875 \r\nL -1.8125 -20.796875 \r\nL -1.8125 -13.1875 \r\nL 0.59375 -13.1875 \r\nQ 5.71875 -13.1875 7.5625 -10.8125 \r\nQ 9.421875 -8.453125 9.421875 -0.984375 \r\nz\r\nM 9.421875 75.984375 \r\nL 18.40625 75.984375 \r\nL 18.40625 64.59375 \r\nL 9.421875 64.59375 \r\nz\r\n\" id=\"DejaVuSans-106\"/>\r\n       <path d=\"M 48.78125 52.59375 \r\nL 48.78125 44.1875 \r\nQ 44.96875 46.296875 41.140625 47.34375 \r\nQ 37.3125 48.390625 33.40625 48.390625 \r\nQ 24.65625 48.390625 19.8125 42.84375 \r\nQ 14.984375 37.3125 14.984375 27.296875 \r\nQ 14.984375 17.28125 19.8125 11.734375 \r\nQ 24.65625 6.203125 33.40625 6.203125 \r\nQ 37.3125 6.203125 41.140625 7.25 \r\nQ 44.96875 8.296875 48.78125 10.40625 \r\nL 48.78125 2.09375 \r\nQ 45.015625 0.34375 40.984375 -0.53125 \r\nQ 36.96875 -1.421875 32.421875 -1.421875 \r\nQ 20.0625 -1.421875 12.78125 6.34375 \r\nQ 5.515625 14.109375 5.515625 27.296875 \r\nQ 5.515625 40.671875 12.859375 48.328125 \r\nQ 20.21875 56 33.015625 56 \r\nQ 37.15625 56 41.109375 55.140625 \r\nQ 45.0625 54.296875 48.78125 52.59375 \r\nz\r\n\" id=\"DejaVuSans-99\"/>\r\n       <path d=\"M 50.984375 -16.609375 \r\nL 50.984375 -23.578125 \r\nL -0.984375 -23.578125 \r\nL -0.984375 -16.609375 \r\nz\r\n\" id=\"DejaVuSans-95\"/>\r\n      </defs>\r\n      <use xlink:href=\"#DejaVuSans-114\"/>\r\n      <use x=\"38.863281\" xlink:href=\"#DejaVuSans-101\"/>\r\n      <use x=\"100.386719\" xlink:href=\"#DejaVuSans-106\"/>\r\n      <use x=\"128.169922\" xlink:href=\"#DejaVuSans-101\"/>\r\n      <use x=\"189.693359\" xlink:href=\"#DejaVuSans-99\"/>\r\n      <use x=\"244.673828\" xlink:href=\"#DejaVuSans-116\"/>\r\n      <use x=\"283.882812\" xlink:href=\"#DejaVuSans-105\"/>\r\n      <use x=\"311.666016\" xlink:href=\"#DejaVuSans-111\"/>\r\n      <use x=\"372.847656\" xlink:href=\"#DejaVuSans-110\"/>\r\n      <use x=\"436.226562\" xlink:href=\"#DejaVuSans-115\"/>\r\n      <use x=\"488.326172\" xlink:href=\"#DejaVuSans-95\"/>\r\n      <use x=\"538.326172\" xlink:href=\"#DejaVuSans-98\"/>\r\n     </g>\r\n    </g>\r\n    <g id=\"line2d_21\"/>\r\n    <g id=\"line2d_22\">\r\n     <g>\r\n      <use style=\"fill:#ff7f0e;stroke:#ff7f0e;\" x=\"253.4\" xlink:href=\"#m59c72a4afe\" y=\"65.050937\"/>\r\n     </g>\r\n    </g>\r\n    <g id=\"text_20\">\r\n     <!-- rejections_u -->\r\n     <g transform=\"translate(271.4 68.550937)scale(0.1 -0.1)\">\r\n      <use xlink:href=\"#DejaVuSans-114\"/>\r\n      <use x=\"38.863281\" xlink:href=\"#DejaVuSans-101\"/>\r\n      <use x=\"100.386719\" xlink:href=\"#DejaVuSans-106\"/>\r\n      <use x=\"128.169922\" xlink:href=\"#DejaVuSans-101\"/>\r\n      <use x=\"189.693359\" xlink:href=\"#DejaVuSans-99\"/>\r\n      <use x=\"244.673828\" xlink:href=\"#DejaVuSans-116\"/>\r\n      <use x=\"283.882812\" xlink:href=\"#DejaVuSans-105\"/>\r\n      <use x=\"311.666016\" xlink:href=\"#DejaVuSans-111\"/>\r\n      <use x=\"372.847656\" xlink:href=\"#DejaVuSans-110\"/>\r\n      <use x=\"436.226562\" xlink:href=\"#DejaVuSans-115\"/>\r\n      <use x=\"488.326172\" xlink:href=\"#DejaVuSans-95\"/>\r\n      <use x=\"538.326172\" xlink:href=\"#DejaVuSans-117\"/>\r\n     </g>\r\n    </g>\r\n    <g id=\"line2d_23\"/>\r\n    <g id=\"line2d_24\">\r\n     <g>\r\n      <use style=\"fill:#2ca02c;stroke:#2ca02c;stroke-linejoin:bevel;\" x=\"253.4\" xlink:href=\"#m09586ba3dd\" y=\"80.007187\"/>\r\n     </g>\r\n    </g>\r\n    <g id=\"text_21\">\r\n     <!-- rejections_statistic_b -->\r\n     <g transform=\"translate(271.4 83.507187)scale(0.1 -0.1)\">\r\n      <use xlink:href=\"#DejaVuSans-114\"/>\r\n      <use x=\"38.863281\" xlink:href=\"#DejaVuSans-101\"/>\r\n      <use x=\"100.386719\" xlink:href=\"#DejaVuSans-106\"/>\r\n      <use x=\"128.169922\" xlink:href=\"#DejaVuSans-101\"/>\r\n      <use x=\"189.693359\" xlink:href=\"#DejaVuSans-99\"/>\r\n      <use x=\"244.673828\" xlink:href=\"#DejaVuSans-116\"/>\r\n      <use x=\"283.882812\" xlink:href=\"#DejaVuSans-105\"/>\r\n      <use x=\"311.666016\" xlink:href=\"#DejaVuSans-111\"/>\r\n      <use x=\"372.847656\" xlink:href=\"#DejaVuSans-110\"/>\r\n      <use x=\"436.226562\" xlink:href=\"#DejaVuSans-115\"/>\r\n      <use x=\"488.326172\" xlink:href=\"#DejaVuSans-95\"/>\r\n      <use x=\"538.326172\" xlink:href=\"#DejaVuSans-115\"/>\r\n      <use x=\"590.425781\" xlink:href=\"#DejaVuSans-116\"/>\r\n      <use x=\"629.634766\" xlink:href=\"#DejaVuSans-97\"/>\r\n      <use x=\"690.914062\" xlink:href=\"#DejaVuSans-116\"/>\r\n      <use x=\"730.123047\" xlink:href=\"#DejaVuSans-105\"/>\r\n      <use x=\"757.90625\" xlink:href=\"#DejaVuSans-115\"/>\r\n      <use x=\"810.005859\" xlink:href=\"#DejaVuSans-116\"/>\r\n      <use x=\"849.214844\" xlink:href=\"#DejaVuSans-105\"/>\r\n      <use x=\"876.998047\" xlink:href=\"#DejaVuSans-99\"/>\r\n      <use x=\"931.978516\" xlink:href=\"#DejaVuSans-95\"/>\r\n      <use x=\"981.978516\" xlink:href=\"#DejaVuSans-98\"/>\r\n     </g>\r\n    </g>\r\n    <g id=\"line2d_25\"/>\r\n    <g id=\"line2d_26\">\r\n     <g>\r\n      <use style=\"fill:#d62728;stroke:#d62728;\" x=\"253.4\" xlink:href=\"#me20cd4e4db\" y=\"94.963437\"/>\r\n     </g>\r\n    </g>\r\n    <g id=\"text_22\">\r\n     <!-- rejections_statistic_u -->\r\n     <g transform=\"translate(271.4 98.463437)scale(0.1 -0.1)\">\r\n      <use xlink:href=\"#DejaVuSans-114\"/>\r\n      <use x=\"38.863281\" xlink:href=\"#DejaVuSans-101\"/>\r\n      <use x=\"100.386719\" xlink:href=\"#DejaVuSans-106\"/>\r\n      <use x=\"128.169922\" xlink:href=\"#DejaVuSans-101\"/>\r\n      <use x=\"189.693359\" xlink:href=\"#DejaVuSans-99\"/>\r\n      <use x=\"244.673828\" xlink:href=\"#DejaVuSans-116\"/>\r\n      <use x=\"283.882812\" xlink:href=\"#DejaVuSans-105\"/>\r\n      <use x=\"311.666016\" xlink:href=\"#DejaVuSans-111\"/>\r\n      <use x=\"372.847656\" xlink:href=\"#DejaVuSans-110\"/>\r\n      <use x=\"436.226562\" xlink:href=\"#DejaVuSans-115\"/>\r\n      <use x=\"488.326172\" xlink:href=\"#DejaVuSans-95\"/>\r\n      <use x=\"538.326172\" xlink:href=\"#DejaVuSans-115\"/>\r\n      <use x=\"590.425781\" xlink:href=\"#DejaVuSans-116\"/>\r\n      <use x=\"629.634766\" xlink:href=\"#DejaVuSans-97\"/>\r\n      <use x=\"690.914062\" xlink:href=\"#DejaVuSans-116\"/>\r\n      <use x=\"730.123047\" xlink:href=\"#DejaVuSans-105\"/>\r\n      <use x=\"757.90625\" xlink:href=\"#DejaVuSans-115\"/>\r\n      <use x=\"810.005859\" xlink:href=\"#DejaVuSans-116\"/>\r\n      <use x=\"849.214844\" xlink:href=\"#DejaVuSans-105\"/>\r\n      <use x=\"876.998047\" xlink:href=\"#DejaVuSans-99\"/>\r\n      <use x=\"931.978516\" xlink:href=\"#DejaVuSans-95\"/>\r\n      <use x=\"981.978516\" xlink:href=\"#DejaVuSans-117\"/>\r\n     </g>\r\n    </g>\r\n   </g>\r\n  </g>\r\n </g>\r\n <defs>\r\n  <clipPath id=\"p476e8acdd3\">\r\n   <rect height=\"217.44\" width=\"334.8\" x=\"50.14375\" y=\"22.318125\"/>\r\n  </clipPath>\r\n </defs>\r\n</svg>\r\n",
      "image/png": "[encoded data removed]"
     },
     "metadata": {
      "needs_background": "light"
     }
    }
   ],
   "source": [
    "fig, ax = plt.subplots()\n",
    "\n",
    "p = 0.5\n",
    "\n",
    "lines, = ax.plot(df_Binomial_WLOA['nr_nodes_1'].loc[(df_Binomial_WLOA['p_edge_1'] == p)], \n",
    "            df_Binomial_WLOA['rejections_b'].loc[(df_Binomial_WLOA['p_edge_1'] == p)], 'o', label='rejections_b')\n",
    "lines, = ax.plot(df_Binomial_WLOA['nr_nodes_1'].loc[(df_Binomial_WLOA['p_edge_1'] == p)], \n",
    "            df_Binomial_WLOA['rejections_u'].loc[(df_Binomial_WLOA['p_edge_1'] == p)], 'x', label='rejections_u')\n",
    "lines, = ax.plot(df_Binomial_WLOA['nr_nodes_1'].loc[(df_Binomial_WLOA['p_edge_1'] == p)], \n",
    "            df_Binomial_WLOA['rejections_statistic_b'].loc[(df_Binomial_WLOA['p_edge_1'] == p)], '*', label='rejections_statistic_b')\n",
    "lines, = ax.plot(df_Binomial_WLOA['nr_nodes_1'].loc[(df_Binomial_WLOA['p_edge_1'] == p)], \n",
    "            df_Binomial_WLOA['rejections_statistic_u'].loc[(df_Binomial_WLOA['p_edge_1'] == p)], '+', label='rejections_statistic_u')\n",
    "\n",
    "\n",
    "\n",
    "ax.legend(title = 'kernel')\n",
    "ax.set_title(\"Probability: \" + str(0.5 + (p-0.5)/2) + \" and \" + str(0.5 - (p-0.5)/2))\n",
    "ax.set_xlabel('Number of nodes')\n",
    "ax.set_ylabel('Power')\n",
    "plt.show()"
   ]
  },
  {
   "cell_type": "code",
   "execution_count": 55,
   "metadata": {},
   "outputs": [
    {
     "output_type": "stream",
     "name": "stdout",
     "text": [
      "timestamp = 2021-03-16 17:20:58.742771\n2021-03-16 17:20:58.742771\n"
     ]
    }
   ],
   "source": [
    "from datetime import datetime\n",
    "\n",
    "# current date and time\n",
    "now = datetime.now()\n",
    "\n",
    "timestamp = datetime.timestamp(now)\n",
    "print(\"timestamp =\", pd.Timestamp(now))\n",
    "print(pd.Timestamp(now))"
   ]
  },
  {
   "cell_type": "code",
   "execution_count": null,
   "metadata": {},
   "outputs": [],
   "source": []
  }
 ]
}