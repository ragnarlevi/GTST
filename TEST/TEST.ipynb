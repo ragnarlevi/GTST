{
 "cells": [
  {
   "cell_type": "code",
   "execution_count": 1,
   "metadata": {},
   "outputs": [],
   "source": [
    "import numpy as np\n",
    "import networkx as nx\n",
    "import sys\n",
    "import seaborn as sns\n",
    "import matplotlib.pyplot as plt\n",
    "sys.path.insert(0, 'C:/Users/User/Code/MMDGraph')\n",
    "sys.path.insert(0, 'C:/Users/User/Code/MMDGraph/MMDGraph/')\n",
    "import kernels.RandomWalk as rw\n",
    "import MMD\n",
    "import glasso"
   ]
  },
  {
   "cell_type": "markdown",
   "metadata": {},
   "source": [
    "# Test kernel"
   ]
  },
  {
   "cell_type": "code",
   "execution_count": 2,
   "metadata": {},
   "outputs": [
    {
     "data": {
      "text/plain": [
       "NodeDataView({0: None, 1: None, 2: None, 3: None, 4: None, 5: None, 6: None, 7: None, 8: None, 9: None, 10: None, 11: None, 12: None, 13: None, 14: None, 15: None, 16: None, 17: None, 18: None, 19: None, 20: None, 21: None, 22: None, 23: None, 24: None, 25: None, 26: None, 27: None, 28: None, 29: None}, data='asdf')"
      ]
     },
     "execution_count": 2,
     "metadata": {},
     "output_type": "execute_result"
    }
   ],
   "source": [
    "n1 = n2 = 50\n",
    "g1 = [nx.fast_gnp_random_graph(30,0.1) for _ in range(n1)]\n",
    "g2 = [nx.fast_gnp_random_graph(30,0.1) for _ in range(n2)]\n",
    "for j in range(len(g1)):\n",
    "    nx.set_node_attributes(g1[j], dict( ( (i, np.random.normal(loc = 0, scale = 0.1, size = (1,))) for i in range(len(g1[j])) ) ), 'attr')\n",
    "for j in range(len(g2)):\n",
    "    nx.set_node_attributes(g2[j], dict( ( (i, np.random.normal(loc = 0, scale = 0.1, size = (1,))) for i in range(len(g2[j])) ) ), 'attr')\n",
    "g1[0].nodes('asdf')"
   ]
  },
  {
   "cell_type": "markdown",
   "metadata": {},
   "source": [
    "Fit random walk kernel when H0 true"
   ]
  },
  {
   "cell_type": "code",
   "execution_count": 6,
   "metadata": {},
   "outputs": [
    {
     "name": "stderr",
     "output_type": "stream",
     "text": [
      "100%|██████████| 5050/5050.0 [00:00<00:00, 5428.89it/s]\n"
     ]
    },
    {
     "data": {
      "text/plain": [
       "{'MMD_u': 0.99}"
      ]
     },
     "execution_count": 6,
     "metadata": {},
     "output_type": "execute_result"
    }
   ],
   "source": [
    "n1 = n2 = 50\n",
    "\n",
    "rw_kernel = rw.RandomWalk(g1+g2, r = 4,c = 0.01)\n",
    "rw_kernel.fit(calc_type = \"ARKU_plus\", verbose = True)\n",
    "\n",
    "pval = MMD.BoostrapMethods(list_of_functions=[MMD.MMD_u], function_arguments={'MMD_u':dict(n1=n1, n2=n2)})\n",
    "pval.Bootstrap(rw_kernel.K, 100)\n",
    "pval.p_values"
   ]
  },
  {
   "cell_type": "code",
   "execution_count": 10,
   "metadata": {},
   "outputs": [
    {
     "name": "stderr",
     "output_type": "stream",
     "text": [
      "100%|██████████| 5050/5050.0 [00:00<00:00, 6540.04it/s]\n"
     ]
    },
    {
     "data": {
      "text/plain": [
       "{'MMD_u': 0.74}"
      ]
     },
     "execution_count": 10,
     "metadata": {},
     "output_type": "execute_result"
    }
   ],
   "source": [
    "n1 = n2 = 50\n",
    "g1 = [nx.fast_gnp_random_graph(30,0.1) for _ in range(n1)]\n",
    "g2 = [nx.fast_gnp_random_graph(30,0.1) for _ in range(n2)]\n",
    "\n",
    "rw_kernel = rw.RandomWalk(g1+g2, r = 3,c = 0.01)\n",
    "rw_kernel.fit(calc_type = \"ARKU_plus\", verbose = True)\n",
    "\n",
    "pval = MMD.BoostrapMethods(list_of_functions=[MMD.MMD_u], function_arguments={'MMD_u':dict(n1=n1, n2=n2)})\n",
    "pval.Bootstrap(rw_kernel.K, 100)\n",
    "pval.p_values"
   ]
  },
  {
   "cell_type": "markdown",
   "metadata": {},
   "source": [
    "# Fit when H1 true"
   ]
  },
  {
   "cell_type": "code",
   "execution_count": 2,
   "metadata": {},
   "outputs": [
    {
     "name": "stdout",
     "output_type": "stream",
     "text": [
      "Using label as node labels\n",
      "{'MMD_u': 0.0}\n"
     ]
    }
   ],
   "source": [
    "\n",
    "n1 = n2 = 50\n",
    "g1 = [nx.fast_gnp_random_graph(30,0.1) for _ in range(n1)]\n",
    "g2 = [nx.fast_gnp_random_graph(30,0.2) for _ in range(n2)]\n",
    "for j in range(len(g1)):\n",
    "    nx.set_node_attributes(g1[j], dict( ( (i, np.random.normal(loc = 0, scale = 0.1, size = (1,))) for i in range(len(g1[j])) ) ), 'attr')\n",
    "for j in range(len(g2)):\n",
    "    nx.set_node_attributes(g2[j], dict( ( (i, np.random.normal(loc = 0, scale = 0.1, size = (1,))) for i in range(len(g2[j])) ) ), 'attr')\n",
    "for j in range(len(g1)):\n",
    "    nx.set_node_attributes(g1[j],  {key: str(value) for key, value in dict(g1[j].degree).items()} , 'label')\n",
    "for j in range(len(g2)):\n",
    "    nx.set_node_attributes(g2[j], {key: str(value) for key, value in dict(g2[j].degree).items()}, 'label')\n",
    "\n",
    "# MMD_out = MMD.MMD()\n",
    "# MMD_out.fit(G1 = g1, G2 = g2, kernel = 'RW_ARKU_plus', mmd_estimators = 'MMD_u', r = 2, c = 0.01)\n",
    "# print(MMD_out.p_values)\n",
    "\n",
    "# MMD_out = MMD.MMD()\n",
    "# MMD_out.fit(G1 = g1, G2 = g2, kernel = 'GNTK', mmd_estimators = 'MMD_u', num_layers = 2, num_mlp_lauers = 2, jk = True, scale = 'uniform')\n",
    "# print(MMD_out.p_values)\n",
    "\n",
    "# MMD_out = MMD.MMD()\n",
    "# MMD_out.fit(G1 = g1, G2 = g2, kernel = 'WWL', mmd_estimators = 'MMD_u', discount = 0.1, h = 2, node_label = 'label')\n",
    "# print(MMD_out.p_values)\n",
    "\n",
    "\n",
    "kernel = [{\"name\": \"weisfeiler_lehman\", \"n_iter\": 1}, {\"name\": \"vertex_histogram\"}]\n",
    "MMD_out = MMD.MMD()\n",
    "MMD_out.fit(G1 = g1, G2 = g2, kernel = kernel, mmd_estimators = 'MMD_u', discount = 0.1, h = 2, node_label = 'label')\n",
    "print(MMD_out.p_values)\n",
    "\n",
    "\n"
   ]
  },
  {
   "cell_type": "markdown",
   "metadata": {},
   "source": [
    "Fit when H0 true"
   ]
  },
  {
   "cell_type": "code",
   "execution_count": null,
   "metadata": {},
   "outputs": [],
   "source": [
    "self."
   ]
  },
  {
   "cell_type": "code",
   "execution_count": 12,
   "metadata": {},
   "outputs": [
    {
     "data": {
      "text/plain": [
       "{'MMD_u': 0.021, 'MMD_l': 0.389}"
      ]
     },
     "execution_count": 12,
     "metadata": {},
     "output_type": "execute_result"
    }
   ],
   "source": [
    "\n",
    "n1 = n2 = 50\n",
    "g1 = [nx.fast_gnp_random_graph(30,0.1) for _ in range(n1)]\n",
    "g2 = [nx.fast_gnp_random_graph(30,0.1) for _ in range(n2)]\n",
    "\n",
    "\n",
    "MMD_out = MMD.MMD()\n",
    "MMD_out.fit(G1 = g1, G2 = g2, kernel = 'RW_ARKU_plus', mmd_estimators = ['MMD_u', 'MMD_l'], r = 2, c = 0.01)\n",
    "MMD_out.p_values\n"
   ]
  },
  {
   "cell_type": "code",
   "execution_count": 13,
   "metadata": {},
   "outputs": [
    {
     "data": {
      "text/plain": [
       "<AxesSubplot:>"
      ]
     },
     "execution_count": 13,
     "metadata": {},
     "output_type": "execute_result"
    },
    {
     "data": {
      "image/png": "[encoded data removed]",
      "text/plain": [
       "<Figure size 432x288 with 2 Axes>"
      ]
     },
     "metadata": {
      "needs_background": "light"
     },
     "output_type": "display_data"
    }
   ],
   "source": [
    "sns.heatmap(rw_kernel.K)"
   ]
  },
  {
   "cell_type": "markdown",
   "metadata": {},
   "source": [
    "# random test"
   ]
  },
  {
   "cell_type": "code",
   "execution_count": 6,
   "metadata": {},
   "outputs": [
    {
     "data": {
      "text/plain": [
       "array([0.68088889, 0.3552771 , 0.2762366 , 0.70857636])"
      ]
     },
     "execution_count": 6,
     "metadata": {},
     "output_type": "execute_result"
    }
   ],
   "source": [
    "true_cov = np.array([[0.8, 0.0, 0.2, 0.0],\n",
    "                      [0.0, 0.4, 0.0, 0.0],\n",
    "                      [0.2, 0.0, 0.3, 0.1],\n",
    "                      [0.0, 0.0, 0.1, 0.7]])\n",
    "X = np.random.multivariate_normal(np.zeros(4),true_cov, size = 500)\n",
    "np.var(X,axis = 0)"
   ]
  },
  {
   "cell_type": "code",
   "execution_count": 7,
   "metadata": {},
   "outputs": [],
   "source": [
    "out = glasso.glasso_wrapper(alpha =np.exp(np.linspace(-10,1,100)), beta = 0.5, nonparanormal=True ).fit(X)"
   ]
  },
  {
   "cell_type": "code",
   "execution_count": 8,
   "metadata": {},
   "outputs": [
    {
     "name": "stdout",
     "output_type": "stream",
     "text": [
      "47\n"
     ]
    },
    {
     "data": {
      "text/plain": [
       "[<matplotlib.lines.Line2D at 0x1cfef31f340>]"
      ]
     },
     "execution_count": 8,
     "metadata": {},
     "output_type": "execute_result"
    },
    {
     "data": {
      "image/png": "[encoded data removed]",
      "text/plain": [
       "<Figure size 432x288 with 1 Axes>"
      ]
     },
     "metadata": {
      "needs_background": "light"
     },
     "output_type": "display_data"
    }
   ],
   "source": [
    "print(out.best_index)\n",
    "plt.plot(np.log(out.alpha), out.ebic_vals)"
   ]
  },
  {
   "cell_type": "code",
   "execution_count": 9,
   "metadata": {},
   "outputs": [
    {
     "data": {
      "text/plain": [
       "array([[0.65192444, 0.        , 0.15039133, 0.03606201],\n",
       "       [0.        , 0.34016391, 0.        , 0.        ],\n",
       "       [0.15039133, 0.        , 0.26448572, 0.12466011],\n",
       "       [0.03606201, 0.        , 0.12466011, 0.67843411]])"
      ]
     },
     "execution_count": 9,
     "metadata": {},
     "output_type": "execute_result"
    }
   ],
   "source": [
    "out.covariance_"
   ]
  },
  {
   "cell_type": "code",
   "execution_count": null,
   "metadata": {},
   "outputs": [],
   "source": [
    "out.precision_"
   ]
  },
  {
   "cell_type": "code",
   "execution_count": 10,
   "metadata": {},
   "outputs": [
    {
     "data": {
      "text/plain": [
       "-1977.1757362826445"
      ]
     },
     "execution_count": 10,
     "metadata": {},
     "output_type": "execute_result"
    }
   ],
   "source": [
    "out.log_lik(out.emp_mean, true_cov)"
   ]
  },
  {
   "cell_type": "code",
   "execution_count": 11,
   "metadata": {},
   "outputs": [
    {
     "data": {
      "text/plain": [
       "6"
      ]
     },
     "execution_count": 11,
     "metadata": {},
     "output_type": "execute_result"
    }
   ],
   "source": [
    "n_edges = np.sum(np.abs(true_cov[np.triu_indices(X.shape[1])]) > 0)\n",
    "n_edges\n",
    "\n"
   ]
  },
  {
   "cell_type": "code",
   "execution_count": 77,
   "metadata": {},
   "outputs": [
    {
     "data": {
      "text/plain": [
       "40.87116752898926"
      ]
     },
     "execution_count": 77,
     "metadata": {},
     "output_type": "execute_result"
    }
   ],
   "source": [
    "np.log(X.shape[0])*n_edges + 4*out.beta*np.log(n_edges)"
   ]
  },
  {
   "cell_type": "code",
   "execution_count": 70,
   "metadata": {},
   "outputs": [
    {
     "data": {
      "text/plain": [
       "-2096.7447343364615"
      ]
     },
     "execution_count": 70,
     "metadata": {},
     "output_type": "execute_result"
    }
   ],
   "source": [
    "out.log_lik(out.emp_mean, out.covariance_)"
   ]
  },
  {
   "cell_type": "code",
   "execution_count": 40,
   "metadata": {},
   "outputs": [
    {
     "data": {
      "text/plain": [
       "4"
      ]
     },
     "execution_count": 40,
     "metadata": {},
     "output_type": "execute_result"
    }
   ],
   "source": [
    "np.sum(np.abs(out.covariance_) > 0)"
   ]
  }
 ],
 "metadata": {
  "kernelspec": {
   "display_name": "Python 3.8.5",
   "language": "python",
   "name": "python3"
  },
  "language_info": {
   "codemirror_mode": {
    "name": "ipython",
    "version": 3
   },
   "file_extension": ".py",
   "mimetype": "text/x-python",
   "name": "python",
   "nbconvert_exporter": "python",
   "pygments_lexer": "ipython3",
   "version": "3.8.5"
  },
  "orig_nbformat": 4,
  "vscode": {
   "interpreter": {
    "hash": "e5751a66115cca13560cf37aeeed4243eac6d0108f8b06b399eb3b36d8bd3124"
   }
  }
 },
 "nbformat": 4,
 "nbformat_minor": 2
}
